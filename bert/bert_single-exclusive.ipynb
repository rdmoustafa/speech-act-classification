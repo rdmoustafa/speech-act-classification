{
 "cells": [
  {
   "cell_type": "code",
   "outputs": [],
   "source": [
    "import pandas as pd\n",
    "import torch\n",
    "import torch.nn as nn\n",
    "import torch.optim as optim\n",
    "from sklearn.model_selection import train_test_split\n",
    "from sklearn.metrics import classification_report\n",
    "from transformers import BertTokenizer, BertModel\n",
    "from torch.utils.data import TensorDataset, DataLoader\n",
    "from sklearn.preprocessing import LabelEncoder"
   ],
   "metadata": {
    "collapsed": false
   },
   "id": "ff1ab51a8ec7b387"
  },
  {
   "cell_type": "code",
   "outputs": [],
   "source": [
    "class BERTClassifier(nn.Module):\n",
    "    def __init__(self, bert_model, output_dim):\n",
    "        super(BERTClassifier, self).__init__()\n",
    "        self.bert = bert_model\n",
    "        self.dropout = nn.Dropout(0.1)\n",
    "        self.linear = nn.Linear(bert_model.config.hidden_size, output_dim)\n",
    "\n",
    "    def forward(self, input_ids, attention_mask):\n",
    "        outputs = self.bert(input_ids, attention_mask=attention_mask)\n",
    "        pooled_output = outputs[1]\n",
    "        pooled_output = self.dropout(pooled_output)\n",
    "        logits = self.linear(pooled_output)\n",
    "        return logits"
   ],
   "metadata": {
    "collapsed": false
   },
   "id": "ab110bdcc2e6b88c"
  },
  {
   "cell_type": "code",
   "outputs": [],
   "source": [
    "from sklearn.feature_extraction.text import TfidfVectorizer\n",
    "\n",
    "# Load data from CSV\n",
    "data = pd.read_csv(\"../data/adjusted-labels-prioritised-importance.csv\")\n",
    "data = data[data[\"Label\"] != \"Other\"]\n",
    "\n",
    "sentences = data['Sentence'].values\n",
    "labels = data[\"Label\"].values\n",
    "\n",
    "vectorizer = TfidfVectorizer()\n",
    "X = vectorizer.fit_transform(sentences).toarray()\n",
    "\n",
    "# Split data into train and test sets\n",
    "train_texts, test_texts, train_labels, test_labels = train_test_split(data['Sentence'], data['Label'], test_size=0.2, random_state=47)\n",
    "\n",
    "# Tokenize texts using BERT tokenizer\n",
    "tokenizer = BertTokenizer.from_pretrained('bert-base-uncased', do_lower_case=True)\n",
    "train_encodings = tokenizer(list(train_texts), truncation=True, padding=True, return_tensors='pt', max_length=512)\n",
    "test_encodings = tokenizer(list(test_texts), truncation=True, padding=True, return_tensors='pt', max_length=512)\n",
    "\n",
    "# Convert labels to tensors\n",
    "label_encoder = LabelEncoder()\n",
    "train_labels = torch.tensor(label_encoder.fit_transform(train_labels))\n",
    "test_labels = torch.tensor(label_encoder.transform(test_labels))\n",
    "\n",
    "# Convert input encodings to tensors\n",
    "train_input_ids = train_encodings['input_ids']\n",
    "train_attention_masks = train_encodings['attention_mask']\n",
    "test_input_ids = test_encodings['input_ids']\n",
    "test_attention_masks = test_encodings['attention_mask']\n",
    "\n",
    "# Define DataLoader\n",
    "train_dataset = TensorDataset(train_input_ids, train_attention_masks, train_labels)\n",
    "test_dataset = TensorDataset(test_input_ids, test_attention_masks, test_labels)\n",
    "\n",
    "batch_size = 32\n",
    "train_loader = DataLoader(train_dataset, batch_size=batch_size, shuffle=True)\n",
    "test_loader = DataLoader(test_dataset, batch_size=batch_size, shuffle=False)"
   ],
   "metadata": {
    "collapsed": false
   },
   "id": "4a3226c50fe8d525"
  },
  {
   "cell_type": "code",
   "outputs": [],
   "source": [
    "# Load pre-trained BERT model\n",
    "bert_model = BertModel.from_pretrained('bert-base-uncased')\n",
    "\n",
    "# Freeze BERT parameters\n",
    "for param in bert_model.parameters():\n",
    "    param.requires_grad = False\n",
    "\n",
    "# Define and initialize classifier\n",
    "output_dim = len(set(train_labels.tolist()))\n",
    "model = BERTClassifier(bert_model, output_dim)\n",
    "device = torch.device('cuda' if torch.cuda.is_available() else 'cpu')\n",
    "model = model.to(device)"
   ],
   "metadata": {
    "collapsed": false
   },
   "id": "e1df28f77adb17b4"
  },
  {
   "cell_type": "code",
   "outputs": [],
   "source": [
    "# Define loss function and optimizer\n",
    "learning_rate = 0.01\n",
    "criterion = nn.CrossEntropyLoss()\n",
    "optimizer = optim.Adam(model.parameters(), lr=learning_rate)"
   ],
   "metadata": {
    "collapsed": false
   },
   "id": "8180f9c9b4cbed0c"
  },
  {
   "cell_type": "code",
   "outputs": [],
   "source": [
    "# Training loop\n",
    "num_epochs = 100\n",
    "for epoch in range(num_epochs):\n",
    "    model.train()\n",
    "    running_loss = 0.0\n",
    "    for input_ids, attention_mask, labels in train_loader:\n",
    "        input_ids = input_ids.to(device)\n",
    "        attention_mask = attention_mask.to(device)\n",
    "        labels = labels.to(device)\n",
    "\n",
    "        optimizer.zero_grad()\n",
    "        outputs = model(input_ids, attention_mask)\n",
    "        loss = criterion(outputs, labels)\n",
    "        loss.backward()\n",
    "        optimizer.step()\n",
    "\n",
    "        running_loss += loss.item()\n",
    "\n",
    "    epoch_loss = running_loss / len(train_loader)\n",
    "    print(f\"Epoch {epoch+1}/{num_epochs}, Loss: {epoch_loss:.4f}\")"
   ],
   "metadata": {
    "collapsed": false
   },
   "id": "1f2c1ef19e24e48c"
  },
  {
   "cell_type": "code",
   "outputs": [],
   "source": [
    "# Evaluation\n",
    "model.eval()\n",
    "all_preds = []\n",
    "all_labels = []\n",
    "\n",
    "with torch.no_grad():\n",
    "    for input_ids, attention_mask, labels in test_loader:\n",
    "        input_ids = input_ids.to(device)\n",
    "        attention_mask = attention_mask.to(device)\n",
    "        labels = labels.to(device)\n",
    "\n",
    "        outputs = model(input_ids, attention_mask)\n",
    "        _, preds = torch.max(outputs, 1)\n",
    "\n",
    "        all_preds.extend(preds.cpu().numpy())\n",
    "        all_labels.extend(labels.cpu().numpy())\n",
    "\n",
    "# Decode label encodings\n",
    "all_preds = label_encoder.inverse_transform(all_preds)\n",
    "all_labels = label_encoder.inverse_transform(all_labels)\n",
    "\n",
    "# Classification report\n",
    "print(\"Classification Report\")\n",
    "print(f\"Cross Entropy, Learning Rate: {learning_rate} Epochs: {num_epochs}, Batch Size: {batch_size}\")\n",
    "print(classification_report(all_labels, all_preds))"
   ],
   "metadata": {
    "collapsed": false
   },
   "id": "5ed38fdfe051d26c"
  }
 ],
 "metadata": {
  "kernelspec": {
   "display_name": "Python 3",
   "language": "python",
   "name": "python3"
  },
  "language_info": {
   "codemirror_mode": {
    "name": "ipython",
    "version": 2
   },
   "file_extension": ".py",
   "mimetype": "text/x-python",
   "name": "python",
   "nbconvert_exporter": "python",
   "pygments_lexer": "ipython2",
   "version": "2.7.6"
  }
 },
 "nbformat": 4,
 "nbformat_minor": 5
}
