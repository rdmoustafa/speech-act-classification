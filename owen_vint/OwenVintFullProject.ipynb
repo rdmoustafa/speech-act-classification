{
 "cells": [
  {
   "cell_type": "code",
   "execution_count": 20,
   "metadata": {
    "ExecuteTime": {
     "end_time": "2023-11-26T19:46:48.112478Z",
     "start_time": "2023-11-26T19:46:47.385270Z"
    }
   },
   "outputs": [],
   "source": [
    "#all the required imports\n",
    "import spacy\n",
    "import pandas as pd\n",
    "import os\n",
    "import re, string\n",
    "import warnings\n",
    "import plotly.express as px\n",
    "import random\n",
    "import plotly.graph_objs as go\n",
    "from plotly.offline import iplot\n",
    "warnings.simplefilter(action='ignore', category=FutureWarning)\n",
    "pd.options.plotting.backend = \"plotly\""
   ]
  },
  {
   "cell_type": "code",
   "execution_count": 21,
   "metadata": {
    "ExecuteTime": {
     "end_time": "2023-11-26T19:46:48.473972Z",
     "start_time": "2023-11-26T19:46:47.390175Z"
    }
   },
   "outputs": [],
   "source": [
    "#load the english spacy mode\n",
    "nlp = spacy.load('en_core_web_sm')"
   ]
  },
  {
   "cell_type": "code",
   "execution_count": 22,
   "metadata": {
    "ExecuteTime": {
     "end_time": "2023-11-26T19:46:48.494217Z",
     "start_time": "2023-11-26T19:46:48.110361Z"
    }
   },
   "outputs": [],
   "source": [
    "#read in the three acts\n",
    "act_one_df = pd.read_csv('TwelveAngrySceneOne.csv', encoding= 'unicode_escape') \n",
    "act_two_df = pd.read_csv('TwelveAngrySceneTwo.csv', encoding= 'unicode_escape') \n",
    "act_three_df = pd.read_csv('TwelveAngrySceneThree.csv', encoding= 'unicode_escape') "
   ]
  },
  {
   "cell_type": "code",
   "execution_count": 23,
   "metadata": {
    "ExecuteTime": {
     "end_time": "2023-11-26T19:46:48.494795Z",
     "start_time": "2023-11-26T19:46:48.137100Z"
    }
   },
   "outputs": [
    {
     "ename": "AttributeError",
     "evalue": "'DataFrame' object has no attribute 'Utterance'",
     "output_type": "error",
     "traceback": [
      "\u001B[0;31m---------------------------------------------------------------------------\u001B[0m",
      "\u001B[0;31mAttributeError\u001B[0m                            Traceback (most recent call last)",
      "\u001B[0;32m/var/folders/2v/6z4hlw0j76nfqhzc09kw2s_h0000gn/T/ipykernel_24598/1143114869.py\u001B[0m in \u001B[0;36m?\u001B[0;34m()\u001B[0m\n\u001B[1;32m      1\u001B[0m \u001B[0;31m#strip any whitetext from the end of the text\u001B[0m\u001B[0;34m\u001B[0m\u001B[0;34m\u001B[0m\u001B[0m\n\u001B[0;32m----> 2\u001B[0;31m \u001B[0mact_one_df\u001B[0m\u001B[0;34m.\u001B[0m\u001B[0mUtterance\u001B[0m \u001B[0;34m=\u001B[0m \u001B[0mact_one_df\u001B[0m\u001B[0;34m.\u001B[0m\u001B[0mUtterance\u001B[0m\u001B[0;34m.\u001B[0m\u001B[0mstr\u001B[0m\u001B[0;34m.\u001B[0m\u001B[0mlstrip\u001B[0m\u001B[0;34m(\u001B[0m\u001B[0;34m)\u001B[0m\u001B[0;34m\u001B[0m\u001B[0;34m\u001B[0m\u001B[0m\n\u001B[0m\u001B[1;32m      3\u001B[0m \u001B[0mact_two_df\u001B[0m\u001B[0;34m.\u001B[0m\u001B[0mUtterance\u001B[0m \u001B[0;34m=\u001B[0m \u001B[0mact_two_df\u001B[0m\u001B[0;34m.\u001B[0m\u001B[0mUtterance\u001B[0m\u001B[0;34m.\u001B[0m\u001B[0mstr\u001B[0m\u001B[0;34m.\u001B[0m\u001B[0mlstrip\u001B[0m\u001B[0;34m(\u001B[0m\u001B[0;34m)\u001B[0m\u001B[0;34m\u001B[0m\u001B[0;34m\u001B[0m\u001B[0m\n\u001B[1;32m      4\u001B[0m \u001B[0mact_three_df\u001B[0m\u001B[0;34m.\u001B[0m\u001B[0mUtterance\u001B[0m \u001B[0;34m=\u001B[0m \u001B[0mact_three_df\u001B[0m\u001B[0;34m.\u001B[0m\u001B[0mUtterance\u001B[0m\u001B[0;34m.\u001B[0m\u001B[0mstr\u001B[0m\u001B[0;34m.\u001B[0m\u001B[0mlstrip\u001B[0m\u001B[0;34m(\u001B[0m\u001B[0;34m)\u001B[0m\u001B[0;34m\u001B[0m\u001B[0;34m\u001B[0m\u001B[0m\n",
      "\u001B[0;32m~/Desktop/Coding/University_Projects/FYP_Speech_Acts/venv/lib/python3.11/site-packages/pandas/core/generic.py\u001B[0m in \u001B[0;36m?\u001B[0;34m(self, name)\u001B[0m\n\u001B[1;32m   6200\u001B[0m             \u001B[0;32mand\u001B[0m \u001B[0mname\u001B[0m \u001B[0;32mnot\u001B[0m \u001B[0;32min\u001B[0m \u001B[0mself\u001B[0m\u001B[0;34m.\u001B[0m\u001B[0m_accessors\u001B[0m\u001B[0;34m\u001B[0m\u001B[0;34m\u001B[0m\u001B[0m\n\u001B[1;32m   6201\u001B[0m             \u001B[0;32mand\u001B[0m \u001B[0mself\u001B[0m\u001B[0;34m.\u001B[0m\u001B[0m_info_axis\u001B[0m\u001B[0;34m.\u001B[0m\u001B[0m_can_hold_identifiers_and_holds_name\u001B[0m\u001B[0;34m(\u001B[0m\u001B[0mname\u001B[0m\u001B[0;34m)\u001B[0m\u001B[0;34m\u001B[0m\u001B[0;34m\u001B[0m\u001B[0m\n\u001B[1;32m   6202\u001B[0m         ):\n\u001B[1;32m   6203\u001B[0m             \u001B[0;32mreturn\u001B[0m \u001B[0mself\u001B[0m\u001B[0;34m[\u001B[0m\u001B[0mname\u001B[0m\u001B[0;34m]\u001B[0m\u001B[0;34m\u001B[0m\u001B[0;34m\u001B[0m\u001B[0m\n\u001B[0;32m-> 6204\u001B[0;31m         \u001B[0;32mreturn\u001B[0m \u001B[0mobject\u001B[0m\u001B[0;34m.\u001B[0m\u001B[0m__getattribute__\u001B[0m\u001B[0;34m(\u001B[0m\u001B[0mself\u001B[0m\u001B[0;34m,\u001B[0m \u001B[0mname\u001B[0m\u001B[0;34m)\u001B[0m\u001B[0;34m\u001B[0m\u001B[0;34m\u001B[0m\u001B[0m\n\u001B[0m",
      "\u001B[0;31mAttributeError\u001B[0m: 'DataFrame' object has no attribute 'Utterance'"
     ]
    }
   ],
   "source": [
    "#strip any whitetext from the end of the text\n",
    "act_one_df.Utterance = act_one_df.Utterance.str.lstrip()\n",
    "act_two_df.Utterance = act_two_df.Utterance.str.lstrip()\n",
    "act_three_df.Utterance = act_three_df.Utterance.str.lstrip()"
   ]
  },
  {
   "cell_type": "code",
   "execution_count": null,
   "metadata": {
    "ExecuteTime": {
     "start_time": "2023-11-26T19:46:48.150839Z"
    }
   },
   "outputs": [],
   "source": [
    "format = {'Speaker': [], 'Utterance': []}"
   ]
  },
  {
   "cell_type": "code",
   "execution_count": null,
   "metadata": {
    "ExecuteTime": {
     "start_time": "2023-11-26T19:46:48.155335Z"
    }
   },
   "outputs": [],
   "source": [
    "split_frame = pd.DataFrame(data=format)"
   ]
  },
  {
   "cell_type": "code",
   "execution_count": null,
   "metadata": {
    "ExecuteTime": {
     "start_time": "2023-11-26T19:46:48.160765Z"
    }
   },
   "outputs": [],
   "source": [
    "#reformat the data so that each sentence is on a new line.\n",
    "def split_text(df):\n",
    "    split_frame = pd.DataFrame(data=format)\n",
    "    text = df.Utterance\n",
    "    for x in range(0,len(df)):\n",
    "        splitText = text[x]\n",
    "        delimiters = \"?\", \".\", \"!\"\n",
    "        example = splitText\n",
    "        regexPattern = '|'.join('(?<={})'.format(re.escape(delim)) for delim in delimiters)\n",
    "        splitArray = re.split(regexPattern, example)\n",
    "        for sentence in splitArray:\n",
    "            newRow = {'Speaker' : df.Speaker[x], 'Utterance' : sentence}\n",
    "            split_frame = split_frame.append(newRow,ignore_index=True)\n",
    "    return split_frame   "
   ]
  },
  {
   "cell_type": "code",
   "execution_count": null,
   "metadata": {
    "ExecuteTime": {
     "start_time": "2023-11-26T19:46:48.165301Z"
    }
   },
   "outputs": [],
   "source": [
    "#above method modified from https://stackoverflow.com/questions/4998629/split-string-with-multiple-delimiters-in-python"
   ]
  },
  {
   "cell_type": "code",
   "execution_count": null,
   "metadata": {
    "ExecuteTime": {
     "start_time": "2023-11-26T19:46:48.169891Z"
    }
   },
   "outputs": [],
   "source": [
    "text_one_split = split_text(act_one_df)\n",
    "text_two_split = split_text(act_two_df)\n",
    "text_three_split = split_text(act_three_df)"
   ]
  },
  {
   "cell_type": "code",
   "execution_count": null,
   "metadata": {
    "ExecuteTime": {
     "start_time": "2023-11-26T19:46:48.174388Z"
    }
   },
   "outputs": [],
   "source": [
    "text_one_split"
   ]
  },
  {
   "cell_type": "code",
   "execution_count": null,
   "metadata": {
    "ExecuteTime": {
     "start_time": "2023-11-26T19:46:48.177930Z"
    }
   },
   "outputs": [],
   "source": [
    "text_two_split"
   ]
  },
  {
   "cell_type": "code",
   "execution_count": null,
   "metadata": {
    "ExecuteTime": {
     "start_time": "2023-11-26T19:46:48.181169Z"
    }
   },
   "outputs": [],
   "source": [
    "text_three_split"
   ]
  },
  {
   "cell_type": "code",
   "execution_count": null,
   "metadata": {
    "ExecuteTime": {
     "start_time": "2023-11-26T19:46:48.184293Z"
    }
   },
   "outputs": [],
   "source": [
    "#strip the whitespace from the end of the text again\n",
    "text_one_split.Utterance = text_one_split.Utterance.str.lstrip()\n",
    "text_two_split.Utterance = text_two_split.Utterance.str.lstrip()\n",
    "text_three_split.Utterance = text_three_split.Utterance.str.lstrip()\n",
    "#remove the empty rows that are formed after the fullstops\n",
    "text_one_formatted = text_one_split[text_one_split.Utterance != '']\n",
    "text_two_formatted = text_two_split[text_two_split.Utterance != '']\n",
    "text_three_formatted = text_three_split[text_three_split.Utterance != '']\n",
    "#reset the index so there are no empty rows\n",
    "text_one_formatted.reset_index(drop=True,inplace=True)\n",
    "text_two_formatted.reset_index(drop=True,inplace=True)\n",
    "text_three_formatted.reset_index(drop=True,inplace=True)"
   ]
  },
  {
   "cell_type": "code",
   "execution_count": null,
   "metadata": {
    "ExecuteTime": {
     "start_time": "2023-11-26T19:46:48.187593Z"
    }
   },
   "outputs": [],
   "source": [
    "#wh/open question definition\n",
    "def is_wh_question_text(doc):\n",
    "    wh_tags = [\"WDT\", \"WP\", \"WP$\", \"WRB\"]\n",
    "    wh_words = [t for t in doc if t.tag_ in wh_tags]\n",
    "    is_wh = wh_words \n",
    "\n",
    "    return is_wh"
   ]
  },
  {
   "cell_type": "code",
   "execution_count": null,
   "metadata": {
    "ExecuteTime": {
     "start_time": "2023-11-26T19:46:48.191862Z"
    }
   },
   "outputs": [],
   "source": [
    "#polar questions\n",
    "def is_polar_text(doc):\n",
    "    root = [t for t in doc if t.dep_ == \"ROOT\"][0]\n",
    "    subj = [t for t in root.children if is_subject(t)]\n",
    "\n",
    "    if is_wh_question_text(doc):\n",
    "        return False\n",
    "    #'is' is an aux\n",
    "    aux = [t for t in root.lefts if t.dep_ == \"aux\"]\n",
    "    if subj and aux:\n",
    "        return aux[0] < subj[0]\n",
    "\n",
    "    #'is' is the main verb\n",
    "    is_main_verb = root.pos_ == \"VERB\" \n",
    "    if subj and is_main_verb:\n",
    "        return root < subj[0]\n",
    "\n",
    "    return False"
   ]
  },
  {
   "cell_type": "code",
   "execution_count": null,
   "metadata": {
    "ExecuteTime": {
     "start_time": "2023-11-26T19:46:48.195160Z"
    }
   },
   "outputs": [],
   "source": [
    "#two methods above inspired and modified from https://towardsdatascience.com/linguistic-rule-writing-for-nlp-ml-64d9af824ee8"
   ]
  },
  {
   "cell_type": "code",
   "execution_count": null,
   "metadata": {
    "ExecuteTime": {
     "start_time": "2023-11-26T19:46:48.198530Z"
    }
   },
   "outputs": [],
   "source": [
    "#opinion definition\n",
    "def is_opinion_text(sent, doc):\n",
    "    \n",
    "    personal = [\"i\", \"we\", \"myself\",\"i've\",\"i have\", \"i'd\", \"me\", \"i'll\", \"we're\", \"we've\", \"we'd\",\"our\",\"i'm\"]\n",
    "    phrases = [\"agree\", \"disagree\", \"believe\",\"my opinion\", \"point of view\",\"think\", \"should\", \"don't know\", \"thought\",\"believed\"\n",
    "               ,\"agreed\", \"disagreed\", \"should've\",\"like\",\"dislike\",\"love\"]\n",
    "    in_text_personal = False\n",
    "    in_text_phrase = False\n",
    "    #remove fullstop for string search\n",
    "    for char in sent:\n",
    "        if char in \".\":\n",
    "            sent = sent.replace(char,'') \n",
    "    words = sent.split() \n",
    "    #looks for personal words in text\n",
    "    for person in personal:\n",
    "        if person in words: \n",
    "            in_text_personal = True\n",
    "    \n",
    "    #look for opinion phrases in text\n",
    "    for phrase in phrases:\n",
    "        if phrase in words: \n",
    "            in_text_phrase = True\n",
    "            \n",
    "    #if both true then return true    \n",
    "    if in_text_personal == True and in_text_phrase == True:\n",
    "        return True\n",
    "    return False"
   ]
  },
  {
   "cell_type": "code",
   "execution_count": null,
   "metadata": {
    "ExecuteTime": {
     "start_time": "2023-11-26T19:46:48.202026Z"
    }
   },
   "outputs": [],
   "source": [
    "#personal statement definition\n",
    "def is_first_person_text(sent, doc):\n",
    "    personal = [\"i\", \"we\", \"myself\",\"i've\",\"i have\", \"i'd\", \"me\", \"i'll\", \"we're\", \"we've\", \"we'd\",\"our\",\"i'm\"]\n",
    "    is_personal = False\n",
    "    is_noun = False\n",
    "    is_verb = False\n",
    "    is_adj = False\n",
    "    is_adverb = False\n",
    "    #remove fullstop for string search\n",
    "    #sent = sent.translate(str.maketrans('', '', string.punctuation))\n",
    "    for char in sent:\n",
    "        if char in \".\":\n",
    "            sent = sent.replace(char,'')\n",
    "    #look for nouns, verb, adverb and adjectives in text\n",
    "    for token in doc: \n",
    "        if token.pos_ == \"NOUN\":\n",
    "            is_noun = True\n",
    "        if token.pos_ == \"VERB\":\n",
    "            is_verb = True\n",
    "        if token.pos_ == \"ADJ\":\n",
    "            is_adj = True\n",
    "    words = sent.split() \n",
    "    #looks for personal words in text\n",
    "    for person in personal:     \n",
    "        if person in words:\n",
    "            is_personal = True\n",
    "    #if personal word and one of the other then return true\n",
    "    return is_personal and (is_noun or is_verb or is_adj)"
   ]
  },
  {
   "cell_type": "code",
   "execution_count": null,
   "metadata": {
    "ExecuteTime": {
     "start_time": "2023-11-26T19:46:48.205399Z"
    }
   },
   "outputs": [],
   "source": [
    "#other statement definition\n",
    "def is_other_statement_text(sent,doc):\n",
    "    is_personal = False\n",
    "    for token in doc:\n",
    "        if (token.pos_ == \"NOUN\") or (token.pos_ ==\"PRON\") or (token.pos_ == \"DET\"):\n",
    "            is_personal = True\n",
    "    #if about themselves or someone or something else then return false else return true\n",
    "    if is_personal == False:\n",
    "        return True\n",
    "    else:\n",
    "        return False    "
   ]
  },
  {
   "cell_type": "code",
   "execution_count": null,
   "metadata": {
    "ExecuteTime": {
     "start_time": "2023-11-26T19:46:48.208586Z"
    }
   },
   "outputs": [],
   "source": [
    "#statement about others definition\n",
    "def is_non_first_person_text(sent, doc):\n",
    "    personal = [\"i\", \"we\", \"myself\",\"i've\",\"i have\", \"i'd\", \"me\", \"i'll\", \"we're\", \"we've\", \"we'd\",\"our\",\"i'm\"]\n",
    "    is_personal = False\n",
    "    is_noun = False\n",
    "    is_pron = False\n",
    "    is_adj = False\n",
    "    is_verb = False\n",
    "    is_det = False\n",
    "    for char in sent:\n",
    "        if char in \".\":\n",
    "            sent = sent.replace(char,'')\n",
    "    for token in doc:\n",
    "        if token.pos_ == \"NOUN\":\n",
    "            is_noun = True\n",
    "        if token.pos_ == \"PRON\":\n",
    "            is_pron = True\n",
    "        if token.pos_ == \"VERB\":\n",
    "            is_verb = True\n",
    "        if token.pos_ == \"ADJ\":\n",
    "            is_adj = True\n",
    "        if token.pos_ == \"DET\":\n",
    "            is_det = True\n",
    "    words = sent.split() \n",
    "    for person in personal:     \n",
    "        if person in words:\n",
    "            is_personal = True\n",
    "    #if not about themselves and has one of the others then return true       \n",
    "    if is_personal == False and (is_noun == True or is_pron == True or is_adj or is_det):\n",
    "        return True\n",
    "    return False"
   ]
  },
  {
   "cell_type": "code",
   "execution_count": null,
   "metadata": {
    "ExecuteTime": {
     "start_time": "2023-11-26T19:46:48.211689Z"
    }
   },
   "outputs": [],
   "source": [
    "#not used but was experimentation for a potential commitment speech act\n",
    "def commitment(doc):\n",
    "    is_personal = False\n",
    "    pos_personal = 0\n",
    "    is_noun = False\n",
    "    pos_noun = 0\n",
    "    is_verb = False\n",
    "    pos_verb = 0\n",
    "    is_aux = False\n",
    "    pos_aux = 0\n",
    "    counter = 0\n",
    "    for token in doc:\n",
    "        if token.pos_ == \"AUX\":\n",
    "            is_aux = True\n",
    "            if pos_aux == 0:\n",
    "                pos_aux = counter\n",
    "        if token.pos_ == \"PRON\":\n",
    "            is_personal = True\n",
    "            if pos_personal == 0:\n",
    "                pos_personal = counter\n",
    "        if token.pos_ == \"NOUN\":\n",
    "            is_noun = True\n",
    "            if pos_noun == 0:\n",
    "                pos_noun = counter   \n",
    "        if token.pos_ == \"VERB\":\n",
    "            is_verb = True\n",
    "            if pos_verb == 0:\n",
    "                pos_verb = counter\n",
    "        counter = counter + 1\n",
    "    if (is_noun == True and is_personal == True and is_verb == True) and (pos_personal < pos_verb and pos_aux < pos_verb and pos_verb < pos_noun):\n",
    "        return True"
   ]
  },
  {
   "cell_type": "code",
   "execution_count": null,
   "metadata": {
    "ExecuteTime": {
     "start_time": "2023-11-26T19:46:48.214835Z"
    }
   },
   "outputs": [],
   "source": [
    "#is subject helper function for questions\n",
    "def is_subject(tok):\n",
    "    subject_deps = {\"csubj\", \"nsubj\", \"nsubjpass\"}\n",
    "    return tok.dep_ in subject_deps"
   ]
  },
  {
   "cell_type": "code",
   "execution_count": null,
   "metadata": {
    "ExecuteTime": {
     "start_time": "2023-11-26T19:46:48.217971Z"
    }
   },
   "outputs": [],
   "source": [
    "#looks for punctuation in a sentence\n",
    "def punct(sent):\n",
    "    punctuation = [',',';']\n",
    "    for word in sent:\n",
    "        for punct in punctuation:\n",
    "            if word in punct:\n",
    "                return True\n",
    "    return False"
   ]
  },
  {
   "cell_type": "code",
   "execution_count": null,
   "metadata": {
    "ExecuteTime": {
     "start_time": "2023-11-26T19:46:48.221288Z"
    }
   },
   "outputs": [],
   "source": [
    "format = {'Line': [], 'Speaker': [], 'Act': []}"
   ]
  },
  {
   "cell_type": "code",
   "execution_count": null,
   "metadata": {
    "ExecuteTime": {
     "start_time": "2023-11-26T19:46:48.224601Z"
    }
   },
   "outputs": [],
   "source": [
    "d = {'No.': [],'Line': [],'Speaker': [], 'act_1': [],'act_2': [],'act_3': [],'act_4': [],'act_5': [],'act_6': []}"
   ]
  },
  {
   "cell_type": "code",
   "execution_count": null,
   "metadata": {
    "ExecuteTime": {
     "start_time": "2023-11-26T19:46:48.227811Z"
    }
   },
   "outputs": [],
   "source": [
    "#initialise variables used in function below\n",
    "act = 0\n",
    "speaker = \"\"\n",
    "global counter\n",
    "classifiedActs = pd.DataFrame(data=format)\n",
    "newActs = pd.DataFrame({'Line' : [],'Sentence': [], 'Act' : []})"
   ]
  },
  {
   "cell_type": "code",
   "execution_count": null,
   "metadata": {
    "ExecuteTime": {
     "start_time": "2023-11-26T19:46:48.230952Z"
    }
   },
   "outputs": [],
   "source": [
    "#runner function for the all the methods\n",
    "def apply_speech_act(data):\n",
    "     \n",
    "    classifiedActs = pd.DataFrame(data=format)\n",
    "    allActs = pd.DataFrame(data=d)\n",
    "    sentences = data.Utterance\n",
    "    counter = int(0)\n",
    "    newActs = pd.DataFrame({'Line' : [],'Speaker' : [],'Sentence': [], 'Act' : []})\n",
    "    for sent in sentences:\n",
    "        sent = sent.lower()\n",
    "        list_sentence = []\n",
    "        #split sentence as , and ; to look for more than one act in a sentence\n",
    "        list_sentence = re.split('[,;-]', sent)\n",
    "        act_list =[]\n",
    "        speaker = data.Speaker[counter]\n",
    "        print(speaker)\n",
    "        counter = counter + 1\n",
    "        for line in list_sentence:\n",
    "            act = 0\n",
    "            counter2 = 0\n",
    "            doc = nlp(line)\n",
    "            #check if the sentence matches with any of the speech act functiond\n",
    "            is_wh = is_wh_question_text(doc)\n",
    "            is_polar = is_polar_text(doc)\n",
    "            is_opinion = is_opinion_text(line, doc)\n",
    "            is_first_person = is_first_person_text(line,doc)  \n",
    "            is_other_statement = is_other_statement_text(line,doc)\n",
    "            is_non_first_person = is_non_first_person_text(line,doc)\n",
    "            is_punct = punct(line)\n",
    "            #used to not double assign questions to the polar speech act\n",
    "            is_in_polar = False\n",
    "            \n",
    "            #check for wh-questions\n",
    "            if is_wh and '?' in line:\n",
    "                act = 1\n",
    "                act_list.append(act)\n",
    "            \n",
    "            #check for polar questions    \n",
    "            if is_polar and '?' in line:\n",
    "                act = 2\n",
    "                act_list.append(act)\n",
    "                is_in_polar = True\n",
    "            \n",
    "            #check for opinions    \n",
    "            if is_opinion:\n",
    "                act = 3\n",
    "                act_list.append(act)\n",
    "            \n",
    "            #assign non-assigned questions to polar\n",
    "            if '?' in line and not is_in_polar:\n",
    "                act = 1\n",
    "                act_list.append(act)\n",
    "            \n",
    "            #check for first-person statements    \n",
    "            if is_first_person:\n",
    "                question_punct = True\n",
    "                if '?' in line:\n",
    "                    if is_punct == False:\n",
    "                        question_punct = False\n",
    "                if question_punct == True:\n",
    "                    act = 4\n",
    "                    act_list.append(act) \n",
    "            \n",
    "            #check for non-first-person statements      \n",
    "            if is_non_first_person:\n",
    "                question_punct = True\n",
    "                if '?' in line:\n",
    "                    if is_punct == False:\n",
    "                        question_punct = False\n",
    "                if question_punct == True:\n",
    "                    act = 5\n",
    "                    act_list.append(act)\n",
    "            \n",
    "            #check for other statements        \n",
    "            if is_other_statement:\n",
    "                question_punct = True\n",
    "                if '?' in line:\n",
    "                    if is_punct == False:\n",
    "                        question_punct = False\n",
    "                if question_punct == True:\n",
    "                    act = 6\n",
    "                    act_list.append(act)            \n",
    "        newRow = {'Line' : int(counter),'Speaker' : speaker,'Sentence' : sent, 'Act' : act_list}\n",
    "        newActs = newActs.append(newRow,ignore_index=True)\n",
    "        print(newRow)\n",
    "        counter2 = counter2 + 1\n",
    "    return newActs     "
   ]
  },
  {
   "cell_type": "code",
   "execution_count": null,
   "metadata": {
    "ExecuteTime": {
     "start_time": "2023-11-26T19:46:48.234371Z"
    }
   },
   "outputs": [],
   "source": [
    "#outputed singular acts and multiple acts\n",
    "multiple_acts_one = apply_speech_act(text_one_formatted)\n",
    "multiple_acts_two = apply_speech_act(text_two_formatted)\n",
    "multiple_acts_three = apply_speech_act(text_three_formatted)"
   ]
  },
  {
   "cell_type": "code",
   "execution_count": null,
   "metadata": {
    "ExecuteTime": {
     "start_time": "2023-11-26T19:46:48.236599Z"
    }
   },
   "outputs": [],
   "source": [
    "#change line numbers for act 2\n",
    "for i in range(0, len(multiple_acts_two)):  \n",
    "    multiple_acts_two.at[i,'Line'] = 1 + len(multiple_acts_one) + i"
   ]
  },
  {
   "cell_type": "code",
   "execution_count": null,
   "metadata": {
    "ExecuteTime": {
     "start_time": "2023-11-26T19:46:48.239504Z"
    }
   },
   "outputs": [],
   "source": [
    "#change line numbers for act 3\n",
    "for j in range(0, len(multiple_acts_three)):\n",
    "    multiple_acts_three.at[j,'Line'] = 1 + len(multiple_acts_one) + len(multiple_acts_two) + j"
   ]
  },
  {
   "cell_type": "code",
   "execution_count": null,
   "metadata": {
    "ExecuteTime": {
     "start_time": "2023-11-26T19:46:48.241646Z"
    }
   },
   "outputs": [],
   "source": [
    "#concat all acts\n",
    "full_play_acts = pd.concat([multiple_acts_one,multiple_acts_two,multiple_acts_three],ignore_index = True)"
   ]
  },
  {
   "cell_type": "code",
   "execution_count": null,
   "metadata": {
    "ExecuteTime": {
     "start_time": "2023-11-26T19:46:48.243880Z"
    }
   },
   "outputs": [],
   "source": [
    "#remove duplicate speech act values\n",
    "act_list = full_play_acts['Act'].tolist()\n",
    "for i in range (0, len(full_play_acts)):\n",
    "    full_play_acts.at[i, 'Act'] = pd.unique(act_list[i]).tolist()    "
   ]
  },
  {
   "cell_type": "code",
   "execution_count": null,
   "metadata": {
    "ExecuteTime": {
     "start_time": "2023-11-26T19:46:48.246053Z"
    }
   },
   "outputs": [],
   "source": [
    "#get a random sample of 150 lines from the whole play (for precision analysis)\n",
    "random_sample = full_play_acts.sample(n=150)\n",
    "random_sample.to_csv('sample.csv')"
   ]
  },
  {
   "cell_type": "code",
   "execution_count": null,
   "metadata": {
    "ExecuteTime": {
     "start_time": "2023-11-26T19:46:48.248131Z"
    }
   },
   "outputs": [],
   "source": [
    "#get a random saple of 50 lines from each act (for precision analysis)\n",
    "random_sample_one = multiple_acts_one.sample(n=50)\n",
    "random_sample_one.to_csv('sampleActOne.csv')\n",
    "random_sample_two = multiple_acts_two.sample(n=50)\n",
    "random_sample_two.to_csv('sampleActTwo.csv')\n",
    "random_sample_three = multiple_acts_three.sample(n=50)\n",
    "random_sample_three.to_csv('sampleActThree.csv')"
   ]
  },
  {
   "cell_type": "code",
   "execution_count": null,
   "metadata": {
    "ExecuteTime": {
     "start_time": "2023-11-26T19:46:48.250580Z"
    }
   },
   "outputs": [],
   "source": [
    "#join acts together to create 6 more speech acts\n",
    "def join_acts(acts):\n",
    "    acts['Act'] = acts['Act'].astype(str)\n",
    "    act_7_1 = '5'\n",
    "    act_7_2 = '6'\n",
    "    list_of_acts = acts['Act'] \n",
    "    counter = 0\n",
    "    for act in list_of_acts:\n",
    "        \n",
    "        if '5' in act and '6' in act:\n",
    "            acts.loc[counter, 'Act'] = '7'\n",
    "        elif '4' in act and '5' in act:\n",
    "            acts.loc[counter, 'Act'] = '8'\n",
    "        elif ('1' in act or '2' in act) and '3' in act:\n",
    "            acts.loc[counter, 'Act'] = '9'\n",
    "        elif ('1' in act or '2' in act) and '6' in act:\n",
    "            acts.loc[counter, 'Act'] = '11'\n",
    "        elif ('1' in act or '2' in act) and '5' in act:\n",
    "            acts.loc[counter, 'Act'] = '10'\n",
    "        elif '4' in act and '6' in act:\n",
    "            acts.loc[counter, 'Act'] = '12'\n",
    "        elif '1' in act:\n",
    "            acts.loc[counter, 'Act'] = '1'\n",
    "        elif '2' in act:\n",
    "            acts.loc[counter, 'Act'] = '2'\n",
    "        elif '3' in act:\n",
    "            acts.loc[counter, 'Act'] = '3'\n",
    "        elif '4' in act:\n",
    "            acts.loc[counter, 'Act'] = '4'\n",
    "        elif '5' in act:\n",
    "            acts.loc[counter, 'Act'] = '5'\n",
    "        elif '6' in act:\n",
    "            acts.loc[counter, 'Act'] = '6'\n",
    "        elif '' in act:\n",
    "            acts.loc[counter, 'Act'] = '6'\n",
    "        print(act + \" \" + str(counter))\n",
    "        counter = counter + 1\n",
    "    return acts\n",
    "        "
   ]
  },
  {
   "cell_type": "code",
   "execution_count": null,
   "metadata": {
    "ExecuteTime": {
     "start_time": "2023-11-26T19:46:48.252968Z"
    }
   },
   "outputs": [],
   "source": [
    "multiple_acts_one = join_acts(multiple_acts_one)\n",
    "multiple_acts_two = join_acts(multiple_acts_two)\n",
    "multiple_acts_three = join_acts(multiple_acts_three)\n",
    "full_play_acts = join_acts(full_play_acts)"
   ]
  },
  {
   "cell_type": "code",
   "execution_count": null,
   "metadata": {
    "ExecuteTime": {
     "start_time": "2023-11-26T19:46:48.256204Z"
    }
   },
   "outputs": [],
   "source": [
    "#convert speech act column to ints\n",
    "multiple_acts_one['Act'] = multiple_acts_one['Act'].astype(int)\n",
    "multiple_acts_two['Act'] = multiple_acts_two['Act'].astype(int)\n",
    "multiple_acts_three['Act'] = multiple_acts_three['Act'].astype(int)\n",
    "full_play_acts['Act'] = full_play_acts['Act'].astype(int)"
   ]
  },
  {
   "cell_type": "code",
   "execution_count": null,
   "metadata": {
    "ExecuteTime": {
     "start_time": "2023-11-26T19:46:48.258548Z"
    }
   },
   "outputs": [],
   "source": [
    "#function to make graphs with custom data for hovering\n",
    "def make_graph(data,title):\n",
    "    graph = px.line(data, x=\"Line\",y='Act',custom_data=['Sentence','Speaker'], title = title)\n",
    "    graph.update_traces(\n",
    "        hovertemplate=\"<br>\".join([\n",
    "            \"Line: %{x}\",\n",
    "            \"Act: %{y}\",\n",
    "            \"Sentence: %{customdata[0]}\",\n",
    "            \"Speaker: %{customdata[1]}\"     \n",
    "        ])\n",
    "    )\n",
    "    return graph"
   ]
  },
  {
   "cell_type": "markdown",
   "metadata": {},
   "source": [
    "List of Speech Acts:\n",
    "\n",
    "1) Wh question. (What is the time?)\n",
    "\n",
    "2) Polar question. (Am I correct?)\n",
    "\n",
    "3) Opinion. (I think this is good.)\n",
    "\n",
    "4) Personal statement. (I am going to the shop.)\n",
    "\n",
    "5) Non-personal statement, about someone, or something else. (They aren't going to like this.)\n",
    "\n",
    "6) Other statement. Singular words etc. (\"Okay.\", \"All right.\")\n",
    "\n",
    "Combined acts:\n",
    "\n",
    "7) 5 & 6\n",
    "\n",
    "8) 4 & 5\n",
    "\n",
    "9) (1 or 2) and 3\n",
    "\n",
    "10) (1 or 2) and 5\n",
    "\n",
    "11) (1 or 2) and 6\n",
    "\n",
    "12) 4 and 6"
   ]
  },
  {
   "cell_type": "markdown",
   "metadata": {},
   "source": [
    "The section below was used for analysing the outputted graphs."
   ]
  },
  {
   "cell_type": "code",
   "execution_count": null,
   "metadata": {
    "ExecuteTime": {
     "start_time": "2023-11-26T19:46:48.260805Z"
    }
   },
   "outputs": [],
   "source": [
    "act_one_graph = make_graph(multiple_acts_one,\"Act One\")\n",
    "act_one_graph.show()"
   ]
  },
  {
   "cell_type": "code",
   "execution_count": null,
   "metadata": {
    "ExecuteTime": {
     "start_time": "2023-11-26T19:46:48.263417Z"
    }
   },
   "outputs": [],
   "source": [
    "act_two_graph = make_graph(multiple_acts_two,\"Act Two\")\n",
    "act_two_graph.show()"
   ]
  },
  {
   "cell_type": "code",
   "execution_count": null,
   "metadata": {
    "ExecuteTime": {
     "start_time": "2023-11-26T19:46:48.265816Z"
    }
   },
   "outputs": [],
   "source": [
    "act_three_graph = make_graph(multiple_acts_three,\"Act Three\")\n",
    "act_three_graph.show()"
   ]
  },
  {
   "cell_type": "code",
   "execution_count": null,
   "metadata": {
    "ExecuteTime": {
     "start_time": "2023-11-26T19:46:48.268381Z"
    }
   },
   "outputs": [],
   "source": [
    "#individual speaker graphs. To look at another speaker, change the end of the lines below to the desired speakers name.\n",
    "act_one_three = full_play_acts.loc[full_play_acts['Speaker'] == 'THREE']\n",
    "act_one_four = full_play_acts.loc[full_play_acts['Speaker'] == 'FOUR']\n",
    "act_one_five = full_play_acts.loc[full_play_acts['Speaker'] == 'FIVE']\n",
    "act_one_eight = full_play_acts.loc[full_play_acts['Speaker'] == 'EIGHT']\n",
    "act_one_foreman = full_play_acts.loc[full_play_acts['Speaker'] == 'FOREMAN']"
   ]
  },
  {
   "cell_type": "code",
   "execution_count": null,
   "metadata": {
    "ExecuteTime": {
     "start_time": "2023-11-26T19:46:48.271448Z"
    }
   },
   "outputs": [],
   "source": [
    "three_graph = make_graph(act_one_three,\"Character Three Speech Acts\")\n",
    "three_graph.show()"
   ]
  },
  {
   "cell_type": "code",
   "execution_count": null,
   "metadata": {
    "ExecuteTime": {
     "start_time": "2023-11-26T19:46:48.274066Z"
    }
   },
   "outputs": [],
   "source": [
    "four_graph = make_graph(act_one_four,\"Character Four Speech Acts\")\n",
    "four_graph.show()"
   ]
  },
  {
   "cell_type": "code",
   "execution_count": null,
   "metadata": {
    "ExecuteTime": {
     "start_time": "2023-11-26T19:46:48.276309Z"
    }
   },
   "outputs": [],
   "source": [
    "five_graph = make_graph(act_one_five,\"Character Five Speech Acts\")\n",
    "five_graph.show()"
   ]
  },
  {
   "cell_type": "code",
   "execution_count": null,
   "metadata": {
    "ExecuteTime": {
     "start_time": "2023-11-26T19:46:48.278683Z"
    }
   },
   "outputs": [],
   "source": [
    "foreman_graph = make_graph(act_one_foreman,\"Character Foreman Speech Acts\")\n",
    "foreman_graph.show()"
   ]
  },
  {
   "cell_type": "code",
   "execution_count": null,
   "metadata": {
    "ExecuteTime": {
     "start_time": "2023-11-26T19:46:48.280843Z"
    }
   },
   "outputs": [],
   "source": [
    "eight_graph = make_graph(act_one_eight,\"Character Eight Speech Acts\")\n",
    "eight_graph.show()"
   ]
  },
  {
   "cell_type": "code",
   "execution_count": null,
   "metadata": {
    "ExecuteTime": {
     "start_time": "2023-11-26T19:46:48.283615Z"
    }
   },
   "outputs": [],
   "source": [
    "#code to show the graph which displays all the speakers in one\n",
    "x = full_play_acts.Line\n",
    "y1 = full_play_acts.loc[full_play_acts['Speaker']=='FOREMAN'].Act\n",
    "y2 = full_play_acts.loc[full_play_acts['Speaker']=='TWO'].Act\n",
    "y3 = full_play_acts.loc[full_play_acts['Speaker']=='THREE'].Act\n",
    "y4 = full_play_acts.loc[full_play_acts['Speaker']=='FOUR'].Act\n",
    "y5 = full_play_acts.loc[full_play_acts['Speaker']=='FIVE'].Act\n",
    "y6 = full_play_acts.loc[full_play_acts['Speaker']=='SIX'].Act\n",
    "y7 = full_play_acts.loc[full_play_acts['Speaker']=='SEVEN'].Act\n",
    "y8 = full_play_acts.loc[full_play_acts['Speaker']=='EIGHT'].Act\n",
    "y9 = full_play_acts.loc[full_play_acts['Speaker']=='NINE'].Act\n",
    "y10 = full_play_acts.loc[full_play_acts['Speaker']=='TEN'].Act\n",
    "y11 = full_play_acts.loc[full_play_acts['Speaker']=='ELEVEN'].Act\n",
    "y12 = full_play_acts.loc[full_play_acts['Speaker']=='TWELVE'].Act\n",
    "#format the graph\n",
    "layout = go.Layout(\n",
    "    autosize=True,\n",
    "   \n",
    "\n",
    "    xaxis= go.layout.XAxis(linecolor = 'black',title = 'Line',\n",
    "                          linewidth = 1,\n",
    "                          mirror = True),\n",
    "\n",
    "    yaxis= go.layout.YAxis(linecolor = 'black',title = 'Act',\n",
    "                          linewidth = 1,\n",
    "                          mirror = True),\n",
    "\n",
    "    margin=go.layout.Margin(\n",
    "        l=50,\n",
    "        r=50,\n",
    "        b=100,\n",
    "        t=100,\n",
    "        pad = 4\n",
    "    )\n",
    ")\n",
    "fig = go.Figure(layout=layout)\n",
    "fig.add_trace(\n",
    "   go.Scatter(\n",
    "      x = x, y = y1, name = 'FOREMAN'\n",
    "   )\n",
    ")\n",
    "fig.add_trace(\n",
    "   go.Scatter(\n",
    "      x = x, y = y2, name = 'TWO'\n",
    "   )\n",
    ")\n",
    "fig.add_trace(\n",
    "   go.Scatter(\n",
    "      x = x, y = y3, name = 'THREE'\n",
    "   )\n",
    ")\n",
    "fig.add_trace(\n",
    "   go.Scatter(\n",
    "      x = x, y = y4, name = 'FOUR'\n",
    "   )\n",
    ")\n",
    "fig.add_trace(\n",
    "   go.Scatter(\n",
    "      x = x, y = y5, name = 'FIVE'\n",
    "   )\n",
    ")\n",
    "fig.add_trace(\n",
    "   go.Scatter(\n",
    "      x = x, y = y6, name = 'SIX'\n",
    "   )\n",
    ")\n",
    "fig.add_trace(\n",
    "   go.Scatter(\n",
    "      x = x, y = y7, name = 'SEVEN'\n",
    "   )\n",
    ")\n",
    "fig.add_trace(\n",
    "   go.Scatter(\n",
    "      x = x, y = y8, name = 'EIGHT'\n",
    "   )\n",
    ")\n",
    "fig.add_trace(\n",
    "   go.Scatter(\n",
    "      x = x, y = y9, name = 'NINE'\n",
    "   )\n",
    ")\n",
    "fig.add_trace(\n",
    "   go.Scatter(\n",
    "      x = x, y = y10, name = 'TEN'\n",
    "   )\n",
    ")\n",
    "fig.add_trace(\n",
    "   go.Scatter(\n",
    "      x = x, y = y11, name = 'ELEVEN'\n",
    "   )\n",
    ")\n",
    "fig.add_trace(\n",
    "   go.Scatter(\n",
    "      x = x, y = y12, name = 'TWELVE'\n",
    "   )\n",
    ")\n",
    "#update which speaker to display\n",
    "fig.layout.update(\n",
    "   updatemenus = [\n",
    "      go.layout.Updatemenu(\n",
    "         type = \"buttons\", direction = \"right\", active = 0, x = 1.5, y = 1.2,\n",
    "         buttons = list(\n",
    "            [\n",
    "               dict(\n",
    "                  label = \"Foreman\", method = \"update\",\n",
    "                  args = [{\"visible\": [True, False, False, False, False, False, False, False, False, False, False, False]},{\"title\": \"Foreman\"} ]\n",
    "               ),\n",
    "               dict(\n",
    "                  label = \"Two\", method = \"update\", \n",
    "                  args = [{\"visible\": [False, True, False, False, False, False, False, False, False, False, False, False]},{\"title\": \"Two\"}]\n",
    "               ),\n",
    "               dict(\n",
    "                  label = \"Three\", method = \"update\", \n",
    "                  args = [{\"visible\": [False, False, True, False, False, False, False, False, False, False, False, False]},{\"title\": \"Three\"}]\n",
    "               )\n",
    "                ,\n",
    "               dict(\n",
    "                  label = \"Four\", method = \"update\", \n",
    "                  args = [{\"visible\": [False, False, False, True, False, False, False, False, False, False, False, False]},{\"title\": \"Four\"}]\n",
    "               )\n",
    "                ,\n",
    "               dict(\n",
    "                  label = \"Five\", method = \"update\", \n",
    "                  args = [{\"visible\": [False, False, False, False, True, False, False, False, False, False, False, False]},{\"title\": \"Five\"}]\n",
    "               )\n",
    "                ,\n",
    "               dict(\n",
    "                  label = \"Six\", method = \"update\", \n",
    "                  args = [{\"visible\": [False, False, False, False, False, True, False, False, False, False, False, False]},{\"title\": \"Six\"}]\n",
    "               )\n",
    "                ,\n",
    "               dict(\n",
    "                  label = \"Seven\", method = \"update\", \n",
    "                  args = [{\"visible\": [False, False, False, False, False, False, True, False, False, False, False, False]},{\"title\": \"Seven\"}]\n",
    "               )\n",
    "                ,\n",
    "               dict(\n",
    "                  label = \"Eight\", method = \"update\", \n",
    "                  args = [{\"visible\": [False, False, False, False, False, False, False, True, False, False, False, False]},{\"title\": \"Eight\"}]\n",
    "               )\n",
    "                ,\n",
    "               dict(\n",
    "                  label = \"Nine\", method = \"update\", \n",
    "                  args = [{\"visible\": [False, False, False, False, False, False, False, False, True, False, False, False]},{\"title\": \"Nine\"}]\n",
    "               )\n",
    "                ,\n",
    "               dict(\n",
    "                  label = \"Ten\", method = \"update\", \n",
    "                  args = [{\"visible\": [False, False, False, False, False, False, False, False, False, True, False, False]},{\"title\": \"Ten\"}]\n",
    "               )\n",
    "                ,\n",
    "               dict(\n",
    "                  label = \"Eleven\", method = \"update\", \n",
    "                  args = [{\"visible\": [False, False, False, False, False, False, False, False, False, False, True, False]},{\"title\": \"Eleven\"}]\n",
    "               )\n",
    "                ,\n",
    "               dict(\n",
    "                  label = \"Twelve\", method = \"update\", \n",
    "                  args = [{\"visible\": [False, False, False, False, False, False, False, False, False, False, False, True]},{\"title\": \"Twelve\"}]\n",
    "               )\n",
    "                \n",
    "                \n",
    "            ]\n",
    "         )\n",
    "      )\n",
    "   ]\n",
    ")\n",
    "fig.update_traces(\n",
    "    hovertemplate=\"<br>\".join([\n",
    "        \"Line: %{x}\",\n",
    "        \"Act: %{y}\",    \n",
    "        ]))\n",
    "fig.show()"
   ]
  },
  {
   "cell_type": "code",
   "execution_count": null,
   "metadata": {
    "ExecuteTime": {
     "start_time": "2023-11-26T19:46:48.286163Z"
    }
   },
   "outputs": [],
   "source": []
  },
  {
   "cell_type": "code",
   "execution_count": null,
   "metadata": {
    "ExecuteTime": {
     "start_time": "2023-11-26T19:46:48.288779Z"
    }
   },
   "outputs": [],
   "source": []
  }
 ],
 "metadata": {
  "kernelspec": {
   "display_name": "Python 3",
   "language": "python",
   "name": "python3"
  },
  "language_info": {
   "codemirror_mode": {
    "name": "ipython",
    "version": 3
   },
   "file_extension": ".py",
   "mimetype": "text/x-python",
   "name": "python",
   "nbconvert_exporter": "python",
   "pygments_lexer": "ipython3",
   "version": "3.8.5"
  }
 },
 "nbformat": 4,
 "nbformat_minor": 4
}
