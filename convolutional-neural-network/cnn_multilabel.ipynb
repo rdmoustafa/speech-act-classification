{
 "cells": [
  {
   "cell_type": "code",
   "outputs": [],
   "source": [
    "import torch\n",
    "import torch.nn as nn\n",
    "import torch.optim as optim\n",
    "import pandas as pd\n",
    "from sklearn.feature_extraction.text import TfidfVectorizer\n",
    "from sklearn.model_selection import train_test_split\n",
    "from torch.utils.data import DataLoader, TensorDataset\n",
    "from sklearn.metrics import classification_report"
   ],
   "metadata": {
    "collapsed": false,
    "ExecuteTime": {
     "end_time": "2024-03-27T19:21:05.648993Z",
     "start_time": "2024-03-27T19:21:05.634158Z"
    }
   },
   "id": "5bb000f9022b20e1",
   "execution_count": 2
  },
  {
   "cell_type": "code",
   "outputs": [],
   "source": [
    "# Define the CNN model\n",
    "class CNN(nn.Module):\n",
    "    def __init__(self, input_dim, output_dim, dropout):\n",
    "        super(CNN, self).__init__()\n",
    "\n",
    "        self.conv1 = nn.Conv2d(in_channels=1, out_channels=32, kernel_size=(1, input_dim))\n",
    "        self.fc = nn.Linear(32, output_dim)\n",
    "        self.dropout = nn.Dropout(dropout)\n",
    "        self.sigmoid = nn.Sigmoid()\n",
    "\n",
    "    def forward(self, x):\n",
    "        x = torch.relu(self.conv1(x))\n",
    "        x = torch.max_pool1d(x.squeeze(-1), kernel_size=x.size(-1)).squeeze(-1)\n",
    "        x = self.dropout(x)\n",
    "        x = self.fc(x)\n",
    "        return self.sigmoid(x)"
   ],
   "metadata": {
    "collapsed": false,
    "ExecuteTime": {
     "end_time": "2024-03-27T19:21:05.662228Z",
     "start_time": "2024-03-27T19:21:05.652271Z"
    }
   },
   "id": "79715055542ee9a7",
   "execution_count": 3
  },
  {
   "cell_type": "code",
   "outputs": [],
   "source": [
    "# Load data from Excel file\n",
    "excel_file = '../data/adjusted-labels-multiclass.xlsx'\n",
    "df = pd.read_excel(excel_file)\n",
    "df.dropna(subset=['Sentence'], inplace=True)  # Get rid of anything NaN\n",
    "\n",
    "# Preprocess data\n",
    "X_text = df['Sentence'].values.tolist()\n",
    "y = df.drop(columns=['Sentence']).values.astype('float32')\n",
    "\n",
    "# Split data into train and test sets\n",
    "X_train_text, X_test_text, y_train, y_test = train_test_split(X_text, y, test_size=0.2, random_state=47)\n",
    "\n",
    "# TF-IDF Vectorization\n",
    "tfidf_vectorizer = TfidfVectorizer()\n",
    "X_train_tfidf = tfidf_vectorizer.fit_transform(X_train_text)\n",
    "X_test_tfidf = tfidf_vectorizer.transform(X_test_text)\n",
    "\n",
    "# Convert data to PyTorch tensors and move to GPU\n",
    "X_train = torch.tensor(X_train_tfidf.toarray(), dtype=torch.float32).unsqueeze(1).unsqueeze(2).cuda()\n",
    "X_test = torch.tensor(X_test_tfidf.toarray(), dtype=torch.float32).unsqueeze(1).unsqueeze(2).cuda()\n",
    "y_train_tensor = torch.tensor(y_train).cuda()\n",
    "y_test_tensor = torch.tensor(y_test).cuda()"
   ],
   "metadata": {
    "collapsed": false,
    "ExecuteTime": {
     "end_time": "2024-03-27T19:21:06.249766Z",
     "start_time": "2024-03-27T19:21:05.666685Z"
    }
   },
   "id": "b99db8e0052948da",
   "execution_count": 4
  },
  {
   "cell_type": "code",
   "outputs": [],
   "source": [
    "# Hyperparameters\n",
    "input_dim = X_train.shape[3]  # Input dimension is the number of features from TF-IDF\n",
    "output_dim = y.shape[1]  # Number of classes (equal to number of labels)\n",
    "dropout = 0.5\n",
    "learning_rate = 0.001\n",
    "epochs = 100\n",
    "\n",
    "# Initialize the model and move to GPU\n",
    "model = CNN(input_dim, output_dim, dropout).cuda()\n",
    "\n",
    "# Define loss and optimizer\n",
    "criterion = nn.BCELoss()\n",
    "optimizer = optim.Adam(model.parameters(), lr=learning_rate)\n",
    "\n",
    "# Create DataLoader for training data\n",
    "train_dataset = TensorDataset(X_train, y_train_tensor)\n",
    "train_loader = DataLoader(train_dataset, batch_size=32, shuffle=True)"
   ],
   "metadata": {
    "collapsed": false
   },
   "id": "8ab0ba421a540600"
  },
  {
   "cell_type": "code",
   "outputs": [],
   "source": [
    "# Training loop\n",
    "def train(model, criterion, optimizer, train_loader, num_epochs=epochs):\n",
    "    model.train()\n",
    "    for epoch in range(num_epochs):\n",
    "        running_loss = 0.0\n",
    "        for inputs, targets in train_loader:\n",
    "            optimizer.zero_grad()\n",
    "            outputs = model(inputs)\n",
    "            loss = criterion(outputs, targets)\n",
    "            loss.backward()\n",
    "            optimizer.step()\n",
    "            running_loss += loss.item() * inputs.size(0)\n",
    "        epoch_loss = running_loss / len(train_loader.dataset)\n",
    "        if (epoch+1)%10 == 0:\n",
    "          print(f'Epoch {epoch+1}/{num_epochs}, Loss: {epoch_loss:.4f}')\n",
    "\n",
    "# Train the model\n",
    "train(model, criterion, optimizer, train_loader)"
   ],
   "metadata": {
    "collapsed": false
   },
   "id": "c3b0c13198428758"
  },
  {
   "cell_type": "code",
   "outputs": [],
   "source": [
    "# Testing function\n",
    "def evaluate(model, criterion, test_loader):\n",
    "    model.eval()\n",
    "    all_targets = []\n",
    "    all_outputs = []\n",
    "    total_loss = 0.0\n",
    "    correct = 0\n",
    "    total = 0\n",
    "    with torch.no_grad():\n",
    "        for inputs, targets in test_loader:\n",
    "            outputs = model(inputs)\n",
    "            loss = criterion(outputs, targets)\n",
    "            total_loss += loss.item() * inputs.size(0)\n",
    "            _, predicted = torch.max(outputs, 1)\n",
    "            correct += (predicted == torch.argmax(targets, 1)).sum().item()\n",
    "            total += targets.size(0)\n",
    "            all_targets.append(targets.cpu())\n",
    "            all_outputs.append(outputs.cpu())\n",
    "    avg_loss = total_loss / len(test_loader.dataset)\n",
    "    print(f\"Test Loss: {avg_loss:.4f}\")\n",
    "    accuracy = correct / total\n",
    "    print(f\"Accuracy: {accuracy:.4f}\")\n",
    "    all_targets = torch.vstack(all_targets)\n",
    "    all_outputs = torch.vstack(all_outputs)\n",
    "    print(f\"Criterion: Adam, Learning Rate {learning_rate}, Loss: BCE Loss, Epochs: {epochs}\")\n",
    "    print(classification_report(all_targets.cpu(), (all_outputs > 0.5).cpu().numpy(), target_names=df.columns[1:], zero_division=0))\n",
    "\n",
    "\n",
    "# Create DataLoader for testing data\n",
    "test_dataset = TensorDataset(X_test, y_test_tensor)\n",
    "test_loader = DataLoader(test_dataset, batch_size=32)\n",
    "\n",
    "# Evaluate the model on the test set and print classification report\n",
    "evaluate(model, criterion, test_loader)"
   ],
   "metadata": {
    "collapsed": false
   },
   "id": "82ff3567e59a7915"
  }
 ],
 "metadata": {
  "kernelspec": {
   "display_name": "Python 3",
   "language": "python",
   "name": "python3"
  },
  "language_info": {
   "codemirror_mode": {
    "name": "ipython",
    "version": 2
   },
   "file_extension": ".py",
   "mimetype": "text/x-python",
   "name": "python",
   "nbconvert_exporter": "python",
   "pygments_lexer": "ipython2",
   "version": "2.7.6"
  }
 },
 "nbformat": 4,
 "nbformat_minor": 5
}
