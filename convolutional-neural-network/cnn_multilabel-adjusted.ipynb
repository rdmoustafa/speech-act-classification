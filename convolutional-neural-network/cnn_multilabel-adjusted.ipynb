{
 "cells": [
  {
   "cell_type": "code",
   "execution_count": 3,
   "id": "initial_id",
   "metadata": {
    "collapsed": true,
    "ExecuteTime": {
     "end_time": "2024-03-27T18:14:21.725372Z",
     "start_time": "2024-03-27T18:14:21.177063Z"
    }
   },
   "outputs": [],
   "source": [
    "import pandas as pd\n",
    "\n",
    "raw_data = pd.read_excel(\"../data/adjusted-labels-multiclass.xlsx\")\n",
    "raw_data.dropna(subset=['Sentence'], inplace=True)  # Get rid of anything NaN\n",
    "\n",
    "sentences = raw_data[\"Sentence\"]\n",
    "labels = raw_data.drop(columns=[\"Sentence\"])"
   ]
  },
  {
   "cell_type": "code",
   "outputs": [
    {
     "name": "stdout",
     "output_type": "stream",
     "text": [
      "Classification Report:\n",
      "Accuracy: 0.57\n",
      "              precision    recall  f1-score   support\n",
      "\n",
      "           0       0.92      0.96      0.94       451\n",
      "           1       0.93      0.48      0.63        27\n",
      "           2       0.70      0.25      0.37        28\n",
      "           3       0.90      0.56      0.69        66\n",
      "           4       0.88      0.70      0.78        80\n",
      "           5       0.89      0.50      0.64        34\n",
      "           6       0.87      0.87      0.87       149\n",
      "           7       0.86      0.85      0.86       150\n",
      "           8       0.90      0.66      0.76        67\n",
      "           9       0.76      0.38      0.51        58\n",
      "          10       0.86      0.61      0.71        49\n",
      "\n",
      "   micro avg       0.89      0.79      0.84      1159\n",
      "   macro avg       0.86      0.62      0.71      1159\n",
      "weighted avg       0.88      0.79      0.82      1159\n",
      " samples avg       0.85      0.80      0.80      1159\n"
     ]
    }
   ],
   "source": [
    "from sklearn.feature_extraction.text import TfidfVectorizer\n",
    "from sklearn.multioutput import MultiOutputClassifier\n",
    "from sklearn.neural_network import MLPClassifier\n",
    "from sklearn.metrics import classification_report, accuracy_score\n",
    "from sklearn.model_selection import train_test_split\n",
    "\n",
    "# Step 1: Prepare your dataset\n",
    "X_train, X_test, y_train, y_test = train_test_split(sentences, labels, test_size=0.2, random_state=42)\n",
    "\n",
    "# Step 2: Feature extraction\n",
    "tfidf_vectorizer = TfidfVectorizer(max_features=1000)  # Example, you can choose parameters as needed\n",
    "X_train_tfidf = tfidf_vectorizer.fit_transform(X_train)\n",
    "X_test_tfidf = tfidf_vectorizer.transform(X_test)\n",
    "\n",
    "# Step 3: Model building (CNN classifier)\n",
    "mlp_classifier = MLPClassifier(hidden_layer_sizes=(100,), max_iter=500, alpha=0.001,\n",
    "                               solver='adam', verbose=10, random_state=42, tol=0.0001)\n",
    "\n",
    "# Wrap the MLP classifier in MultiOutputClassifier for multilabel classification\n",
    "multi_label_classifier = MultiOutputClassifier(mlp_classifier, n_jobs=-1)\n",
    "\n",
    "# Step 4: Training\n",
    "multi_label_classifier.fit(X_train_tfidf, y_train)\n",
    "\n",
    "# Step 5: Evaluation\n",
    "predictions = multi_label_classifier.predict(X_test_tfidf)\n",
    "print(\"Classification Report:\")\n",
    "print(f\"Accuracy: {accuracy_score(y_test, predictions):.2f}\")\n",
    "print(classification_report(y_test, predictions, zero_division=0))"
   ],
   "metadata": {
    "collapsed": false,
    "ExecuteTime": {
     "end_time": "2024-03-27T18:14:59.788456Z",
     "start_time": "2024-03-27T18:14:21.727467Z"
    }
   },
   "id": "9340409618ac0cb0",
   "execution_count": 4
  }
 ],
 "metadata": {
  "kernelspec": {
   "display_name": "Python 3",
   "language": "python",
   "name": "python3"
  },
  "language_info": {
   "codemirror_mode": {
    "name": "ipython",
    "version": 2
   },
   "file_extension": ".py",
   "mimetype": "text/x-python",
   "name": "python",
   "nbconvert_exporter": "python",
   "pygments_lexer": "ipython2",
   "version": "2.7.6"
  }
 },
 "nbformat": 4,
 "nbformat_minor": 5
}
