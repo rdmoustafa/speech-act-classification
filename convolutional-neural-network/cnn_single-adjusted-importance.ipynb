{
 "cells": [
  {
   "cell_type": "code",
   "execution_count": null,
   "id": "initial_id",
   "metadata": {
    "collapsed": true
   },
   "outputs": [],
   "source": [
    "import pandas as pd\n",
    "import numpy as np\n",
    "from sklearn.feature_extraction.text import TfidfVectorizer\n",
    "from sklearn.model_selection import train_test_split\n",
    "from sklearn.preprocessing import LabelEncoder\n",
    "from sklearn.metrics import classification_report\n",
    "import torch\n",
    "import torch.nn as nn\n",
    "import torch.optim as optim\n",
    "from torch.utils.data import TensorDataset, DataLoader"
   ]
  },
  {
   "cell_type": "code",
   "outputs": [],
   "source": [
    "class CNN(nn.Module):\n",
    "    def __init__(self, input_dim, output_dim, dropout):\n",
    "        super(CNN, self).__init__()\n",
    "\n",
    "        self.conv1 = nn.Conv2d(in_channels=1, out_channels=32, kernel_size=(1, input_dim))\n",
    "        self.fc = nn.Linear(32, output_dim)\n",
    "        self.dropout = nn.Dropout(dropout)\n",
    "        self.sigmoid = nn.Sigmoid()\n",
    "\n",
    "    def forward(self, x):\n",
    "        x = torch.relu(self.conv1(x))\n",
    "        x = torch.max_pool1d(x.squeeze(-1), kernel_size=x.size(-1)).squeeze(-1)\n",
    "        x = self.dropout(x)\n",
    "        x = self.fc(x)\n",
    "        return self.sigmoid(x)"
   ],
   "metadata": {
    "collapsed": false
   },
   "id": "a1e2c79ffbafa04d",
   "execution_count": null
  },
  {
   "cell_type": "code",
   "outputs": [],
   "source": [
    "# Load data\n",
    "data = pd.read_csv(\"../data/adjusted-labels-prioritised-importance.csv\")\n",
    "data = data[data[\"Label\"] != \"Other\"]\n",
    "\n",
    "sentences = data[\"Sentence\"].values\n",
    "labels = data[\"Label\"].values\n",
    "\n",
    "# Encode labels\n",
    "label_encoder = LabelEncoder()\n",
    "labels = label_encoder.fit_transform(labels)\n",
    "\n",
    "# Split data\n",
    "X_train, X_test, y_train, y_test = train_test_split(sentences, labels, test_size=0.2, random_state=47)\n",
    "\n",
    "# TF-IDF vectorization\n",
    "tfidf_vectorizer = TfidfVectorizer()\n",
    "X_train_tfidf = tfidf_vectorizer.fit_transform(X_train).toarray()\n",
    "X_test_tfidf = tfidf_vectorizer.transform(X_test).toarray()\n",
    "\n",
    "# # Convert to PyTorch tensors\n",
    "X_train_tensor = torch.tensor(X_train_tfidf, dtype=torch.float32).unsqueeze(1).unsqueeze(2)\n",
    "X_test_tensor = torch.tensor(X_test_tfidf, dtype=torch.float32).unsqueeze(1).unsqueeze(2)\n",
    "y_train_tensor = torch.tensor(y_train, dtype=torch.long)\n",
    "y_test_tensor = torch.tensor(y_test, dtype=torch.long)"
   ],
   "metadata": {
    "collapsed": false
   },
   "id": "ae69e2a42dc451a7",
   "execution_count": null
  },
  {
   "cell_type": "code",
   "outputs": [],
   "source": [
    "# Define hyperparameters\n",
    "input_dim = X_train_tensor.shape[3]\n",
    "output_dim = len(np.unique(y_train))\n",
    "learning_rate = 0.005\n",
    "dropout = 0.5\n",
    "\n",
    "# Move tensors to GPU if available\n",
    "device = torch.device(\"cuda\" if torch.cuda.is_available() else \"cpu\")\n",
    "X_train_tensor = X_train_tensor.to(device)\n",
    "X_test_tensor = X_test_tensor.to(device)\n",
    "y_train_tensor = y_train_tensor.to(device)\n",
    "y_test_tensor = y_test_tensor.to(device)\n",
    "\n",
    "# Create DataLoader\n",
    "train_dataset = TensorDataset(X_train_tensor, y_train_tensor)\n",
    "test_dataset = TensorDataset(X_test_tensor, y_test_tensor)\n",
    "\n",
    "batch_size = 32\n",
    "train_loader = DataLoader(train_dataset, batch_size=batch_size, shuffle=True)\n",
    "test_loader = DataLoader(test_dataset, batch_size=batch_size, shuffle=False)\n",
    "\n",
    "# Initialize model, loss function, and optimizer\n",
    "model = CNN(input_dim, output_dim, dropout).to(device)\n",
    "# model = EnhancedCNN(input_dim, output_dim, dropout).to(device)\n",
    "criterion = nn.CrossEntropyLoss()\n",
    "optimizer = optim.Adam(model.parameters(), lr=learning_rate)"
   ],
   "metadata": {
    "collapsed": false
   },
   "id": "deecc29d968ef588"
  },
  {
   "cell_type": "code",
   "outputs": [],
   "source": [
    "# Training loop\n",
    "epochs = 100\n",
    "for epoch in range(epochs):\n",
    "    model.train()\n",
    "    for inputs, labels in train_loader:\n",
    "        optimizer.zero_grad()\n",
    "        inputs, labels = inputs.to(device), labels.to(device)\n",
    "        outputs = model(inputs)\n",
    "        loss = criterion(outputs, labels)\n",
    "        loss.backward()\n",
    "        optimizer.step()\n",
    "    if (epoch+1)%10 == 0:\n",
    "        print(f'Epoch {epoch+1}/{epochs}, Loss: {epochs:.4f}')"
   ],
   "metadata": {
    "collapsed": false
   },
   "id": "ce3ff6274de4be0"
  },
  {
   "cell_type": "code",
   "outputs": [],
   "source": [
    "# Evaluation\n",
    "model.eval()\n",
    "predictions = []\n",
    "true_labels = []\n",
    "with torch.no_grad():\n",
    "    for inputs, labels in test_loader:\n",
    "        inputs, labels = inputs.to(device), labels.to(device)\n",
    "        outputs = model(inputs)\n",
    "        _, predicted = torch.max(outputs.data, 1)\n",
    "        predictions.extend(predicted.cpu().numpy())\n",
    "        true_labels.extend(labels.cpu().numpy())\n",
    "\n",
    "# Decode labels back to original format\n",
    "predictions = label_encoder.inverse_transform(predictions)\n",
    "true_labels = label_encoder.inverse_transform(true_labels)\n",
    "\n",
    "print(f\"Criterion: Adam, Learning Rate {learning_rate}, Loss: Cross Entropy, Epochs: {epochs}\")\n",
    "print(classification_report(true_labels, predictions))"
   ],
   "metadata": {
    "collapsed": false
   },
   "id": "ab49d63763ae13a7"
  }
 ],
 "metadata": {
  "kernelspec": {
   "display_name": "Python 3",
   "language": "python",
   "name": "python3"
  },
  "language_info": {
   "codemirror_mode": {
    "name": "ipython",
    "version": 2
   },
   "file_extension": ".py",
   "mimetype": "text/x-python",
   "name": "python",
   "nbconvert_exporter": "python",
   "pygments_lexer": "ipython2",
   "version": "2.7.6"
  }
 },
 "nbformat": 4,
 "nbformat_minor": 5
}
