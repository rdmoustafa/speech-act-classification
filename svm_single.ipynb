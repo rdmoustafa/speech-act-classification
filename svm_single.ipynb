{
 "cells": [
  {
   "cell_type": "markdown",
   "source": [
    "### Support Vector Machines\n",
    "Using a support vector machine to classify data based on the speech act"
   ],
   "metadata": {
    "collapsed": false
   },
   "id": "87f871e05af36c7d"
  },
  {
   "cell_type": "code",
   "outputs": [],
   "source": [
    "import pandas as pd\n",
    "from sklearn.metrics import accuracy_score, classification_report"
   ],
   "metadata": {
    "collapsed": true,
    "ExecuteTime": {
     "end_time": "2024-02-28T20:16:32.269900Z",
     "start_time": "2024-02-28T20:16:32.257576Z"
    }
   },
   "id": "initial_id",
   "execution_count": 73
  },
  {
   "cell_type": "markdown",
   "source": [
    "Generating the sentences and labels from the Excel sheet"
   ],
   "metadata": {
    "collapsed": false
   },
   "id": "b4d37c3a49d99afb"
  },
  {
   "cell_type": "code",
   "outputs": [],
   "source": [
    "raw_data = pd.read_csv(\"data/labeled_sentences.csv\")\n",
    "\n",
    "sentences = raw_data[\"Sentence\"] \n",
    "labels = raw_data[\"Label\"]"
   ],
   "metadata": {
    "collapsed": false,
    "ExecuteTime": {
     "end_time": "2024-02-28T20:16:32.302336Z",
     "start_time": "2024-02-28T20:16:32.280408Z"
    }
   },
   "id": "f2b0a9ef960be93e",
   "execution_count": 74
  },
  {
   "cell_type": "markdown",
   "source": [
    "Separating the data into training and test data"
   ],
   "metadata": {
    "collapsed": false
   },
   "id": "455a9e6772399854"
  },
  {
   "cell_type": "code",
   "outputs": [],
   "source": [
    "from sklearn.model_selection import train_test_split\n",
    "\n",
    "X_train, X_test, y_train, y_test = train_test_split(sentences, labels, test_size=0.2)"
   ],
   "metadata": {
    "collapsed": false,
    "ExecuteTime": {
     "end_time": "2024-02-28T20:16:32.311444Z",
     "start_time": "2024-02-28T20:16:32.305066Z"
    }
   },
   "id": "b377f48f7a0ccde2",
   "execution_count": 75
  },
  {
   "cell_type": "markdown",
   "source": [
    "## Preprocessing\n",
    "Vectorising based on the Tf-idf values in the data set"
   ],
   "metadata": {
    "collapsed": false
   },
   "id": "769e7a6349ab9aee"
  },
  {
   "cell_type": "code",
   "outputs": [],
   "source": [
    "from sklearn.feature_extraction.text import TfidfVectorizer\n",
    "# Create feature vectors\n",
    "vectorizer = TfidfVectorizer(min_df = 5,\n",
    "                             max_df = 0.8,\n",
    "                             sublinear_tf = True,\n",
    "                             use_idf = True)\n",
    "train_vectors = vectorizer.fit_transform(X_train)\n",
    "test_vectors = vectorizer.transform(X_test)"
   ],
   "metadata": {
    "collapsed": false,
    "ExecuteTime": {
     "end_time": "2024-02-28T20:16:32.431620Z",
     "start_time": "2024-02-28T20:16:32.315095Z"
    }
   },
   "id": "46c9a5c6479f72d7",
   "execution_count": 76
  },
  {
   "cell_type": "markdown",
   "source": [
    "Selecting the Linear Support Vector Classification model"
   ],
   "metadata": {
    "collapsed": false
   },
   "id": "76724653bc8d0176"
  },
  {
   "cell_type": "code",
   "outputs": [],
   "source": [
    "from sklearn import svm\n",
    "from sklearn.metrics import classification_report\n",
    "# Perform classification with SVM, kernel=linear\n",
    "classifier_linear = svm.SVC(kernel='linear')"
   ],
   "metadata": {
    "collapsed": false,
    "ExecuteTime": {
     "end_time": "2024-02-28T20:16:32.436893Z",
     "start_time": "2024-02-28T20:16:32.433934Z"
    }
   },
   "id": "70377c6f3fa22629",
   "execution_count": 77
  },
  {
   "cell_type": "code",
   "outputs": [
    {
     "data": {
      "text/plain": "SVC(kernel='linear')",
      "text/html": "<style>#sk-container-id-3 {color: black;}#sk-container-id-3 pre{padding: 0;}#sk-container-id-3 div.sk-toggleable {background-color: white;}#sk-container-id-3 label.sk-toggleable__label {cursor: pointer;display: block;width: 100%;margin-bottom: 0;padding: 0.3em;box-sizing: border-box;text-align: center;}#sk-container-id-3 label.sk-toggleable__label-arrow:before {content: \"▸\";float: left;margin-right: 0.25em;color: #696969;}#sk-container-id-3 label.sk-toggleable__label-arrow:hover:before {color: black;}#sk-container-id-3 div.sk-estimator:hover label.sk-toggleable__label-arrow:before {color: black;}#sk-container-id-3 div.sk-toggleable__content {max-height: 0;max-width: 0;overflow: hidden;text-align: left;background-color: #f0f8ff;}#sk-container-id-3 div.sk-toggleable__content pre {margin: 0.2em;color: black;border-radius: 0.25em;background-color: #f0f8ff;}#sk-container-id-3 input.sk-toggleable__control:checked~div.sk-toggleable__content {max-height: 200px;max-width: 100%;overflow: auto;}#sk-container-id-3 input.sk-toggleable__control:checked~label.sk-toggleable__label-arrow:before {content: \"▾\";}#sk-container-id-3 div.sk-estimator input.sk-toggleable__control:checked~label.sk-toggleable__label {background-color: #d4ebff;}#sk-container-id-3 div.sk-label input.sk-toggleable__control:checked~label.sk-toggleable__label {background-color: #d4ebff;}#sk-container-id-3 input.sk-hidden--visually {border: 0;clip: rect(1px 1px 1px 1px);clip: rect(1px, 1px, 1px, 1px);height: 1px;margin: -1px;overflow: hidden;padding: 0;position: absolute;width: 1px;}#sk-container-id-3 div.sk-estimator {font-family: monospace;background-color: #f0f8ff;border: 1px dotted black;border-radius: 0.25em;box-sizing: border-box;margin-bottom: 0.5em;}#sk-container-id-3 div.sk-estimator:hover {background-color: #d4ebff;}#sk-container-id-3 div.sk-parallel-item::after {content: \"\";width: 100%;border-bottom: 1px solid gray;flex-grow: 1;}#sk-container-id-3 div.sk-label:hover label.sk-toggleable__label {background-color: #d4ebff;}#sk-container-id-3 div.sk-serial::before {content: \"\";position: absolute;border-left: 1px solid gray;box-sizing: border-box;top: 0;bottom: 0;left: 50%;z-index: 0;}#sk-container-id-3 div.sk-serial {display: flex;flex-direction: column;align-items: center;background-color: white;padding-right: 0.2em;padding-left: 0.2em;position: relative;}#sk-container-id-3 div.sk-item {position: relative;z-index: 1;}#sk-container-id-3 div.sk-parallel {display: flex;align-items: stretch;justify-content: center;background-color: white;position: relative;}#sk-container-id-3 div.sk-item::before, #sk-container-id-3 div.sk-parallel-item::before {content: \"\";position: absolute;border-left: 1px solid gray;box-sizing: border-box;top: 0;bottom: 0;left: 50%;z-index: -1;}#sk-container-id-3 div.sk-parallel-item {display: flex;flex-direction: column;z-index: 1;position: relative;background-color: white;}#sk-container-id-3 div.sk-parallel-item:first-child::after {align-self: flex-end;width: 50%;}#sk-container-id-3 div.sk-parallel-item:last-child::after {align-self: flex-start;width: 50%;}#sk-container-id-3 div.sk-parallel-item:only-child::after {width: 0;}#sk-container-id-3 div.sk-dashed-wrapped {border: 1px dashed gray;margin: 0 0.4em 0.5em 0.4em;box-sizing: border-box;padding-bottom: 0.4em;background-color: white;}#sk-container-id-3 div.sk-label label {font-family: monospace;font-weight: bold;display: inline-block;line-height: 1.2em;}#sk-container-id-3 div.sk-label-container {text-align: center;}#sk-container-id-3 div.sk-container {/* jupyter's `normalize.less` sets `[hidden] { display: none; }` but bootstrap.min.css set `[hidden] { display: none !important; }` so we also need the `!important` here to be able to override the default hidden behavior on the sphinx rendered scikit-learn.org. See: https://github.com/scikit-learn/scikit-learn/issues/21755 */display: inline-block !important;position: relative;}#sk-container-id-3 div.sk-text-repr-fallback {display: none;}</style><div id=\"sk-container-id-3\" class=\"sk-top-container\"><div class=\"sk-text-repr-fallback\"><pre>SVC(kernel=&#x27;linear&#x27;)</pre><b>In a Jupyter environment, please rerun this cell to show the HTML representation or trust the notebook. <br />On GitHub, the HTML representation is unable to render, please try loading this page with nbviewer.org.</b></div><div class=\"sk-container\" hidden><div class=\"sk-item\"><div class=\"sk-estimator sk-toggleable\"><input class=\"sk-toggleable__control sk-hidden--visually\" id=\"sk-estimator-id-3\" type=\"checkbox\" checked><label for=\"sk-estimator-id-3\" class=\"sk-toggleable__label sk-toggleable__label-arrow\">SVC</label><div class=\"sk-toggleable__content\"><pre>SVC(kernel=&#x27;linear&#x27;)</pre></div></div></div></div></div>"
     },
     "execution_count": 78,
     "metadata": {},
     "output_type": "execute_result"
    }
   ],
   "source": [
    "classifier_linear.fit(train_vectors, y_train)"
   ],
   "metadata": {
    "collapsed": false,
    "ExecuteTime": {
     "end_time": "2024-02-28T20:16:35.102207Z",
     "start_time": "2024-02-28T20:16:32.438606Z"
    }
   },
   "id": "4155433ee314f074",
   "execution_count": 78
  },
  {
   "cell_type": "markdown",
   "source": [
    "Evaluating Results"
   ],
   "metadata": {
    "collapsed": false
   },
   "id": "1213dc4911a64d86"
  },
  {
   "cell_type": "code",
   "outputs": [],
   "source": [
    "prediction_linear = classifier_linear.predict(test_vectors)"
   ],
   "metadata": {
    "collapsed": false,
    "ExecuteTime": {
     "end_time": "2024-02-28T20:16:35.578916Z",
     "start_time": "2024-02-28T20:16:35.103348Z"
    }
   },
   "id": "82b5f6394386e4df",
   "execution_count": 79
  },
  {
   "cell_type": "code",
   "outputs": [
    {
     "name": "stdout",
     "output_type": "stream",
     "text": [
      "Accuracy: 0.35\n",
      "                         precision    recall  f1-score   support\n",
      "\n",
      "           Action words       0.36      0.20      0.26        60\n",
      "              Buildings       0.26      0.24      0.25        76\n",
      "         Communications       0.89      0.93      0.91        90\n",
      "             Directions       0.39      0.23      0.29        30\n",
      "             Fire words       0.42      0.39      0.41       165\n",
      "      Hills and Forests       0.27      0.29      0.28        42\n",
      "Intel (from newspapers)       0.06      0.12      0.08        17\n",
      "        Named Locations       0.19      0.24      0.21       144\n",
      "        Reasoning words       0.18      0.19      0.18        43\n",
      "           Rescue words       0.25      0.29      0.27        66\n",
      "                  Woods       0.30      0.27      0.29        62\n",
      "\n",
      "               accuracy                           0.35       795\n",
      "              macro avg       0.33      0.31      0.31       795\n",
      "           weighted avg       0.36      0.35      0.35       795\n"
     ]
    }
   ],
   "source": [
    "# results\n",
    "report = classification_report(y_test, prediction_linear)\n",
    "print(f\"Accuracy: {accuracy_score(y_test, prediction_linear):.2f}\")\n",
    "print(report)"
   ],
   "metadata": {
    "collapsed": false,
    "ExecuteTime": {
     "end_time": "2024-02-28T20:16:35.650244Z",
     "start_time": "2024-02-28T20:16:35.580327Z"
    }
   },
   "id": "26fd294420aa2da",
   "execution_count": 80
  }
 ],
 "metadata": {
  "kernelspec": {
   "display_name": "Python 3",
   "language": "python",
   "name": "python3"
  },
  "language_info": {
   "codemirror_mode": {
    "name": "ipython",
    "version": 2
   },
   "file_extension": ".py",
   "mimetype": "text/x-python",
   "name": "python",
   "nbconvert_exporter": "python",
   "pygments_lexer": "ipython2",
   "version": "2.7.6"
  }
 },
 "nbformat": 4,
 "nbformat_minor": 5
}
