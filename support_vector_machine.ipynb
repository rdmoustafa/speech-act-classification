{
 "cells": [
  {
   "cell_type": "markdown",
   "source": [
    "### Support Vector Machines\n",
    "Using a support vector machine to classify data based on the speech act"
   ],
   "metadata": {
    "collapsed": false
   },
   "id": "87f871e05af36c7d"
  },
  {
   "cell_type": "code",
   "outputs": [],
   "source": [
    "import pandas as pd\n",
    "from sklearn.metrics import accuracy_score, classification_report"
   ],
   "metadata": {
    "collapsed": true,
    "ExecuteTime": {
     "end_time": "2024-02-13T12:47:05.313635Z",
     "start_time": "2024-02-13T12:47:05.303023Z"
    }
   },
   "id": "initial_id",
   "execution_count": 414
  },
  {
   "cell_type": "markdown",
   "source": [
    "Generating the sentences and labels from the Excel sheet"
   ],
   "metadata": {
    "collapsed": false
   },
   "id": "b4d37c3a49d99afb"
  },
  {
   "cell_type": "code",
   "outputs": [],
   "source": [
    "raw_data = pd.read_csv(\"data/labeled_sentences.csv\")\n",
    "\n",
    "sentences = raw_data[\"Sentence\"] \n",
    "labels = raw_data[\"Labels\"]"
   ],
   "metadata": {
    "collapsed": false,
    "ExecuteTime": {
     "end_time": "2024-02-13T12:47:05.336999Z",
     "start_time": "2024-02-13T12:47:05.318453Z"
    }
   },
   "id": "f2b0a9ef960be93e",
   "execution_count": 415
  },
  {
   "cell_type": "markdown",
   "source": [
    "Separating the data into training and test data"
   ],
   "metadata": {
    "collapsed": false
   },
   "id": "455a9e6772399854"
  },
  {
   "cell_type": "code",
   "outputs": [],
   "source": [
    "from sklearn.model_selection import train_test_split\n",
    "\n",
    "X_train, X_test, y_train, y_test = train_test_split(sentences, labels, test_size=0.3)"
   ],
   "metadata": {
    "collapsed": false,
    "ExecuteTime": {
     "end_time": "2024-02-13T12:47:05.359910Z",
     "start_time": "2024-02-13T12:47:05.343399Z"
    }
   },
   "id": "b377f48f7a0ccde2",
   "execution_count": 416
  },
  {
   "cell_type": "markdown",
   "source": [
    "## Preprocessing\n",
    "Vectorising based on the Tf-idf values in the data set"
   ],
   "metadata": {
    "collapsed": false
   },
   "id": "769e7a6349ab9aee"
  },
  {
   "cell_type": "code",
   "outputs": [],
   "source": [
    "from sklearn.feature_extraction.text import TfidfVectorizer\n",
    "# Create feature vectors\n",
    "vectorizer = TfidfVectorizer(min_df = 5,\n",
    "                             max_df = 0.8,\n",
    "                             sublinear_tf = True,\n",
    "                             use_idf = True)\n",
    "train_vectors = vectorizer.fit_transform(X_train)\n",
    "test_vectors = vectorizer.transform(X_test)"
   ],
   "metadata": {
    "collapsed": false,
    "ExecuteTime": {
     "end_time": "2024-02-13T12:47:05.492050Z",
     "start_time": "2024-02-13T12:47:05.385831Z"
    }
   },
   "id": "46c9a5c6479f72d7",
   "execution_count": 417
  },
  {
   "cell_type": "markdown",
   "source": [
    "Selecting the Linear Support Vector Classification model"
   ],
   "metadata": {
    "collapsed": false
   },
   "id": "76724653bc8d0176"
  },
  {
   "cell_type": "code",
   "outputs": [],
   "source": [
    "from sklearn import svm\n",
    "from sklearn.metrics import classification_report\n",
    "# Perform classification with SVM, kernel=linear\n",
    "classifier_linear = svm.SVC(kernel='linear')\n",
    "classifier_linear.fit(train_vectors, y_train)\n",
    "prediction_linear = classifier_linear.predict(test_vectors)"
   ],
   "metadata": {
    "collapsed": false,
    "ExecuteTime": {
     "end_time": "2024-02-13T12:47:09.407703Z",
     "start_time": "2024-02-13T12:47:05.495329Z"
    }
   },
   "id": "70377c6f3fa22629",
   "execution_count": 418
  },
  {
   "cell_type": "markdown",
   "source": [
    "Evaluating Results"
   ],
   "metadata": {
    "collapsed": false
   },
   "id": "1213dc4911a64d86"
  },
  {
   "cell_type": "code",
   "outputs": [
    {
     "name": "stdout",
     "output_type": "stream",
     "text": [
      "Accuracy: 0.37\n",
      "                         precision    recall  f1-score   support\n",
      "\n",
      "           Action words       0.12      0.01      0.02        89\n",
      "         Communications       0.47      0.67      0.55       667\n",
      "             Fire words       0.09      0.03      0.04        70\n",
      "Intel (from newspapers)       0.00      0.00      0.00        33\n",
      "        Reasoning words       0.12      0.03      0.04        74\n",
      "           Rescue words       0.09      0.05      0.06       107\n",
      "    Situation Awareness       0.16      0.15      0.16       346\n",
      "\n",
      "               accuracy                           0.37      1386\n",
      "              macro avg       0.15      0.13      0.13      1386\n",
      "           weighted avg       0.29      0.37      0.32      1386\n"
     ]
    }
   ],
   "source": [
    "# results\n",
    "report = classification_report(y_test, prediction_linear)\n",
    "print(f\"Accuracy: {accuracy_score(y_test, prediction_linear):.2f}\")\n",
    "print(report)"
   ],
   "metadata": {
    "collapsed": false,
    "ExecuteTime": {
     "end_time": "2024-02-13T12:47:09.466850Z",
     "start_time": "2024-02-13T12:47:09.409713Z"
    }
   },
   "id": "26fd294420aa2da",
   "execution_count": 419
  }
 ],
 "metadata": {
  "kernelspec": {
   "display_name": "Python 3",
   "language": "python",
   "name": "python3"
  },
  "language_info": {
   "codemirror_mode": {
    "name": "ipython",
    "version": 2
   },
   "file_extension": ".py",
   "mimetype": "text/x-python",
   "name": "python",
   "nbconvert_exporter": "python",
   "pygments_lexer": "ipython2",
   "version": "2.7.6"
  }
 },
 "nbformat": 4,
 "nbformat_minor": 5
}
