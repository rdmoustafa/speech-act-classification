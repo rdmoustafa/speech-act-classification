{
 "cells": [
  {
   "cell_type": "markdown",
   "source": [
    "### Support Vector Machines\n",
    "Using a support vector machine to classify data based on the speech act"
   ],
   "metadata": {
    "collapsed": false
   },
   "id": "87f871e05af36c7d"
  },
  {
   "cell_type": "code",
   "outputs": [],
   "source": [
    "from sklearn.metrics import accuracy_score, classification_report"
   ],
   "metadata": {
    "collapsed": true,
    "ExecuteTime": {
     "end_time": "2024-02-10T17:53:42.162035Z",
     "start_time": "2024-02-10T17:53:42.142252Z"
    }
   },
   "id": "initial_id",
   "execution_count": 190
  },
  {
   "cell_type": "markdown",
   "source": [
    "Generating the sentences and labels from the Excel sheet"
   ],
   "metadata": {
    "collapsed": false
   },
   "id": "b4d37c3a49d99afb"
  },
  {
   "cell_type": "code",
   "outputs": [],
   "source": [
    "# from preprocessing import get_sentences_labels\n",
    "\n",
    "# file_path = \"data/divided_data.xlsx\"\n",
    "\n",
    "# sentences, labels = get_sentences_labels(file_path)"
   ],
   "metadata": {
    "collapsed": false,
    "ExecuteTime": {
     "end_time": "2024-02-10T17:53:42.185047Z",
     "start_time": "2024-02-10T17:53:42.165733Z"
    }
   },
   "id": "a45df1543cdc221a",
   "execution_count": 191
  },
  {
   "cell_type": "code",
   "outputs": [
    {
     "name": "stdout",
     "output_type": "stream",
     "text": [
      "Data has been written to data/labeled_sentences.csv\n"
     ]
    }
   ],
   "source": [
    "from label_regex import label_csv\n",
    "\n",
    "labeled_sentences = label_csv(\"data/MainExpTranscriptFullSMAQPER.csv\")\n",
    "\n",
    "sentences = []\n",
    "labels = []\n",
    "for sentence, label in labeled_sentences:\n",
    "    sentences.append(sentence)\n",
    "    labels.append(label)"
   ],
   "metadata": {
    "collapsed": false,
    "ExecuteTime": {
     "end_time": "2024-02-10T17:53:42.330808Z",
     "start_time": "2024-02-10T17:53:42.172672Z"
    }
   },
   "id": "f2b0a9ef960be93e",
   "execution_count": 192
  },
  {
   "cell_type": "markdown",
   "source": [
    "Separating the data into training and test data"
   ],
   "metadata": {
    "collapsed": false
   },
   "id": "455a9e6772399854"
  },
  {
   "cell_type": "code",
   "outputs": [],
   "source": [
    "from sklearn.model_selection import train_test_split\n",
    "\n",
    "X_train, X_test, y_train, y_test = train_test_split(sentences, labels, test_size=0.3)"
   ],
   "metadata": {
    "collapsed": false,
    "ExecuteTime": {
     "end_time": "2024-02-10T17:53:42.337667Z",
     "start_time": "2024-02-10T17:53:42.330331Z"
    }
   },
   "id": "b377f48f7a0ccde2",
   "execution_count": 193
  },
  {
   "cell_type": "markdown",
   "source": [
    "## Preprocessing\n",
    "Vectorising based on the Tf-idf values in the data set"
   ],
   "metadata": {
    "collapsed": false
   },
   "id": "769e7a6349ab9aee"
  },
  {
   "cell_type": "code",
   "outputs": [],
   "source": [
    "from sklearn.feature_extraction.text import TfidfVectorizer\n",
    "# Create feature vectors\n",
    "vectorizer = TfidfVectorizer(min_df = 5,\n",
    "                             max_df = 0.8,\n",
    "                             sublinear_tf = True,\n",
    "                             use_idf = True)\n",
    "train_vectors = vectorizer.fit_transform(X_train)\n",
    "test_vectors = vectorizer.transform(X_test)"
   ],
   "metadata": {
    "collapsed": false,
    "ExecuteTime": {
     "end_time": "2024-02-10T17:53:42.471310Z",
     "start_time": "2024-02-10T17:53:42.352511Z"
    }
   },
   "id": "46c9a5c6479f72d7",
   "execution_count": 194
  },
  {
   "cell_type": "markdown",
   "source": [
    "Selecting the Linear Support Vector Classification model"
   ],
   "metadata": {
    "collapsed": false
   },
   "id": "76724653bc8d0176"
  },
  {
   "cell_type": "code",
   "outputs": [],
   "source": [
    "from sklearn import svm\n",
    "from sklearn.metrics import classification_report\n",
    "# Perform classification with SVM, kernel=linear\n",
    "classifier_linear = svm.SVC(kernel='linear')\n",
    "classifier_linear.fit(train_vectors, y_train)\n",
    "prediction_linear = classifier_linear.predict(test_vectors)"
   ],
   "metadata": {
    "collapsed": false,
    "ExecuteTime": {
     "end_time": "2024-02-10T17:53:46.182390Z",
     "start_time": "2024-02-10T17:53:42.477348Z"
    }
   },
   "id": "70377c6f3fa22629",
   "execution_count": 195
  },
  {
   "cell_type": "markdown",
   "source": [
    "Evaluating Results"
   ],
   "metadata": {
    "collapsed": false
   },
   "id": "1213dc4911a64d86"
  },
  {
   "cell_type": "code",
   "outputs": [
    {
     "name": "stdout",
     "output_type": "stream",
     "text": [
      "Accuracy: 0.38\n",
      "                         precision    recall  f1-score   support\n",
      "\n",
      "           Action words       0.00      0.00      0.00        76\n",
      "         Communications       0.47      0.69      0.56       659\n",
      "             Fire words       0.14      0.03      0.05        64\n",
      "Intel (from newspapers)       0.18      0.04      0.07        49\n",
      "        Reasoning words       0.06      0.03      0.04        80\n",
      "           Rescue words       0.10      0.06      0.08        93\n",
      "    Situation Awareness       0.19      0.15      0.17       363\n",
      "\n",
      "               accuracy                           0.38      1384\n",
      "              macro avg       0.16      0.14      0.14      1384\n",
      "           weighted avg       0.30      0.38      0.32      1384\n"
     ]
    }
   ],
   "source": [
    "# results\n",
    "report = classification_report(y_test, prediction_linear)\n",
    "print(f\"Accuracy: {accuracy_score(y_test, prediction_linear):.2f}\")\n",
    "print(report)"
   ],
   "metadata": {
    "collapsed": false,
    "ExecuteTime": {
     "end_time": "2024-02-10T17:53:46.228323Z",
     "start_time": "2024-02-10T17:53:46.183315Z"
    }
   },
   "id": "26fd294420aa2da",
   "execution_count": 196
  }
 ],
 "metadata": {
  "kernelspec": {
   "display_name": "Python 3",
   "language": "python",
   "name": "python3"
  },
  "language_info": {
   "codemirror_mode": {
    "name": "ipython",
    "version": 2
   },
   "file_extension": ".py",
   "mimetype": "text/x-python",
   "name": "python",
   "nbconvert_exporter": "python",
   "pygments_lexer": "ipython2",
   "version": "2.7.6"
  }
 },
 "nbformat": 4,
 "nbformat_minor": 5
}
