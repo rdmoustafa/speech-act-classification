{
 "cells": [
  {
   "cell_type": "markdown",
   "source": [
    "### Support Vector Machines\n",
    "Using a support vector machine to classify data based on the speech act"
   ],
   "metadata": {
    "collapsed": false
   },
   "id": "87f871e05af36c7d"
  },
  {
   "cell_type": "code",
   "outputs": [],
   "source": [
    "from sklearn.model_selection import train_test_split\n",
    "from sklearn.feature_extraction.text import TfidfVectorizer\n",
    "from sklearn.svm import LinearSVC\n",
    "from sklearn.metrics import accuracy_score, classification_report\n",
    "\n",
    "from preprocessing import get_sentences_labels"
   ],
   "metadata": {
    "collapsed": true,
    "ExecuteTime": {
     "end_time": "2024-02-06T17:18:35.912024Z",
     "start_time": "2024-02-06T17:18:35.839822Z"
    }
   },
   "id": "initial_id",
   "execution_count": 41
  },
  {
   "cell_type": "markdown",
   "source": [
    "Generating the sentences and labels from the Excel sheet"
   ],
   "metadata": {
    "collapsed": false
   },
   "id": "b4d37c3a49d99afb"
  },
  {
   "cell_type": "code",
   "outputs": [
    {
     "name": "stdout",
     "output_type": "stream",
     "text": [
      "Sentences:  ['alpha, charlie. bravo check.', \"alpha you're loud_and_clear.\", 'charlie. good to me', 'charlie, charlie one, bravo radio check. ', 'yeah. charlie good to me. over']\n",
      "I have sentences:  81\n",
      "Correct Labels:  ['Request for Situation', 'Statement of Situation', 'Statement of Situation', 'Request for Situation', 'Statement of Situation']\n",
      "I have labels:  81\n"
     ]
    }
   ],
   "source": [
    "sentences, labels = get_sentences_labels()"
   ],
   "metadata": {
    "collapsed": false,
    "ExecuteTime": {
     "end_time": "2024-02-06T17:18:35.966632Z",
     "start_time": "2024-02-06T17:18:35.930892Z"
    }
   },
   "id": "a45df1543cdc221a",
   "execution_count": 42
  },
  {
   "cell_type": "markdown",
   "source": [
    "## Preprocessing\n",
    "Vectorising based on the Tf-idf values in the data set"
   ],
   "metadata": {
    "collapsed": false
   },
   "id": "769e7a6349ab9aee"
  },
  {
   "cell_type": "code",
   "outputs": [],
   "source": [
    "vectorizer = TfidfVectorizer()\n",
    "X = vectorizer.fit_transform(sentences)"
   ],
   "metadata": {
    "collapsed": false,
    "ExecuteTime": {
     "end_time": "2024-02-06T17:18:35.968374Z",
     "start_time": "2024-02-06T17:18:35.941452Z"
    }
   },
   "id": "46c9a5c6479f72d7",
   "execution_count": 43
  },
  {
   "cell_type": "markdown",
   "source": [
    "Create the train-test split"
   ],
   "metadata": {
    "collapsed": false
   },
   "id": "8efefb522af0ec20"
  },
  {
   "cell_type": "code",
   "outputs": [],
   "source": [
    "X_train, X_test, y_train, y_test = train_test_split(X, labels, test_size=0.20, random_state=8)"
   ],
   "metadata": {
    "collapsed": false,
    "ExecuteTime": {
     "end_time": "2024-02-06T17:18:35.969103Z",
     "start_time": "2024-02-06T17:18:35.947590Z"
    }
   },
   "id": "4bb66bc5b7ab6156",
   "execution_count": 44
  },
  {
   "cell_type": "markdown",
   "source": [
    "Selecting the Linear Support Vector Classification model"
   ],
   "metadata": {
    "collapsed": false
   },
   "id": "76724653bc8d0176"
  },
  {
   "cell_type": "code",
   "outputs": [],
   "source": [
    "classifier = LinearSVC()"
   ],
   "metadata": {
    "collapsed": false,
    "ExecuteTime": {
     "end_time": "2024-02-06T17:18:35.971680Z",
     "start_time": "2024-02-06T17:18:35.957042Z"
    }
   },
   "id": "70377c6f3fa22629",
   "execution_count": 45
  },
  {
   "cell_type": "markdown",
   "source": [
    "Training the model"
   ],
   "metadata": {
    "collapsed": false
   },
   "id": "cb0eea45e09de7b7"
  },
  {
   "cell_type": "code",
   "outputs": [
    {
     "name": "stderr",
     "output_type": "stream",
     "text": [
      "/Users/reem/Desktop/University/Year4/Final_Year_Project/Speech_Acts_Classification/venv/lib/python3.11/site-packages/sklearn/svm/_classes.py:32: FutureWarning: The default value of `dual` will change from `True` to `'auto'` in 1.5. Set the value of `dual` explicitly to suppress the warning.\n",
      "  warnings.warn(\n"
     ]
    },
    {
     "data": {
      "text/plain": "LinearSVC()",
      "text/html": "<style>#sk-container-id-5 {color: black;}#sk-container-id-5 pre{padding: 0;}#sk-container-id-5 div.sk-toggleable {background-color: white;}#sk-container-id-5 label.sk-toggleable__label {cursor: pointer;display: block;width: 100%;margin-bottom: 0;padding: 0.3em;box-sizing: border-box;text-align: center;}#sk-container-id-5 label.sk-toggleable__label-arrow:before {content: \"▸\";float: left;margin-right: 0.25em;color: #696969;}#sk-container-id-5 label.sk-toggleable__label-arrow:hover:before {color: black;}#sk-container-id-5 div.sk-estimator:hover label.sk-toggleable__label-arrow:before {color: black;}#sk-container-id-5 div.sk-toggleable__content {max-height: 0;max-width: 0;overflow: hidden;text-align: left;background-color: #f0f8ff;}#sk-container-id-5 div.sk-toggleable__content pre {margin: 0.2em;color: black;border-radius: 0.25em;background-color: #f0f8ff;}#sk-container-id-5 input.sk-toggleable__control:checked~div.sk-toggleable__content {max-height: 200px;max-width: 100%;overflow: auto;}#sk-container-id-5 input.sk-toggleable__control:checked~label.sk-toggleable__label-arrow:before {content: \"▾\";}#sk-container-id-5 div.sk-estimator input.sk-toggleable__control:checked~label.sk-toggleable__label {background-color: #d4ebff;}#sk-container-id-5 div.sk-label input.sk-toggleable__control:checked~label.sk-toggleable__label {background-color: #d4ebff;}#sk-container-id-5 input.sk-hidden--visually {border: 0;clip: rect(1px 1px 1px 1px);clip: rect(1px, 1px, 1px, 1px);height: 1px;margin: -1px;overflow: hidden;padding: 0;position: absolute;width: 1px;}#sk-container-id-5 div.sk-estimator {font-family: monospace;background-color: #f0f8ff;border: 1px dotted black;border-radius: 0.25em;box-sizing: border-box;margin-bottom: 0.5em;}#sk-container-id-5 div.sk-estimator:hover {background-color: #d4ebff;}#sk-container-id-5 div.sk-parallel-item::after {content: \"\";width: 100%;border-bottom: 1px solid gray;flex-grow: 1;}#sk-container-id-5 div.sk-label:hover label.sk-toggleable__label {background-color: #d4ebff;}#sk-container-id-5 div.sk-serial::before {content: \"\";position: absolute;border-left: 1px solid gray;box-sizing: border-box;top: 0;bottom: 0;left: 50%;z-index: 0;}#sk-container-id-5 div.sk-serial {display: flex;flex-direction: column;align-items: center;background-color: white;padding-right: 0.2em;padding-left: 0.2em;position: relative;}#sk-container-id-5 div.sk-item {position: relative;z-index: 1;}#sk-container-id-5 div.sk-parallel {display: flex;align-items: stretch;justify-content: center;background-color: white;position: relative;}#sk-container-id-5 div.sk-item::before, #sk-container-id-5 div.sk-parallel-item::before {content: \"\";position: absolute;border-left: 1px solid gray;box-sizing: border-box;top: 0;bottom: 0;left: 50%;z-index: -1;}#sk-container-id-5 div.sk-parallel-item {display: flex;flex-direction: column;z-index: 1;position: relative;background-color: white;}#sk-container-id-5 div.sk-parallel-item:first-child::after {align-self: flex-end;width: 50%;}#sk-container-id-5 div.sk-parallel-item:last-child::after {align-self: flex-start;width: 50%;}#sk-container-id-5 div.sk-parallel-item:only-child::after {width: 0;}#sk-container-id-5 div.sk-dashed-wrapped {border: 1px dashed gray;margin: 0 0.4em 0.5em 0.4em;box-sizing: border-box;padding-bottom: 0.4em;background-color: white;}#sk-container-id-5 div.sk-label label {font-family: monospace;font-weight: bold;display: inline-block;line-height: 1.2em;}#sk-container-id-5 div.sk-label-container {text-align: center;}#sk-container-id-5 div.sk-container {/* jupyter's `normalize.less` sets `[hidden] { display: none; }` but bootstrap.min.css set `[hidden] { display: none !important; }` so we also need the `!important` here to be able to override the default hidden behavior on the sphinx rendered scikit-learn.org. See: https://github.com/scikit-learn/scikit-learn/issues/21755 */display: inline-block !important;position: relative;}#sk-container-id-5 div.sk-text-repr-fallback {display: none;}</style><div id=\"sk-container-id-5\" class=\"sk-top-container\"><div class=\"sk-text-repr-fallback\"><pre>LinearSVC()</pre><b>In a Jupyter environment, please rerun this cell to show the HTML representation or trust the notebook. <br />On GitHub, the HTML representation is unable to render, please try loading this page with nbviewer.org.</b></div><div class=\"sk-container\" hidden><div class=\"sk-item\"><div class=\"sk-estimator sk-toggleable\"><input class=\"sk-toggleable__control sk-hidden--visually\" id=\"sk-estimator-id-5\" type=\"checkbox\" checked><label for=\"sk-estimator-id-5\" class=\"sk-toggleable__label sk-toggleable__label-arrow\">LinearSVC</label><div class=\"sk-toggleable__content\"><pre>LinearSVC()</pre></div></div></div></div></div>"
     },
     "execution_count": 46,
     "metadata": {},
     "output_type": "execute_result"
    }
   ],
   "source": [
    "classifier.fit(X_train, y_train)"
   ],
   "metadata": {
    "collapsed": false,
    "ExecuteTime": {
     "end_time": "2024-02-06T17:18:36.059478Z",
     "start_time": "2024-02-06T17:18:35.974281Z"
    }
   },
   "id": "805aa787fbf3fa45",
   "execution_count": 46
  },
  {
   "cell_type": "markdown",
   "source": [
    "Evaluating the model, running test set"
   ],
   "metadata": {
    "collapsed": false
   },
   "id": "6324c65cf0bbbbd7"
  },
  {
   "cell_type": "code",
   "outputs": [],
   "source": [
    "y_pred = classifier.predict(X_test)"
   ],
   "metadata": {
    "collapsed": false,
    "ExecuteTime": {
     "end_time": "2024-02-06T17:18:36.106984Z",
     "start_time": "2024-02-06T17:18:36.062512Z"
    }
   },
   "id": "32503c5d1c4ee5c1",
   "execution_count": 47
  },
  {
   "cell_type": "markdown",
   "source": [
    "Evaluating Accuracy and Classification Report"
   ],
   "metadata": {
    "collapsed": false
   },
   "id": "6510ea06b2d86a1c"
  },
  {
   "cell_type": "code",
   "outputs": [
    {
     "name": "stdout",
     "output_type": "stream",
     "text": [
      "Accuracy: 0.65\n",
      "Classification Report:\n",
      "                          precision    recall  f1-score   support\n",
      "\n",
      "         Not Classified       0.50      0.50      0.50         2\n",
      "     Request for Action       1.00      1.00      1.00         1\n",
      "  Request for Situation       1.00      1.00      1.00         1\n",
      "    Statement of Intent       0.71      0.83      0.77         6\n",
      "Statement of Prediction       0.00      0.00      0.00         2\n",
      " Statement of Situation       0.50      0.60      0.55         5\n",
      "\n",
      "               accuracy                           0.65        17\n",
      "              macro avg       0.62      0.66      0.64        17\n",
      "           weighted avg       0.58      0.65      0.61        17\n"
     ]
    }
   ],
   "source": [
    "print(f\"Accuracy: {accuracy_score(y_test, y_pred):.2f}\")\n",
    "\n",
    "print(\"Classification Report:\\n\", classification_report(y_test, y_pred, zero_division=0))"
   ],
   "metadata": {
    "collapsed": false,
    "ExecuteTime": {
     "end_time": "2024-02-06T17:18:36.147609Z",
     "start_time": "2024-02-06T17:18:36.100796Z"
    }
   },
   "id": "12a80e7f5d62ee67",
   "execution_count": 48
  },
  {
   "cell_type": "markdown",
   "source": [
    "Predict the speech acts of new sentences now that the model has been trained\n",
    "0 = statement, 1 = request, 2 = request"
   ],
   "metadata": {
    "collapsed": false
   },
   "id": "5f5a0e3ff02b80ef"
  },
  {
   "cell_type": "code",
   "outputs": [],
   "source": [
    "new_sentences = [\"i think you're on it rather next to it. you need to be next to it.\",\n",
    "                 \"yeah, i'm putting up northwesterly barrier. you see where firetruck_one, firetruck_two and \"\n",
    "                 \"firetruck_three are?\",\n",
    "                 \"yeah. confirm all fires extinguished?\"]\n",
    "new_X = vectorizer.transform(new_sentences)\n",
    "new_predictions = classifier.predict(new_X)"
   ],
   "metadata": {
    "collapsed": false,
    "ExecuteTime": {
     "end_time": "2024-02-06T17:18:36.180712Z",
     "start_time": "2024-02-06T17:18:36.154594Z"
    }
   },
   "id": "2f791c443fcb786",
   "execution_count": 49
  },
  {
   "cell_type": "markdown",
   "source": [
    "Print predictions for new sentences"
   ],
   "metadata": {
    "collapsed": false
   },
   "id": "c23e9727e36160b0"
  },
  {
   "cell_type": "code",
   "outputs": [
    {
     "name": "stdout",
     "output_type": "stream",
     "text": [
      "Sentence: 'i think you're on it rather next to it. you need to be next to it.'\t Predicted Speech Act: Statement of Situation\n",
      "Sentence: 'yeah, i'm putting up northwesterly barrier. you see where firetruck_one, firetruck_two and firetruck_three are?'\t Predicted Speech Act: Request for Situation\n",
      "Sentence: 'yeah. confirm all fires extinguished?'\t Predicted Speech Act: Request for Situation\n"
     ]
    }
   ],
   "source": [
    "for sentence, prediction in zip(new_sentences, new_predictions):\n",
    "    print(f\"Sentence: '{sentence}'\\t Predicted Speech Act: {prediction}\")"
   ],
   "metadata": {
    "collapsed": false,
    "ExecuteTime": {
     "end_time": "2024-02-06T17:18:36.233869Z",
     "start_time": "2024-02-06T17:18:36.182429Z"
    }
   },
   "id": "c55647d9fb3face6",
   "execution_count": 50
  }
 ],
 "metadata": {
  "kernelspec": {
   "display_name": "Python 3",
   "language": "python",
   "name": "python3"
  },
  "language_info": {
   "codemirror_mode": {
    "name": "ipython",
    "version": 2
   },
   "file_extension": ".py",
   "mimetype": "text/x-python",
   "name": "python",
   "nbconvert_exporter": "python",
   "pygments_lexer": "ipython2",
   "version": "2.7.6"
  }
 },
 "nbformat": 4,
 "nbformat_minor": 5
}
