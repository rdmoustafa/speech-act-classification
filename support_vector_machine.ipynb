{
 "cells": [
  {
   "cell_type": "markdown",
   "source": [
    "### Support Vector Machines\n",
    "Using a support vector machine to classify data based on the speech act"
   ],
   "metadata": {
    "collapsed": false
   },
   "id": "87f871e05af36c7d"
  },
  {
   "cell_type": "code",
   "outputs": [],
   "source": [
    "from sklearn.model_selection import train_test_split\n",
    "from sklearn.feature_extraction.text import TfidfVectorizer\n",
    "from sklearn.svm import LinearSVC\n",
    "from sklearn.metrics import accuracy_score, classification_report\n",
    "\n",
    "from preprocessing import get_sentences_labels"
   ],
   "metadata": {
    "collapsed": true,
    "ExecuteTime": {
     "end_time": "2024-02-08T16:20:45.342878Z",
     "start_time": "2024-02-08T16:20:45.313005Z"
    }
   },
   "id": "initial_id",
   "execution_count": 64
  },
  {
   "cell_type": "markdown",
   "source": [
    "Generating the sentences and labels from the Excel sheet"
   ],
   "metadata": {
    "collapsed": false
   },
   "id": "b4d37c3a49d99afb"
  },
  {
   "cell_type": "code",
   "outputs": [
    {
     "name": "stdout",
     "output_type": "stream",
     "text": [
      "Sentences:  ['alpha, charlie. bravo check.', \"alpha you're loud_and_clear.\", 'charlie. good to me', 'charlie, charlie one, bravo radio check. ', 'yeah. charlie good to me. over', \"you're loud_and_clear. from alpha.\", 'splendid.', \"ok, my piece of news is all about the lowtown hospital, that's in grid square november_30.  how they have been able to save the hospital. so i would expect it to be lots of people there, potentially. \", 'bravo, i’ve some irrelevant drivel about squirrels in firwood. ', \"yeah, i've something about steel. probably given it to me because i'm northern. but again, its useless.\", '5 minutes for planning. starting now.', \"ok, so i think the grid idea from alex mark one is a good idea. so if we do get intelligence of a fire position then i will immediately take firetruck _two in the optimal position which would be two squares away from the origin of the fire in the direction of the wind and then i'll place  firetruck _one and  firetruck _three at a gap either side of that and then  firetruck _four and  firetruck _five can slot in.  that leaves you, alex two, with your  firetruck_six that you can then go either side of that barrier line depending on where you feel the biggest threat is or where the people are. i assume alex one you’ll take  firetruck _seven and  firetruck _eight for replenishment into a position that will best serve serve all of that.  i'm starting on 40, then. just confirm firetruck_four, firetruck_five, and firetruck_six you've got 40 capacity?\", \"ok, so i think the grid idea from alex mark one is a good idea. so if we do get intelligence of a fire position then i will immediately take firetruck _two in the optimal position which would be two squares away from the origin of the fire in the direction of the wind and then i'll place  firetruck _one and  firetruck _three at a gap either side of that and then  firetruck _four and  firetruck _five can slot in.  that leaves you, alex two, with your  firetruck_six that you can then go either side of that barrier line depending on where you feel the biggest threat is or where the people are. i assume alex one you’ll take  firetruck _seven and  firetruck _eight for replenishment into a position that will best serve serve all of that.  i'm starting on 40, then. just confirm firetruck_four, firetruck_five, and firetruck_six you've got 40 capacity?\", 'fully loaded.', \" yeah, i'm on 40 as well.\", 'ok', \"hello. all stations this is additional information. in this context, you'll be seeing the map in unit only view.\", 'as in the last practise.', 'yes.', 'roger', \"just done a quick ipb. clearly we've westhill and easterly interspersed with wood blocks. so, any kind of fire there is likely to rapidly spread given the wind direction. i'm also noting where the two drop-off points are, they're quite dislocated from centre of gravities. the next area of concern would be towards the south east to the newforest region as well. given that that is three times more likely to burn. so i suspect the earlier stage of this operation, i'll go to newforest into the newtown area with one of my vehicles and easterly with another one of my vehicles. check?\", \"just done a quick ipb. clearly we've westhill and easterly interspersed with wood blocks. so, any kind of fire there is likely to rapidly spread given the wind direction. i'm also noting where the two drop-off points are, they're quite dislocated from centre of gravities. the next area of concern would be towards the south east to the newforest region as well. given that that is three times more likely to burn. so i suspect the earlier stage of this operation, i'll go to newforest into the newtown area with one of my vehicles and easterly with another one of my vehicles. check?\", \"just done a quick ipb. clearly we've westhill and easterly interspersed with wood blocks. so, any kind of fire there is likely to rapidly spread given the wind direction. i'm also noting where the two drop-off points are, they're quite dislocated from centre of gravities. the next area of concern would be towards the south east to the newforest region as well. given that that is three times more likely to burn. so i suspect the earlier stage of this operation, i'll go to newforest into the newtown area with one of my vehicles and easterly with another one of my vehicles. check?\", 'great. ok. roger. yeah, makes sense. ', \"roger. in addition to that, i think if we can avoid, depending on where the fire starts,  but let's it starts west of the newforest, we can avoid it,  if we can prevent , put a block in before newforest gets hit, that'll save a lot of a lot of grief. \", \"roger. in addition to that, i think if we can avoid, depending on where the fire starts,  but let's it starts west of the newforest, we can avoid it,  if we can prevent , put a block in before newforest gets hit, that'll save a lot of a lot of grief. \", 'yeah i agree and if we have to accept', \"and if we can't do that we have to accept newforest is burnt, then we'll just have to go hard down the alpha_india line. \", \"true, but if that, i mean what i'm saying is we can't let newforest hit because if it does that the fire will be uncontrollable in that forest and it will come out the other side all the way from 26 down to 36. \", \"true, but if that, i mean what i'm saying is we can't let newforest hit because if it does that the fire will be uncontrollable in that forest and it will come out the other side all the way from 26 down to 36. \", 'which means oldtown and newtown will be buggered.  that’s accepting middle town. ', 'yeah, that’s true. ', 'yep. yeah ok.  yeah, you’re right', 'so, are we in agreement to spend most of our… centre of gravity of our units to kind of the southern side of the map, so in bottom half, centred some of the west and some on the south east? so on the bottom half.', \"yeah, i think so.  i'm looking at the wind direction, finding that doesn't change. it was coming from the west.  then anything to the west of newforest, its going to rip through in towards newtown.  newtown and oldtown fairly quickly. so alex one, i think you’re absolutely right.  we need to try and prevent or stop anything going near the newforest if we can help it.\", \"yeah, i think so.  i'm looking at the wind direction, finding that doesn't change. it was coming from the west.  then anything to the west of newforest, its going to rip through in towards newtown.  newtown and oldtown fairly quickly. so alex one, i think you’re absolutely right.  we need to try and prevent or stop anything going near the newforest if we can help it.\", \"so we need to push this on a bit. i need firetruck_one, firetruck_two and firetruck_three for about two or three minutes. firetruck_four, firetruck_five, and firetruck_six go down to castleton and i'll come and join you as soon as i can. fire, fire, fire. fire instantly over in oscar_20 and oscar_29. \", \"so we need to push this on a bit. i need firetruck_one, firetruck_two and firetruck_three for about two or three minutes. firetruck_four, firetruck_five, and firetruck_six go down to castleton and i'll come and join you as soon as i can. fire, fire, fire. fire instantly over in oscar_20 and oscar_29. \", 'just conscious that fire might spin in towards swanton as well. so castleton immediate priority and then switch fire to swanton.  ', 'just conscious that fire might spin in towards swanton as well. so castleton immediate priority and then switch fire to swanton.  ', \" i think what we've done it's made a massive change in the face of the enemy.\", 'winterfold is clear. winterfold is clear.', 'two_pax at firetruck_ seven in castleton.', 'understood.', 'one_pax at current location of firetruck_seven. ', 'i think we need to stop chasing. firetruck_one and firetruck_two should push down towards swanton. ', \"yeah. copy that. coming down now.  i'm just resupplying. i'll form a,  if you carry on fighting where you at castleton, i'm going to go down to the east of swanton and try and put a barrier up against it to protect swanton and hanley.\", \"yeah. copy that. coming down now.  i'm just resupplying. i'll form a,  if you carry on fighting where you at castleton, i'm going to go down to the east of swanton and try and put a barrier up against it to protect swanton and hanley.\", \"bravo, i’m hoping you’re getting those people out of caslteton.  there's a couple of the southern buildings. \", \"i should be filling up with the water but it's not the moment. \", \"i think you're on it rather next to it. you need to be next to it. \", \"yeah,  you're right. refilling now.  \", \"so firetruck_four, firetruck_five, and firetruck_six let's try and form a baseline to protect swanton. and then firetruck_one, firetruck_two, firetruck_three you just head directly east to stop the breckenhill. \", 'ok.  ', \"so firetruck_one, firetruck_two, firetruck_three head immediately east. in the vicinity of wyreforest and then firetruck_four, firetruck_five, firetruck_six let's form a baseline in swanton. \", \"we need to stop getting to underwood actually so we've got to stop it at whatever the village is that’s disappeared.\", 'alex send a supply vehicle down to firetruck_six, please?  ', 'on it.', ' is that the fire in the northwest dealt with now? over.  ', 'yeah.', 'yes it is, yeah. ', 'right. charlie charlie one, we need to stop this getting into the woods around underwood otherwise it will spread more than we can contain it. ', \"yeah, i'm putting up northwesterly  barrier. you see where firetruck_one, firetruck_two and firetruck_three are? \", \"yeah, i'm putting up northwesterly  barrier. you see where firetruck_one, firetruck_two and firetruck_three are? \", \"don't forget, it goes through the diagonals. it has to be an l_shaped block. \", 'alex move firetruck_eight towards firetruck_six please? ', 'moving . you’re nearly full. ', 'moving . you’re nearly full. ', 'won’t be in a second. ', 'alpha is you move one to cover the westernmost, sorry easternmost fire.  ', 'on it.', 'stop there. ', 'i’d say standby for the fire lads because it seems to getting be a bit too quiet now. ', 'fire’s out. relocating assets to castlehill. ', \"let’s just do quick search of beaconhill as well. i don't think that's been cleared yet.\", 'yeah. confirm all fires extinguished?  ', 'so quick check guys, so malton is clear, right by the car park which is about a 120_pax,  winterfold is clear, trench wood is clear,  castlehill is clear and castleton is clear. so what we need to check is underwood, beaconhill, hanley, and swanton. over.', 'so quick check guys, so malton is clear, right by the car park which is about a 120_pax,  winterfold is clear, trench wood is clear,  castlehill is clear and castleton is clear. so what we need to check is underwood, beaconhill, hanley, and swanton. over.', 'warning fire warning juliet_24, papa_delta_7. ', 'that puts a hanley in there the firing line. suggest forming block north of wildwood. over. ', 'that puts a hanley in there the firing line. suggest forming block north of wildwood. over. ', 'yep. bringing them down there now, firetruck_two is on its way.', 'charlie charlie one, see where firetruck_one, firetruck_four and firetruck_five are going. if we’re able to block the fire,  in the same way that we dealt with the first one but properly then we should be able to stop in there and then. so, if we have two on line 24 on either side that will stop going anywhere. the one block north of firetruck_six and firetruck_five.  ', 'charlie charlie one, see where firetruck_one, firetruck_four and firetruck_five are going. if we’re able to block the fire,  in the same way that we dealt with the first one but properly then we should be able to stop in there and then. so, if we have two on line 24 on either side that will stop going anywhere. the one block north of firetruck_six and firetruck_five.  ']\n",
      "I have sentences:  84\n",
      "Correct Labels:  ['Request for Situation', 'Statement of Situation', 'Statement of Situation', 'Request for Situation', 'Statement of Situation', 'Statement of Situation', 'Not Classified', 'Statement of Situation', 'Statement of Situation', 'Statement of Situation', 'Statement of Action', 'Statement of Intent', 'Request for Situation', 'Statement of Situation', 'Statement of Situation', 'Not Classified', 'Statement of Situation', 'Statement of Situation', 'Not Classified', 'Not Classified', 'Statement of Intent', 'Statement of Prediction', 'Statement of Situation', 'Not Classified', 'Statement of Intent', 'Statement of Prediction', 'Not Classified', 'Statement of Intent', 'Statement of Intent', 'Statement of Prediction', 'Statement of Prediction', 'Not Classified', 'Not Classified', 'Statement of Intent', 'Statement of Intent', 'Statement of Prediction', 'Statement of Intent', 'Request for Action', 'Statement of Intent', 'Statement of Prediction', 'Statement of Prediction', 'Statement of Situation', 'Statement of Situation', 'Not Classified', 'Statement of Situation', 'Statement of Intent', 'Statement of Intent', 'Statement of Action', 'Request for Action', 'Statement of Situation', 'Statement of Situation', 'Statement of Action', 'Statement of Intent', 'Not Classified', 'Statement of Intent', 'Statement of Intent', 'Request for Action', 'Statement of Action', 'Request for Situation', 'Statement of Situation', 'Statement of Situation', 'Statement of Intent', 'Statement of Action', 'Request for Situation', 'Statement of Situation', 'Request for Action', 'Statement of Situation', 'Statement of Action', 'Statement of Situation', 'Statement of Intent', 'Statement of Action', 'Request for Action', 'Statement of Prediction', 'Statement of Action', 'Statement of Intent', 'Request for Situation', 'Statement of Intent', 'Statement of Situation', 'Statement of Prediction', 'Statement of Intent', 'Statement of Situation', 'Statement of Action', 'Statement of Intent', 'Statement of Situation']\n",
      "I have labels:  84\n"
     ]
    }
   ],
   "source": [
    "# file_path = \"data/interrater_data.xlsx\"\n",
    "file_path = \"data/combined_data_set.xlsx\"\n",
    "# file_path = \"data/\"\n",
    "\n",
    "sentences, labels = get_sentences_labels(file_path)"
   ],
   "metadata": {
    "collapsed": false,
    "ExecuteTime": {
     "end_time": "2024-02-08T16:20:45.402152Z",
     "start_time": "2024-02-08T16:20:45.346317Z"
    }
   },
   "id": "a45df1543cdc221a",
   "execution_count": 65
  },
  {
   "cell_type": "markdown",
   "source": [
    "## Preprocessing\n",
    "Vectorising based on the Tf-idf values in the data set"
   ],
   "metadata": {
    "collapsed": false
   },
   "id": "769e7a6349ab9aee"
  },
  {
   "cell_type": "code",
   "outputs": [],
   "source": [
    "vectorizer = TfidfVectorizer()\n",
    "X = vectorizer.fit_transform(sentences)"
   ],
   "metadata": {
    "collapsed": false,
    "ExecuteTime": {
     "end_time": "2024-02-08T16:20:45.479101Z",
     "start_time": "2024-02-08T16:20:45.410420Z"
    }
   },
   "id": "46c9a5c6479f72d7",
   "execution_count": 66
  },
  {
   "cell_type": "markdown",
   "source": [
    "Create the train-test split"
   ],
   "metadata": {
    "collapsed": false
   },
   "id": "8efefb522af0ec20"
  },
  {
   "cell_type": "code",
   "outputs": [],
   "source": [
    "X_train, X_test, y_train, y_test = train_test_split(X, labels, test_size=0.20)"
   ],
   "metadata": {
    "collapsed": false,
    "ExecuteTime": {
     "end_time": "2024-02-08T16:20:45.479694Z",
     "start_time": "2024-02-08T16:20:45.418163Z"
    }
   },
   "id": "4bb66bc5b7ab6156",
   "execution_count": 67
  },
  {
   "cell_type": "markdown",
   "source": [
    "Selecting the Linear Support Vector Classification model"
   ],
   "metadata": {
    "collapsed": false
   },
   "id": "76724653bc8d0176"
  },
  {
   "cell_type": "code",
   "outputs": [],
   "source": [
    "classifier = LinearSVC()"
   ],
   "metadata": {
    "collapsed": false,
    "ExecuteTime": {
     "end_time": "2024-02-08T16:20:45.480928Z",
     "start_time": "2024-02-08T16:20:45.427802Z"
    }
   },
   "id": "70377c6f3fa22629",
   "execution_count": 68
  },
  {
   "cell_type": "markdown",
   "source": [
    "Training the model"
   ],
   "metadata": {
    "collapsed": false
   },
   "id": "cb0eea45e09de7b7"
  },
  {
   "cell_type": "code",
   "outputs": [
    {
     "name": "stderr",
     "output_type": "stream",
     "text": [
      "/Users/reem/Desktop/University/Year4/Final_Year_Project/Speech_Acts_Classification/venv/lib/python3.11/site-packages/sklearn/svm/_classes.py:32: FutureWarning: The default value of `dual` will change from `True` to `'auto'` in 1.5. Set the value of `dual` explicitly to suppress the warning.\n",
      "  warnings.warn(\n"
     ]
    },
    {
     "data": {
      "text/plain": "LinearSVC()",
      "text/html": "<style>#sk-container-id-7 {color: black;}#sk-container-id-7 pre{padding: 0;}#sk-container-id-7 div.sk-toggleable {background-color: white;}#sk-container-id-7 label.sk-toggleable__label {cursor: pointer;display: block;width: 100%;margin-bottom: 0;padding: 0.3em;box-sizing: border-box;text-align: center;}#sk-container-id-7 label.sk-toggleable__label-arrow:before {content: \"▸\";float: left;margin-right: 0.25em;color: #696969;}#sk-container-id-7 label.sk-toggleable__label-arrow:hover:before {color: black;}#sk-container-id-7 div.sk-estimator:hover label.sk-toggleable__label-arrow:before {color: black;}#sk-container-id-7 div.sk-toggleable__content {max-height: 0;max-width: 0;overflow: hidden;text-align: left;background-color: #f0f8ff;}#sk-container-id-7 div.sk-toggleable__content pre {margin: 0.2em;color: black;border-radius: 0.25em;background-color: #f0f8ff;}#sk-container-id-7 input.sk-toggleable__control:checked~div.sk-toggleable__content {max-height: 200px;max-width: 100%;overflow: auto;}#sk-container-id-7 input.sk-toggleable__control:checked~label.sk-toggleable__label-arrow:before {content: \"▾\";}#sk-container-id-7 div.sk-estimator input.sk-toggleable__control:checked~label.sk-toggleable__label {background-color: #d4ebff;}#sk-container-id-7 div.sk-label input.sk-toggleable__control:checked~label.sk-toggleable__label {background-color: #d4ebff;}#sk-container-id-7 input.sk-hidden--visually {border: 0;clip: rect(1px 1px 1px 1px);clip: rect(1px, 1px, 1px, 1px);height: 1px;margin: -1px;overflow: hidden;padding: 0;position: absolute;width: 1px;}#sk-container-id-7 div.sk-estimator {font-family: monospace;background-color: #f0f8ff;border: 1px dotted black;border-radius: 0.25em;box-sizing: border-box;margin-bottom: 0.5em;}#sk-container-id-7 div.sk-estimator:hover {background-color: #d4ebff;}#sk-container-id-7 div.sk-parallel-item::after {content: \"\";width: 100%;border-bottom: 1px solid gray;flex-grow: 1;}#sk-container-id-7 div.sk-label:hover label.sk-toggleable__label {background-color: #d4ebff;}#sk-container-id-7 div.sk-serial::before {content: \"\";position: absolute;border-left: 1px solid gray;box-sizing: border-box;top: 0;bottom: 0;left: 50%;z-index: 0;}#sk-container-id-7 div.sk-serial {display: flex;flex-direction: column;align-items: center;background-color: white;padding-right: 0.2em;padding-left: 0.2em;position: relative;}#sk-container-id-7 div.sk-item {position: relative;z-index: 1;}#sk-container-id-7 div.sk-parallel {display: flex;align-items: stretch;justify-content: center;background-color: white;position: relative;}#sk-container-id-7 div.sk-item::before, #sk-container-id-7 div.sk-parallel-item::before {content: \"\";position: absolute;border-left: 1px solid gray;box-sizing: border-box;top: 0;bottom: 0;left: 50%;z-index: -1;}#sk-container-id-7 div.sk-parallel-item {display: flex;flex-direction: column;z-index: 1;position: relative;background-color: white;}#sk-container-id-7 div.sk-parallel-item:first-child::after {align-self: flex-end;width: 50%;}#sk-container-id-7 div.sk-parallel-item:last-child::after {align-self: flex-start;width: 50%;}#sk-container-id-7 div.sk-parallel-item:only-child::after {width: 0;}#sk-container-id-7 div.sk-dashed-wrapped {border: 1px dashed gray;margin: 0 0.4em 0.5em 0.4em;box-sizing: border-box;padding-bottom: 0.4em;background-color: white;}#sk-container-id-7 div.sk-label label {font-family: monospace;font-weight: bold;display: inline-block;line-height: 1.2em;}#sk-container-id-7 div.sk-label-container {text-align: center;}#sk-container-id-7 div.sk-container {/* jupyter's `normalize.less` sets `[hidden] { display: none; }` but bootstrap.min.css set `[hidden] { display: none !important; }` so we also need the `!important` here to be able to override the default hidden behavior on the sphinx rendered scikit-learn.org. See: https://github.com/scikit-learn/scikit-learn/issues/21755 */display: inline-block !important;position: relative;}#sk-container-id-7 div.sk-text-repr-fallback {display: none;}</style><div id=\"sk-container-id-7\" class=\"sk-top-container\"><div class=\"sk-text-repr-fallback\"><pre>LinearSVC()</pre><b>In a Jupyter environment, please rerun this cell to show the HTML representation or trust the notebook. <br />On GitHub, the HTML representation is unable to render, please try loading this page with nbviewer.org.</b></div><div class=\"sk-container\" hidden><div class=\"sk-item\"><div class=\"sk-estimator sk-toggleable\"><input class=\"sk-toggleable__control sk-hidden--visually\" id=\"sk-estimator-id-7\" type=\"checkbox\" checked><label for=\"sk-estimator-id-7\" class=\"sk-toggleable__label sk-toggleable__label-arrow\">LinearSVC</label><div class=\"sk-toggleable__content\"><pre>LinearSVC()</pre></div></div></div></div></div>"
     },
     "execution_count": 69,
     "metadata": {},
     "output_type": "execute_result"
    }
   ],
   "source": [
    "classifier.fit(X_train, y_train)"
   ],
   "metadata": {
    "collapsed": false,
    "ExecuteTime": {
     "end_time": "2024-02-08T16:20:45.482535Z",
     "start_time": "2024-02-08T16:20:45.435250Z"
    }
   },
   "id": "805aa787fbf3fa45",
   "execution_count": 69
  },
  {
   "cell_type": "markdown",
   "source": [
    "Evaluating the model, running test set"
   ],
   "metadata": {
    "collapsed": false
   },
   "id": "6324c65cf0bbbbd7"
  },
  {
   "cell_type": "code",
   "outputs": [],
   "source": [
    "y_pred = classifier.predict(X_test)"
   ],
   "metadata": {
    "collapsed": false,
    "ExecuteTime": {
     "end_time": "2024-02-08T16:20:45.540294Z",
     "start_time": "2024-02-08T16:20:45.445926Z"
    }
   },
   "id": "32503c5d1c4ee5c1",
   "execution_count": 70
  },
  {
   "cell_type": "markdown",
   "source": [
    "Evaluating Accuracy and Classification Report"
   ],
   "metadata": {
    "collapsed": false
   },
   "id": "6510ea06b2d86a1c"
  },
  {
   "cell_type": "code",
   "outputs": [
    {
     "name": "stdout",
     "output_type": "stream",
     "text": [
      "Accuracy: 0.47\n",
      "Classification Report:\n",
      "                          precision    recall  f1-score   support\n",
      "\n",
      "         Not Classified       1.00      0.50      0.67         2\n",
      "     Request for Action       0.00      0.00      0.00         0\n",
      "    Statement of Action       0.00      0.00      0.00         0\n",
      "    Statement of Intent       0.25      0.17      0.20         6\n",
      "Statement of Prediction       0.00      0.00      0.00         3\n",
      " Statement of Situation       0.60      1.00      0.75         6\n",
      "\n",
      "               accuracy                           0.47        17\n",
      "              macro avg       0.31      0.28      0.27        17\n",
      "           weighted avg       0.42      0.47      0.41        17\n"
     ]
    }
   ],
   "source": [
    "print(f\"Accuracy: {accuracy_score(y_test, y_pred):.2f}\")\n",
    "\n",
    "print(\"Classification Report:\\n\", classification_report(y_test, y_pred, zero_division=0))"
   ],
   "metadata": {
    "collapsed": false,
    "ExecuteTime": {
     "end_time": "2024-02-08T16:20:45.541670Z",
     "start_time": "2024-02-08T16:20:45.454601Z"
    }
   },
   "id": "12a80e7f5d62ee67",
   "execution_count": 71
  },
  {
   "cell_type": "markdown",
   "source": [
    "Predict the speech acts of new sentences now that the model has been trained\n",
    "0 = statement, 1 = request, 2 = request"
   ],
   "metadata": {
    "collapsed": false
   },
   "id": "5f5a0e3ff02b80ef"
  },
  {
   "cell_type": "code",
   "outputs": [],
   "source": [
    "new_sentences = [\"i think you're on it rather next to it. you need to be next to it.\",\n",
    "                 \"yeah, i'm putting up northwesterly barrier. you see where firetruck_one, firetruck_two and \"\n",
    "                 \"firetruck_three are?\",\n",
    "                 \"yeah. confirm all fires extinguished?\"]\n",
    "new_X = vectorizer.transform(new_sentences)\n",
    "new_predictions = classifier.predict(new_X)"
   ],
   "metadata": {
    "collapsed": false,
    "ExecuteTime": {
     "end_time": "2024-02-08T16:20:45.542177Z",
     "start_time": "2024-02-08T16:20:45.472574Z"
    }
   },
   "id": "2f791c443fcb786",
   "execution_count": 72
  },
  {
   "cell_type": "markdown",
   "source": [
    "Print predictions for new sentences"
   ],
   "metadata": {
    "collapsed": false
   },
   "id": "c23e9727e36160b0"
  },
  {
   "cell_type": "code",
   "outputs": [
    {
     "name": "stdout",
     "output_type": "stream",
     "text": [
      "Sentence: 'i think you're on it rather next to it. you need to be next to it.'\t Predicted Speech Act: Statement of Situation\n",
      "Sentence: 'yeah, i'm putting up northwesterly barrier. you see where firetruck_one, firetruck_two and firetruck_three are?'\t Predicted Speech Act: Statement of Action\n",
      "Sentence: 'yeah. confirm all fires extinguished?'\t Predicted Speech Act: Request for Situation\n"
     ]
    }
   ],
   "source": [
    "for sentence, prediction in zip(new_sentences, new_predictions):\n",
    "    print(f\"Sentence: '{sentence}'\\t Predicted Speech Act: {prediction}\")"
   ],
   "metadata": {
    "collapsed": false,
    "ExecuteTime": {
     "end_time": "2024-02-08T16:20:45.544497Z",
     "start_time": "2024-02-08T16:20:45.479632Z"
    }
   },
   "id": "c55647d9fb3face6",
   "execution_count": 73
  }
 ],
 "metadata": {
  "kernelspec": {
   "display_name": "Python 3",
   "language": "python",
   "name": "python3"
  },
  "language_info": {
   "codemirror_mode": {
    "name": "ipython",
    "version": 2
   },
   "file_extension": ".py",
   "mimetype": "text/x-python",
   "name": "python",
   "nbconvert_exporter": "python",
   "pygments_lexer": "ipython2",
   "version": "2.7.6"
  }
 },
 "nbformat": 4,
 "nbformat_minor": 5
}
