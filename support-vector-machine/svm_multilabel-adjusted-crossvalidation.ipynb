{
 "cells": [
  {
   "cell_type": "code",
   "outputs": [],
   "source": [
    "from sklearn.feature_extraction.text import TfidfVectorizer\n",
    "import pandas as pd\n",
    "from sklearn.model_selection import train_test_split, cross_val_score\n",
    "from sklearn.svm import SVC\n",
    "from sklearn.multioutput import MultiOutputClassifier\n",
    "from sklearn.metrics import accuracy_score, precision_score, recall_score, classification_report\n",
    "\n",
    "raw_data = pd.read_excel(\"../data/adjusted-labels-multiclass.xlsx\")\n",
    "\n",
    "raw_data.dropna(subset=['Sentence'], inplace=True)  # Get rid of anything NaN\n",
    "\n",
    "sentences = raw_data[\"Sentence\"]\n",
    "labels = raw_data.drop(columns=[\"Sentence\"])"
   ],
   "metadata": {
    "collapsed": false,
    "ExecuteTime": {
     "end_time": "2024-04-04T18:21:22.381052Z",
     "start_time": "2024-04-04T18:21:19.254889Z"
    }
   },
   "id": "9a5e1b87ef57a445",
   "execution_count": 1
  },
  {
   "cell_type": "code",
   "outputs": [],
   "source": [
    "vectorizer = TfidfVectorizer()\n",
    "\n",
    "sentences_tfidf = vectorizer.fit_transform(sentences)"
   ],
   "metadata": {
    "collapsed": false,
    "ExecuteTime": {
     "end_time": "2024-04-04T18:21:22.459851Z",
     "start_time": "2024-04-04T18:21:22.383828Z"
    }
   },
   "id": "f1431fb5c1c669f8",
   "execution_count": 2
  },
  {
   "cell_type": "code",
   "outputs": [],
   "source": [
    "svm_classifier = SVC(kernel=\"linear\")\n",
    "multi_label_svm = MultiOutputClassifier(svm_classifier)"
   ],
   "metadata": {
    "collapsed": false,
    "ExecuteTime": {
     "end_time": "2024-04-04T18:21:22.467554Z",
     "start_time": "2024-04-04T18:21:22.463522Z"
    }
   },
   "id": "cae74461ea7d37db",
   "execution_count": 3
  },
  {
   "cell_type": "code",
   "outputs": [],
   "source": [
    "from sklearn.model_selection import KFold"
   ],
   "metadata": {
    "collapsed": false,
    "ExecuteTime": {
     "end_time": "2024-04-04T18:21:22.475534Z",
     "start_time": "2024-04-04T18:21:22.471641Z"
    }
   },
   "id": "c0d76629549426d5",
   "execution_count": 4
  },
  {
   "cell_type": "code",
   "outputs": [
    {
     "name": "stdout",
     "output_type": "stream",
     "text": [
      "Using  10  Folds\n",
      "Mean Accuracy across the folds during training:  0.7538759689922482\n",
      "Micro Precision: 0.9624505928853755\n",
      "Macro Precision: 0.9853897217857966\n",
      "Micro Recall: 0.8935779816513761\n",
      "Macro Recall: 0.8060973843006827\n",
      "\n",
      "Classification Report:\n",
      "Overall Accuracy: 0.7792207792207793\n",
      "              precision    recall  f1-score   support\n",
      "\n",
      "           0       0.92      0.99      0.96       440\n",
      "           1       0.92      0.67      0.77        18\n",
      "           2       1.00      0.71      0.83        21\n",
      "           3       1.00      0.66      0.80        62\n",
      "           4       1.00      0.83      0.90        69\n",
      "           5       1.00      0.76      0.87        38\n",
      "           6       0.99      0.92      0.96       143\n",
      "           7       1.00      0.86      0.93       146\n",
      "           8       1.00      0.96      0.98        56\n",
      "           9       1.00      0.72      0.84        57\n",
      "          10       1.00      0.78      0.87        40\n",
      "\n",
      "   micro avg       0.96      0.89      0.93      1090\n",
      "   macro avg       0.99      0.81      0.88      1090\n",
      "weighted avg       0.97      0.89      0.92      1090\n",
      " samples avg       0.89      0.86      0.86      1090\n"
     ]
    }
   ],
   "source": [
    "n_folds = 10\n",
    "kf = KFold(n_splits=n_folds, shuffle=True, random_state=42)\n",
    "\n",
    "train_sentences, test_sentences, train_labels, test_labels = train_test_split(sentences_tfidf, labels, test_size=0.2, random_state=47)\n",
    "\n",
    "accuracy_scores = cross_val_score(multi_label_svm, train_sentences, train_labels, cv=kf, scoring='accuracy')\n",
    "\n",
    "print(\"Using \", n_folds, \" Folds\")\n",
    "print(\"Mean Accuracy across the folds during training: \", accuracy_scores.mean())\n",
    "# Step 6: Test the Model\n",
    "y_pred = multi_label_svm.fit(train_sentences, train_labels).predict(test_sentences)\n",
    "\n",
    "# Calculate metrics\n",
    "accuracy = accuracy_score(test_labels, y_pred)\n",
    "micro_precision = precision_score(test_labels, y_pred, average='micro')\n",
    "macro_precision = precision_score(test_labels, y_pred, average='macro')\n",
    "micro_recall = recall_score(test_labels, y_pred, average='micro')\n",
    "macro_recall = recall_score(test_labels, y_pred, average='macro')\n",
    "\n",
    "print(\"Micro Precision:\", micro_precision)\n",
    "print(\"Macro Precision:\", macro_precision)\n",
    "print(\"Micro Recall:\", micro_recall)\n",
    "print(\"Macro Recall:\", macro_recall)\n",
    "\n",
    "# Classification Report\n",
    "print(\"\\nClassification Report:\")\n",
    "print(\"Overall Accuracy:\", accuracy)\n",
    "print(classification_report(test_labels, y_pred, zero_division=0))"
   ],
   "metadata": {
    "collapsed": false,
    "ExecuteTime": {
     "end_time": "2024-04-04T18:22:01.597099Z",
     "start_time": "2024-04-04T18:21:22.480272Z"
    }
   },
   "id": "40cca9a60b1c61eb",
   "execution_count": 5
  },
  {
   "cell_type": "code",
   "outputs": [],
   "source": [],
   "metadata": {
    "collapsed": false,
    "ExecuteTime": {
     "end_time": "2024-04-04T18:22:01.601607Z",
     "start_time": "2024-04-04T18:22:01.598755Z"
    }
   },
   "id": "e4393655b18e2a6c",
   "execution_count": 5
  }
 ],
 "metadata": {
  "kernelspec": {
   "display_name": "Python 3",
   "language": "python",
   "name": "python3"
  },
  "language_info": {
   "codemirror_mode": {
    "name": "ipython",
    "version": 2
   },
   "file_extension": ".py",
   "mimetype": "text/x-python",
   "name": "python",
   "nbconvert_exporter": "python",
   "pygments_lexer": "ipython2",
   "version": "2.7.6"
  }
 },
 "nbformat": 4,
 "nbformat_minor": 5
}
