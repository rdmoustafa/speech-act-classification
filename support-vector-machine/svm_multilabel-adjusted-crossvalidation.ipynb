{
 "cells": [
  {
   "cell_type": "code",
   "outputs": [],
   "source": [
    "from sklearn.feature_extraction.text import TfidfVectorizer\n",
    "import pandas as pd\n",
    "from sklearn.model_selection import train_test_split, cross_val_score\n",
    "from sklearn.svm import SVC\n",
    "from sklearn.multioutput import MultiOutputClassifier\n",
    "from sklearn.metrics import accuracy_score, precision_score, recall_score, classification_report\n",
    "\n",
    "raw_data = pd.read_excel(\"../data/adjusted-labels-multiclass.xlsx\")\n",
    "\n",
    "raw_data.dropna(subset=['Sentence'], inplace=True)  # Get rid of anything NaN\n",
    "\n",
    "sentences = raw_data[\"Sentence\"]\n",
    "labels = raw_data.drop(columns=[\"Sentence\"])"
   ],
   "metadata": {
    "collapsed": false,
    "ExecuteTime": {
     "end_time": "2024-03-27T17:42:41.577250Z",
     "start_time": "2024-03-27T17:42:41.166650Z"
    }
   },
   "id": "9a5e1b87ef57a445",
   "execution_count": 81
  },
  {
   "cell_type": "code",
   "outputs": [],
   "source": [
    "vectorizer = TfidfVectorizer()\n",
    "\n",
    "sentences_tfidf = vectorizer.fit_transform(sentences)"
   ],
   "metadata": {
    "collapsed": false,
    "ExecuteTime": {
     "end_time": "2024-03-27T17:42:41.634027Z",
     "start_time": "2024-03-27T17:42:41.578743Z"
    }
   },
   "id": "f1431fb5c1c669f8",
   "execution_count": 82
  },
  {
   "cell_type": "code",
   "outputs": [],
   "source": [
    "svm_classifier = SVC(kernel=\"linear\")\n",
    "multi_label_svm = MultiOutputClassifier(svm_classifier)"
   ],
   "metadata": {
    "collapsed": false,
    "ExecuteTime": {
     "end_time": "2024-03-27T17:42:41.640199Z",
     "start_time": "2024-03-27T17:42:41.635340Z"
    }
   },
   "id": "cae74461ea7d37db",
   "execution_count": 83
  },
  {
   "cell_type": "code",
   "outputs": [],
   "source": [
    "from sklearn.model_selection import KFold"
   ],
   "metadata": {
    "collapsed": false,
    "ExecuteTime": {
     "end_time": "2024-03-27T17:42:41.644864Z",
     "start_time": "2024-03-27T17:42:41.641979Z"
    }
   },
   "id": "c0d76629549426d5",
   "execution_count": 84
  },
  {
   "cell_type": "code",
   "outputs": [
    {
     "name": "stdout",
     "output_type": "stream",
     "text": [
      "Using  10  Folds\n",
      "Mean Accuracy across the folds during training:  0.7524289405684754\n",
      "Micro Precision: 0.9712820512820513\n",
      "Macro Precision: 0.9916549094180673\n",
      "Micro Recall: 0.887535145267104\n",
      "Macro Recall: 0.7682288371817312\n",
      "\n",
      "Classification Report:\n",
      "Overall Accuracy: 0.8014842300556586\n",
      "              precision    recall  f1-score   support\n",
      "\n",
      "           0       0.95      0.99      0.97       447\n",
      "           1       1.00      0.40      0.57        15\n",
      "           2       1.00      0.62      0.77        24\n",
      "           3       1.00      0.70      0.83        61\n",
      "           4       0.98      0.87      0.92        54\n",
      "           5       1.00      0.70      0.83        27\n",
      "           6       0.98      0.85      0.91       131\n",
      "           7       1.00      0.93      0.96       133\n",
      "           8       1.00      0.83      0.90        63\n",
      "           9       1.00      0.67      0.80        58\n",
      "          10       1.00      0.87      0.93        54\n",
      "\n",
      "   micro avg       0.97      0.89      0.93      1067\n",
      "   macro avg       0.99      0.77      0.85      1067\n",
      "weighted avg       0.97      0.89      0.92      1067\n",
      " samples avg       0.89      0.85      0.86      1067\n"
     ]
    }
   ],
   "source": [
    "n_folds = 10\n",
    "kf = KFold(n_splits=n_folds, shuffle=True, random_state=42)\n",
    "\n",
    "train_sentences, test_sentences, train_labels, test_labels = train_test_split(sentences_tfidf, labels, test_size=0.2, random_state=26)\n",
    "\n",
    "accuracy_scores = cross_val_score(multi_label_svm, train_sentences, train_labels, cv=kf, scoring='accuracy')\n",
    "\n",
    "print(\"Using \", n_folds, \" Folds\")\n",
    "print(\"Mean Accuracy across the folds during training: \", accuracy_scores.mean())\n",
    "# Step 6: Test the Model\n",
    "y_pred = multi_label_svm.fit(train_sentences, train_labels).predict(test_sentences)\n",
    "\n",
    "# Calculate metrics\n",
    "accuracy = accuracy_score(test_labels, y_pred)\n",
    "micro_precision = precision_score(test_labels, y_pred, average='micro')\n",
    "macro_precision = precision_score(test_labels, y_pred, average='macro')\n",
    "micro_recall = recall_score(test_labels, y_pred, average='micro')\n",
    "macro_recall = recall_score(test_labels, y_pred, average='macro')\n",
    "\n",
    "print(\"Micro Precision:\", micro_precision)\n",
    "print(\"Macro Precision:\", macro_precision)\n",
    "print(\"Micro Recall:\", micro_recall)\n",
    "print(\"Macro Recall:\", macro_recall)\n",
    "\n",
    "# Classification Report\n",
    "print(\"\\nClassification Report:\")\n",
    "print(\"Overall Accuracy:\", accuracy)\n",
    "print(classification_report(test_labels, y_pred, zero_division=0))"
   ],
   "metadata": {
    "collapsed": false,
    "ExecuteTime": {
     "end_time": "2024-03-27T17:47:13.474561Z",
     "start_time": "2024-03-27T17:46:45.127321Z"
    }
   },
   "id": "40cca9a60b1c61eb",
   "execution_count": 91
  },
  {
   "cell_type": "code",
   "outputs": [],
   "source": [],
   "metadata": {
    "collapsed": false
   },
   "id": "e4393655b18e2a6c"
  }
 ],
 "metadata": {
  "kernelspec": {
   "display_name": "Python 3",
   "language": "python",
   "name": "python3"
  },
  "language_info": {
   "codemirror_mode": {
    "name": "ipython",
    "version": 2
   },
   "file_extension": ".py",
   "mimetype": "text/x-python",
   "name": "python",
   "nbconvert_exporter": "python",
   "pygments_lexer": "ipython2",
   "version": "2.7.6"
  }
 },
 "nbformat": 4,
 "nbformat_minor": 5
}
