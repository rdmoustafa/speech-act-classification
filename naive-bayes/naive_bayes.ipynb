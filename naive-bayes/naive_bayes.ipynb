{
 "cells": [
  {
   "cell_type": "markdown",
   "source": [
    "### Naive Bayes Classifier\n",
    "Spoiler: This sucks"
   ],
   "metadata": {
    "collapsed": false
   },
   "id": "3f452c056f24ab97"
  },
  {
   "cell_type": "code",
   "outputs": [],
   "source": [
    "from sklearn.model_selection import train_test_split\n",
    "from sklearn.feature_extraction.text import TfidfVectorizer\n",
    "from sklearn.naive_bayes import MultinomialNB\n",
    "from sklearn.metrics import accuracy_score, classification_report\n",
    "\n",
    "from preprocessing import get_sentences_labels"
   ],
   "metadata": {
    "collapsed": true,
    "ExecuteTime": {
     "end_time": "2024-02-06T17:32:04.137487Z",
     "start_time": "2024-02-06T17:32:04.082916Z"
    }
   },
   "id": "initial_id",
   "execution_count": 21
  },
  {
   "cell_type": "markdown",
   "source": [
    "Do the preprocessing"
   ],
   "metadata": {
    "collapsed": false
   },
   "id": "985e3298f1609051"
  },
  {
   "cell_type": "code",
   "outputs": [
    {
     "name": "stdout",
     "output_type": "stream",
     "text": [
      "Sentences:  ['alpha, charlie. bravo check.', \"alpha you're loud_and_clear.\", 'charlie. good to me', 'charlie, charlie one, bravo radio check. ', 'yeah. charlie good to me. over']\n",
      "I have sentences:  81\n",
      "Correct Labels:  ['Request for Situation', 'Statement of Situation', 'Statement of Situation', 'Request for Situation', 'Statement of Situation']\n",
      "I have labels:  81\n"
     ]
    }
   ],
   "source": [
    "sentences, labels = get_sentences_labels()"
   ],
   "metadata": {
    "collapsed": false,
    "ExecuteTime": {
     "end_time": "2024-02-06T17:32:04.178440Z",
     "start_time": "2024-02-06T17:32:04.158501Z"
    }
   },
   "id": "796f6aff311037aa",
   "execution_count": 22
  },
  {
   "cell_type": "markdown",
   "source": [
    "Vectorisation"
   ],
   "metadata": {
    "collapsed": false
   },
   "id": "60b6a9085a185b2"
  },
  {
   "cell_type": "code",
   "outputs": [],
   "source": [
    "vectorizer = TfidfVectorizer()\n",
    "X = vectorizer.fit_transform(sentences)"
   ],
   "metadata": {
    "collapsed": false,
    "ExecuteTime": {
     "end_time": "2024-02-06T17:32:04.218306Z",
     "start_time": "2024-02-06T17:32:04.172137Z"
    }
   },
   "id": "b1b92f452662c182",
   "execution_count": 23
  },
  {
   "cell_type": "markdown",
   "source": [
    "Train-Test Split"
   ],
   "metadata": {
    "collapsed": false
   },
   "id": "1256ef81888bb601"
  },
  {
   "cell_type": "code",
   "outputs": [],
   "source": [
    "X_train, X_test, y_train, y_test = train_test_split(X, labels, test_size=0.20, random_state=42)"
   ],
   "metadata": {
    "collapsed": false,
    "ExecuteTime": {
     "end_time": "2024-02-06T17:32:04.222544Z",
     "start_time": "2024-02-06T17:32:04.185479Z"
    }
   },
   "id": "90fafa3e656bf4d1",
   "execution_count": 24
  },
  {
   "cell_type": "markdown",
   "source": [
    "Model Selection: Basic Naive Bayes"
   ],
   "metadata": {
    "collapsed": false
   },
   "id": "3354633208a80b48"
  },
  {
   "cell_type": "code",
   "outputs": [],
   "source": [
    "classifier = MultinomialNB()"
   ],
   "metadata": {
    "collapsed": false,
    "ExecuteTime": {
     "end_time": "2024-02-06T17:32:04.244229Z",
     "start_time": "2024-02-06T17:32:04.193162Z"
    }
   },
   "id": "87775475d3777eb2",
   "execution_count": 25
  },
  {
   "cell_type": "markdown",
   "source": [
    "Model Training"
   ],
   "metadata": {
    "collapsed": false
   },
   "id": "7fbd2e0080f530be"
  },
  {
   "cell_type": "code",
   "outputs": [
    {
     "data": {
      "text/plain": "MultinomialNB()",
      "text/html": "<style>#sk-container-id-3 {color: black;}#sk-container-id-3 pre{padding: 0;}#sk-container-id-3 div.sk-toggleable {background-color: white;}#sk-container-id-3 label.sk-toggleable__label {cursor: pointer;display: block;width: 100%;margin-bottom: 0;padding: 0.3em;box-sizing: border-box;text-align: center;}#sk-container-id-3 label.sk-toggleable__label-arrow:before {content: \"▸\";float: left;margin-right: 0.25em;color: #696969;}#sk-container-id-3 label.sk-toggleable__label-arrow:hover:before {color: black;}#sk-container-id-3 div.sk-estimator:hover label.sk-toggleable__label-arrow:before {color: black;}#sk-container-id-3 div.sk-toggleable__content {max-height: 0;max-width: 0;overflow: hidden;text-align: left;background-color: #f0f8ff;}#sk-container-id-3 div.sk-toggleable__content pre {margin: 0.2em;color: black;border-radius: 0.25em;background-color: #f0f8ff;}#sk-container-id-3 input.sk-toggleable__control:checked~div.sk-toggleable__content {max-height: 200px;max-width: 100%;overflow: auto;}#sk-container-id-3 input.sk-toggleable__control:checked~label.sk-toggleable__label-arrow:before {content: \"▾\";}#sk-container-id-3 div.sk-estimator input.sk-toggleable__control:checked~label.sk-toggleable__label {background-color: #d4ebff;}#sk-container-id-3 div.sk-label input.sk-toggleable__control:checked~label.sk-toggleable__label {background-color: #d4ebff;}#sk-container-id-3 input.sk-hidden--visually {border: 0;clip: rect(1px 1px 1px 1px);clip: rect(1px, 1px, 1px, 1px);height: 1px;margin: -1px;overflow: hidden;padding: 0;position: absolute;width: 1px;}#sk-container-id-3 div.sk-estimator {font-family: monospace;background-color: #f0f8ff;border: 1px dotted black;border-radius: 0.25em;box-sizing: border-box;margin-bottom: 0.5em;}#sk-container-id-3 div.sk-estimator:hover {background-color: #d4ebff;}#sk-container-id-3 div.sk-parallel-item::after {content: \"\";width: 100%;border-bottom: 1px solid gray;flex-grow: 1;}#sk-container-id-3 div.sk-label:hover label.sk-toggleable__label {background-color: #d4ebff;}#sk-container-id-3 div.sk-serial::before {content: \"\";position: absolute;border-left: 1px solid gray;box-sizing: border-box;top: 0;bottom: 0;left: 50%;z-index: 0;}#sk-container-id-3 div.sk-serial {display: flex;flex-direction: column;align-items: center;background-color: white;padding-right: 0.2em;padding-left: 0.2em;position: relative;}#sk-container-id-3 div.sk-item {position: relative;z-index: 1;}#sk-container-id-3 div.sk-parallel {display: flex;align-items: stretch;justify-content: center;background-color: white;position: relative;}#sk-container-id-3 div.sk-item::before, #sk-container-id-3 div.sk-parallel-item::before {content: \"\";position: absolute;border-left: 1px solid gray;box-sizing: border-box;top: 0;bottom: 0;left: 50%;z-index: -1;}#sk-container-id-3 div.sk-parallel-item {display: flex;flex-direction: column;z-index: 1;position: relative;background-color: white;}#sk-container-id-3 div.sk-parallel-item:first-child::after {align-self: flex-end;width: 50%;}#sk-container-id-3 div.sk-parallel-item:last-child::after {align-self: flex-start;width: 50%;}#sk-container-id-3 div.sk-parallel-item:only-child::after {width: 0;}#sk-container-id-3 div.sk-dashed-wrapped {border: 1px dashed gray;margin: 0 0.4em 0.5em 0.4em;box-sizing: border-box;padding-bottom: 0.4em;background-color: white;}#sk-container-id-3 div.sk-label label {font-family: monospace;font-weight: bold;display: inline-block;line-height: 1.2em;}#sk-container-id-3 div.sk-label-container {text-align: center;}#sk-container-id-3 div.sk-container {/* jupyter's `normalize.less` sets `[hidden] { display: none; }` but bootstrap.min.css set `[hidden] { display: none !important; }` so we also need the `!important` here to be able to override the default hidden behavior on the sphinx rendered scikit-learn.org. See: https://github.com/scikit-learn/scikit-learn/issues/21755 */display: inline-block !important;position: relative;}#sk-container-id-3 div.sk-text-repr-fallback {display: none;}</style><div id=\"sk-container-id-3\" class=\"sk-top-container\"><div class=\"sk-text-repr-fallback\"><pre>MultinomialNB()</pre><b>In a Jupyter environment, please rerun this cell to show the HTML representation or trust the notebook. <br />On GitHub, the HTML representation is unable to render, please try loading this page with nbviewer.org.</b></div><div class=\"sk-container\" hidden><div class=\"sk-item\"><div class=\"sk-estimator sk-toggleable\"><input class=\"sk-toggleable__control sk-hidden--visually\" id=\"sk-estimator-id-3\" type=\"checkbox\" checked><label for=\"sk-estimator-id-3\" class=\"sk-toggleable__label sk-toggleable__label-arrow\">MultinomialNB</label><div class=\"sk-toggleable__content\"><pre>MultinomialNB()</pre></div></div></div></div></div>"
     },
     "execution_count": 26,
     "metadata": {},
     "output_type": "execute_result"
    }
   ],
   "source": [
    "classifier.fit(X_train, y_train)"
   ],
   "metadata": {
    "collapsed": false,
    "ExecuteTime": {
     "end_time": "2024-02-06T17:32:04.273949Z",
     "start_time": "2024-02-06T17:32:04.228170Z"
    }
   },
   "id": "444deff9f97231ba",
   "execution_count": 26
  },
  {
   "cell_type": "markdown",
   "source": [
    "Model Evaluation"
   ],
   "metadata": {
    "collapsed": false
   },
   "id": "efdffb89832c5057"
  },
  {
   "cell_type": "code",
   "outputs": [],
   "source": [
    "y_pred = classifier.predict(X_test)"
   ],
   "metadata": {
    "collapsed": false,
    "ExecuteTime": {
     "end_time": "2024-02-06T17:32:04.296712Z",
     "start_time": "2024-02-06T17:32:04.280212Z"
    }
   },
   "id": "6742dff03e18c560",
   "execution_count": 27
  },
  {
   "cell_type": "markdown",
   "source": [
    "Evaluate Accuracy + Classification"
   ],
   "metadata": {
    "collapsed": false
   },
   "id": "31438bddf427c1d2"
  },
  {
   "cell_type": "code",
   "outputs": [
    {
     "name": "stdout",
     "output_type": "stream",
     "text": [
      "Accuracy: 0.24\n",
      "Classification Report:\n",
      "                          precision    recall  f1-score   support\n",
      "\n",
      "         Not Classified       0.00      0.00      0.00         1\n",
      "  Request for Situation       0.00      0.00      0.00         2\n",
      "    Statement of Action       0.00      0.00      0.00         3\n",
      "    Statement of Intent       0.67      0.40      0.50         5\n",
      "Statement of Prediction       0.00      0.00      0.00         3\n",
      " Statement of Situation       0.14      0.67      0.24         3\n",
      "\n",
      "               accuracy                           0.24        17\n",
      "              macro avg       0.13      0.18      0.12        17\n",
      "           weighted avg       0.22      0.24      0.19        17\n"
     ]
    }
   ],
   "source": [
    "accuracy = accuracy_score(y_test, y_pred)\n",
    "print(f\"Accuracy: {accuracy:.2f}\")\n",
    "\n",
    "print(\"Classification Report:\\n\", classification_report(y_test, y_pred, zero_division=0))"
   ],
   "metadata": {
    "collapsed": false,
    "ExecuteTime": {
     "end_time": "2024-02-06T17:32:04.317170Z",
     "start_time": "2024-02-06T17:32:04.302123Z"
    }
   },
   "id": "44924b60bc16c068",
   "execution_count": 28
  },
  {
   "cell_type": "markdown",
   "source": [
    "Now you can use the trained model to predict the speech act of new sentences\n",
    "0 = statement, 1 = request, 2 = request"
   ],
   "metadata": {
    "collapsed": false
   },
   "id": "b81a2744603b20ad"
  },
  {
   "cell_type": "code",
   "outputs": [],
   "source": [
    "new_sentences = [\"i think you're on it rather next to it. you need to be next to it.\",\n",
    "                 \"yeah, i'm putting up northwesterly barrier. you see where firetruck_one, firetruck_two and \"\n",
    "                 \"firetruck_three are?\",\n",
    "                 \"yeah. confirm all fires extinguished?\"]\n",
    "new_X = vectorizer.transform(new_sentences)\n",
    "new_predictions = classifier.predict(new_X)"
   ],
   "metadata": {
    "collapsed": false,
    "ExecuteTime": {
     "end_time": "2024-02-06T17:32:04.375536Z",
     "start_time": "2024-02-06T17:32:04.324312Z"
    }
   },
   "id": "d88f2e8481e90545",
   "execution_count": 29
  },
  {
   "cell_type": "markdown",
   "source": [
    "Print Prediction for New Sentences "
   ],
   "metadata": {
    "collapsed": false
   },
   "id": "dc824b4798beb8c9"
  },
  {
   "cell_type": "code",
   "outputs": [
    {
     "name": "stdout",
     "output_type": "stream",
     "text": [
      "Sentence: 'i think you're on it rather next to it. you need to be next to it.'\t Predicted Speech Act: Statement of Situation\n",
      "Sentence: 'yeah, i'm putting up northwesterly barrier. you see where firetruck_one, firetruck_two and firetruck_three are?'\t Predicted Speech Act: Statement of Situation\n",
      "Sentence: 'yeah. confirm all fires extinguished?'\t Predicted Speech Act: Statement of Situation\n"
     ]
    }
   ],
   "source": [
    "for sentence, prediction in zip(new_sentences, new_predictions):\n",
    "    print(f\"Sentence: '{sentence}'\\t Predicted Speech Act: {prediction}\")"
   ],
   "metadata": {
    "collapsed": false,
    "ExecuteTime": {
     "end_time": "2024-02-06T17:32:04.376786Z",
     "start_time": "2024-02-06T17:32:04.327920Z"
    }
   },
   "id": "5e7d42a85b6f2f6e",
   "execution_count": 30
  }
 ],
 "metadata": {
  "kernelspec": {
   "display_name": "Python 3",
   "language": "python",
   "name": "python3"
  },
  "language_info": {
   "codemirror_mode": {
    "name": "ipython",
    "version": 2
   },
   "file_extension": ".py",
   "mimetype": "text/x-python",
   "name": "python",
   "nbconvert_exporter": "python",
   "pygments_lexer": "ipython2",
   "version": "2.7.6"
  }
 },
 "nbformat": 4,
 "nbformat_minor": 5
}
