{
 "cells": [
  {
   "cell_type": "markdown",
   "source": [
    "### Text Data Preprocessing"
   ],
   "metadata": {
    "collapsed": false
   },
   "id": "249af714d1a806fc"
  },
  {
   "cell_type": "code",
   "outputs": [],
   "source": [
    "# TODO sentence preprocessing, turn big paragraphs into single sentences\n",
    "\n",
    "import pandas as pd\n"
   ],
   "metadata": {
    "collapsed": false
   },
   "id": "9b48a1657e89d8eb"
  },
  {
   "cell_type": "markdown",
   "source": [
    "Reading the Excel File into a pandas DataFrame"
   ],
   "metadata": {
    "collapsed": false
   },
   "id": "3b7b9441bec441d3"
  },
  {
   "cell_type": "code",
   "outputs": [],
   "source": [
    "file_path = \"interrater_data.xlsx\"\n",
    "# Read the Excel file into a pandas DataFrame\n",
    "excel_file = pd.read_excel(file_path)"
   ],
   "metadata": {
    "collapsed": true
   },
   "id": "initial_id",
   "execution_count": 0
  },
  {
   "cell_type": "markdown",
   "source": [
    "Extracting the labels for each excel row separately"
   ],
   "metadata": {
    "collapsed": false
   },
   "id": "a4f187f8b725cfeb"
  },
  {
   "cell_type": "code",
   "outputs": [],
   "source": [
    "def get_sentences_labels():\n",
    "    labels = []\n",
    "    for col in excel_file.columns[3:]:\n",
    "        labels.append(col)\n",
    "\n",
    "    sentences = []\n",
    "    correct_labels = []\n",
    "\n",
    "    for row in excel_file.iterrows():\n",
    "        for index, speech_act in enumerate(row[1].iloc[3:]):\n",
    "            if speech_act == \"x\":\n",
    "                sentences.append(row[1].iloc[2].lower())\n",
    "                correct_labels.append(labels[index])\n",
    "                break\n",
    "\n",
    "    print(\"Sentences: \", sentences[:5])\n",
    "    print(\"I have sentences: \", len(sentences))\n",
    "    print(\"Correct Labels: \", correct_labels[:5])\n",
    "    print(\"I have labels: \", len(correct_labels))\n",
    "\n",
    "    return sentences, correct_labels"
   ],
   "metadata": {
    "collapsed": false
   },
   "id": "3865ff9150a68a07"
  },
  {
   "cell_type": "markdown",
   "source": [],
   "metadata": {
    "collapsed": false
   },
   "id": "368262a9bbfc3972"
  },
  {
   "cell_type": "code",
   "outputs": [],
   "source": [],
   "metadata": {
    "collapsed": false
   },
   "id": "7b4adda006307703"
  }
 ],
 "metadata": {
  "kernelspec": {
   "display_name": "Python 3",
   "language": "python",
   "name": "python3"
  },
  "language_info": {
   "codemirror_mode": {
    "name": "ipython",
    "version": 2
   },
   "file_extension": ".py",
   "mimetype": "text/x-python",
   "name": "python",
   "nbconvert_exporter": "python",
   "pygments_lexer": "ipython2",
   "version": "2.7.6"
  }
 },
 "nbformat": 4,
 "nbformat_minor": 5
}
