{
 "cells": [
  {
   "cell_type": "markdown",
   "source": [
    "### Text Data Preprocessing"
   ],
   "metadata": {
    "collapsed": false
   },
   "id": "249af714d1a806fc"
  },
  {
   "cell_type": "code",
   "outputs": [],
   "source": [
    "# TODO sentence preprocessing, turn big paragraphs into single sentences\n",
    "\n",
    "import pandas as pd\n",
    "\n",
    "from nltk.stem import PorterStemmer, WordNetLemmatizer"
   ],
   "metadata": {
    "collapsed": false,
    "ExecuteTime": {
     "end_time": "2024-02-06T17:21:30.368789Z",
     "start_time": "2024-02-06T17:21:28.240962Z"
    }
   },
   "id": "9b48a1657e89d8eb",
   "execution_count": 1
  },
  {
   "cell_type": "markdown",
   "source": [
    "Reading the Excel File into a pandas DataFrame"
   ],
   "metadata": {
    "collapsed": false
   },
   "id": "3b7b9441bec441d3"
  },
  {
   "cell_type": "code",
   "outputs": [],
   "source": [
    "file_path = \"data/interrater_data.xlsx\"\n",
    "\n",
    "excel_file = pd.read_excel(file_path)"
   ],
   "metadata": {
    "collapsed": true,
    "ExecuteTime": {
     "end_time": "2024-02-06T17:21:30.648484Z",
     "start_time": "2024-02-06T17:21:30.371946Z"
    }
   },
   "id": "initial_id",
   "execution_count": 2
  },
  {
   "cell_type": "markdown",
   "source": [
    "Extracting the text and associated label for each excel row and storing them in _sentences_ and _labels_ respectively"
   ],
   "metadata": {
    "collapsed": false
   },
   "id": "a4f187f8b725cfeb"
  },
  {
   "cell_type": "code",
   "outputs": [
    {
     "data": {
      "text/plain": "         Time  Speaker                                          Utterance  \\\n0    00:00:00    Bravo                       Alpha, Charlie. Bravo check.   \n1    00:00:05  Charlie                       Alpha you're loud_and_clear.   \n2    00:00:06    Alpha                                Charlie. Good to me   \n3    00:00:10    Bravo          Charlie, Charlie one, Bravo radio check.    \n4    00:00:13    Alpha                     Yeah. Charlie good to me. Over   \n..        ...      ...                                                ...   \n129  00:15:52  Charlie                                                Yep   \n130  00:15:54    Alpha  Don't forget we still got a fire in the kind o...   \n131  00:16:00    Bravo                                         Yeah. Now.   \n132  00:16:05  Charlie                                                OK.   \n133  00:16:08  Control  Hello. All Stations. The scenario has now fins...   \n\n    Not Classified Statement of Intent Statement of Prediction  \\\n0              NaN                 NaN                     NaN   \n1              NaN                 NaN                     NaN   \n2              NaN                 NaN                     NaN   \n3              NaN                 NaN                     NaN   \n4              NaN                 NaN                     NaN   \n..             ...                 ...                     ...   \n129              X                 NaN                     NaN   \n130            NaN                 NaN                     NaN   \n131            NaN                 NaN                     NaN   \n132            NaN                 NaN                     NaN   \n133            NaN                 NaN                     NaN   \n\n    Statement of Situation Statement of Action  Request for Intent  \\\n0                      NaN                 NaN                 NaN   \n1                        x                 NaN                 NaN   \n2                        x                 NaN                 NaN   \n3                      NaN                 NaN                 NaN   \n4                        x                 NaN                 NaN   \n..                     ...                 ...                 ...   \n129                    NaN                 NaN                 NaN   \n130                      X                 NaN                 NaN   \n131                    NaN                   X                 NaN   \n132                    NaN                 NaN                 NaN   \n133                      X                 NaN                 NaN   \n\n     Request for Prediction Request for Situation Request for Action  \n0                       NaN                     x                NaN  \n1                       NaN                   NaN                NaN  \n2                       NaN                   NaN                NaN  \n3                       NaN                     x                NaN  \n4                       NaN                   NaN                NaN  \n..                      ...                   ...                ...  \n129                     NaN                   NaN                NaN  \n130                     NaN                   NaN                NaN  \n131                     NaN                   NaN                NaN  \n132                     NaN                   NaN                NaN  \n133                     NaN                   NaN                NaN  \n\n[134 rows x 12 columns]",
      "text/html": "<div>\n<style scoped>\n    .dataframe tbody tr th:only-of-type {\n        vertical-align: middle;\n    }\n\n    .dataframe tbody tr th {\n        vertical-align: top;\n    }\n\n    .dataframe thead th {\n        text-align: right;\n    }\n</style>\n<table border=\"1\" class=\"dataframe\">\n  <thead>\n    <tr style=\"text-align: right;\">\n      <th></th>\n      <th>Time</th>\n      <th>Speaker</th>\n      <th>Utterance</th>\n      <th>Not Classified</th>\n      <th>Statement of Intent</th>\n      <th>Statement of Prediction</th>\n      <th>Statement of Situation</th>\n      <th>Statement of Action</th>\n      <th>Request for Intent</th>\n      <th>Request for Prediction</th>\n      <th>Request for Situation</th>\n      <th>Request for Action</th>\n    </tr>\n  </thead>\n  <tbody>\n    <tr>\n      <th>0</th>\n      <td>00:00:00</td>\n      <td>Bravo</td>\n      <td>Alpha, Charlie. Bravo check.</td>\n      <td>NaN</td>\n      <td>NaN</td>\n      <td>NaN</td>\n      <td>NaN</td>\n      <td>NaN</td>\n      <td>NaN</td>\n      <td>NaN</td>\n      <td>x</td>\n      <td>NaN</td>\n    </tr>\n    <tr>\n      <th>1</th>\n      <td>00:00:05</td>\n      <td>Charlie</td>\n      <td>Alpha you're loud_and_clear.</td>\n      <td>NaN</td>\n      <td>NaN</td>\n      <td>NaN</td>\n      <td>x</td>\n      <td>NaN</td>\n      <td>NaN</td>\n      <td>NaN</td>\n      <td>NaN</td>\n      <td>NaN</td>\n    </tr>\n    <tr>\n      <th>2</th>\n      <td>00:00:06</td>\n      <td>Alpha</td>\n      <td>Charlie. Good to me</td>\n      <td>NaN</td>\n      <td>NaN</td>\n      <td>NaN</td>\n      <td>x</td>\n      <td>NaN</td>\n      <td>NaN</td>\n      <td>NaN</td>\n      <td>NaN</td>\n      <td>NaN</td>\n    </tr>\n    <tr>\n      <th>3</th>\n      <td>00:00:10</td>\n      <td>Bravo</td>\n      <td>Charlie, Charlie one, Bravo radio check.</td>\n      <td>NaN</td>\n      <td>NaN</td>\n      <td>NaN</td>\n      <td>NaN</td>\n      <td>NaN</td>\n      <td>NaN</td>\n      <td>NaN</td>\n      <td>x</td>\n      <td>NaN</td>\n    </tr>\n    <tr>\n      <th>4</th>\n      <td>00:00:13</td>\n      <td>Alpha</td>\n      <td>Yeah. Charlie good to me. Over</td>\n      <td>NaN</td>\n      <td>NaN</td>\n      <td>NaN</td>\n      <td>x</td>\n      <td>NaN</td>\n      <td>NaN</td>\n      <td>NaN</td>\n      <td>NaN</td>\n      <td>NaN</td>\n    </tr>\n    <tr>\n      <th>...</th>\n      <td>...</td>\n      <td>...</td>\n      <td>...</td>\n      <td>...</td>\n      <td>...</td>\n      <td>...</td>\n      <td>...</td>\n      <td>...</td>\n      <td>...</td>\n      <td>...</td>\n      <td>...</td>\n      <td>...</td>\n    </tr>\n    <tr>\n      <th>129</th>\n      <td>00:15:52</td>\n      <td>Charlie</td>\n      <td>Yep</td>\n      <td>X</td>\n      <td>NaN</td>\n      <td>NaN</td>\n      <td>NaN</td>\n      <td>NaN</td>\n      <td>NaN</td>\n      <td>NaN</td>\n      <td>NaN</td>\n      <td>NaN</td>\n    </tr>\n    <tr>\n      <th>130</th>\n      <td>00:15:54</td>\n      <td>Alpha</td>\n      <td>Don't forget we still got a fire in the kind o...</td>\n      <td>NaN</td>\n      <td>NaN</td>\n      <td>NaN</td>\n      <td>X</td>\n      <td>NaN</td>\n      <td>NaN</td>\n      <td>NaN</td>\n      <td>NaN</td>\n      <td>NaN</td>\n    </tr>\n    <tr>\n      <th>131</th>\n      <td>00:16:00</td>\n      <td>Bravo</td>\n      <td>Yeah. Now.</td>\n      <td>NaN</td>\n      <td>NaN</td>\n      <td>NaN</td>\n      <td>NaN</td>\n      <td>X</td>\n      <td>NaN</td>\n      <td>NaN</td>\n      <td>NaN</td>\n      <td>NaN</td>\n    </tr>\n    <tr>\n      <th>132</th>\n      <td>00:16:05</td>\n      <td>Charlie</td>\n      <td>OK.</td>\n      <td>NaN</td>\n      <td>NaN</td>\n      <td>NaN</td>\n      <td>NaN</td>\n      <td>NaN</td>\n      <td>NaN</td>\n      <td>NaN</td>\n      <td>NaN</td>\n      <td>NaN</td>\n    </tr>\n    <tr>\n      <th>133</th>\n      <td>00:16:08</td>\n      <td>Control</td>\n      <td>Hello. All Stations. The scenario has now fins...</td>\n      <td>NaN</td>\n      <td>NaN</td>\n      <td>NaN</td>\n      <td>X</td>\n      <td>NaN</td>\n      <td>NaN</td>\n      <td>NaN</td>\n      <td>NaN</td>\n      <td>NaN</td>\n    </tr>\n  </tbody>\n</table>\n<p>134 rows × 12 columns</p>\n</div>"
     },
     "execution_count": 3,
     "metadata": {},
     "output_type": "execute_result"
    }
   ],
   "source": [
    "excel_file"
   ],
   "metadata": {
    "collapsed": false,
    "ExecuteTime": {
     "end_time": "2024-02-06T17:21:30.701504Z",
     "start_time": "2024-02-06T17:21:30.660179Z"
    }
   },
   "id": "9696e7f7cf69eae5",
   "execution_count": 3
  },
  {
   "cell_type": "code",
   "outputs": [
    {
     "data": {
      "text/plain": "(134, 12)"
     },
     "execution_count": 4,
     "metadata": {},
     "output_type": "execute_result"
    }
   ],
   "source": [
    "excel_file.shape\n",
    "# The first number is the number of rows/entries there are, the second is the number of columns of the .shape function"
   ],
   "metadata": {
    "collapsed": false,
    "ExecuteTime": {
     "end_time": "2024-02-06T17:21:30.732445Z",
     "start_time": "2024-02-06T17:21:30.684091Z"
    }
   },
   "id": "29bca8e5c6cebf64",
   "execution_count": 4
  },
  {
   "cell_type": "code",
   "outputs": [
    {
     "data": {
      "text/plain": "Time                       115\nSpeaker                      4\nUtterance                  132\nNot Classified               2\nStatement of Intent          2\nStatement of Prediction      2\nStatement of Situation       2\nStatement of Action          2\nRequest for Intent           0\nRequest for Prediction       0\nRequest for Situation        2\nRequest for Action           2\ndtype: int64"
     },
     "execution_count": 5,
     "metadata": {},
     "output_type": "execute_result"
    }
   ],
   "source": [
    "excel_file.nunique()"
   ],
   "metadata": {
    "collapsed": false,
    "ExecuteTime": {
     "end_time": "2024-02-06T17:21:30.735054Z",
     "start_time": "2024-02-06T17:21:30.699005Z"
    }
   },
   "id": "dc8eee74cf0ac795",
   "execution_count": 5
  },
  {
   "cell_type": "code",
   "outputs": [
    {
     "name": "stdout",
     "output_type": "stream",
     "text": [
      "Sentences:  [\"alpha you're loud_and_clear.\", 'charlie.', 'good to me', 'yeah.', 'charlie good to me.']\n",
      "I have sentences:  125\n",
      "Correct Labels:  ['Statement of Situation', 'Statement of Situation', 'Statement of Situation', 'Statement of Situation', 'Statement of Situation']\n",
      "I have labels:  125\n"
     ]
    }
   ],
   "source": [
    "from nltk.tokenize import sent_tokenize\n",
    "\n",
    "actual_labels = []\n",
    "for col in excel_file.columns[3:]:\n",
    "    actual_labels.append(col)\n",
    "\n",
    "sentences = []\n",
    "labels = []\n",
    "\n",
    "for row in excel_file.iterrows():\n",
    "    for index, speech_act in enumerate(row[1].iloc[3:10]):\n",
    "        if speech_act == \"x\":\n",
    "            # TODO assign different labels for the different parts of the text?\n",
    "            row_sentences = sent_tokenize(row[1].iloc[2].lower().strip())\n",
    "            for s in row_sentences:\n",
    "                sentences.append(s)\n",
    "                labels.append(actual_labels[index])\n",
    "            break\n",
    "\n",
    "print(\"Sentences: \", sentences[:5])\n",
    "print(\"I have sentences: \", len(sentences))\n",
    "print(\"Correct Labels: \", labels[:5])\n",
    "print(\"I have labels: \", len(labels))"
   ],
   "metadata": {
    "collapsed": false,
    "ExecuteTime": {
     "end_time": "2024-02-06T17:21:30.772112Z",
     "start_time": "2024-02-06T17:21:30.703676Z"
    }
   },
   "id": "3865ff9150a68a07",
   "execution_count": 6
  },
  {
   "cell_type": "code",
   "outputs": [
    {
     "data": {
      "text/plain": "[\"alpha you're loud_and_clear.\",\n 'charlie.',\n 'good to me',\n 'yeah.',\n 'charlie good to me.',\n 'over',\n \"you're loud_and_clear.\",\n 'from alpha.',\n 'splendid.',\n \"ok, my piece of news is all about the lowtown hospital, that's in grid square november_30.\",\n 'how they have been able to save the hospital.',\n 'so i would expect it to be lots of people there, potentially.',\n 'bravo, i’ve some irrelevant drivel about squirrels in firwood.',\n \"yeah, i've something about steel.\",\n \"probably given it to me because i'm northern.\",\n 'but again, its useless.',\n '5 minutes for planning.',\n 'starting now.',\n 'ok, so i think the grid idea from alex mark one is a good idea.',\n 'that leaves you, alex two, with your  firetruck_six that you can then go either side of that barrier line depending on where you feel the biggest threat is or where the people are.',\n 'i assume alex one you’ll take  firetruck _seven and  firetruck _eight for replenishment into a position that will best serve serve all of that.',\n \"i'm starting on 40, then.\",\n \"just confirm firetruck_four, firetruck_five, and firetruck_six you've got 40 capacity?\",\n 'that leaves you, alex two, with your  firetruck_six that you can then go either side of that barrier line depending on where you feel the biggest threat is or where the people are.',\n 'i assume alex one you’ll take  firetruck _seven and  firetruck _eight for replenishment into a position that will best serve serve all of that.',\n \"i'm starting on 40, then.\",\n 'fully loaded.',\n \"yeah, i'm on 40 as well.\",\n 'ok',\n 'hello.',\n 'all stations this is additional information.',\n \"in this context, you'll be seeing the map in unit only view.\",\n 'as in the last practise.',\n 'yes.',\n 'roger',\n 'just done a quick ipb.',\n \"clearly we've westhill and easterly interspersed with wood blocks.\",\n 'so, any kind of fire there is likely to rapidly spread given the wind direction.',\n \"i'm also noting where the two drop-off points are, they're quite dislocated from centre of gravities.\",\n 'the next area of concern would be towards the south east to the newforest region as well.',\n 'given that that is three times more likely to burn.',\n \"so i suspect the earlier stage of this operation, i'll go to newforest into the newtown area with one of my vehicles and easterly with another one of my vehicles.\",\n 'check?',\n 'great.',\n 'ok. roger.',\n 'yeah, makes sense.',\n 'roger.',\n \"in addition to that, i think if we can avoid, depending on where the fire starts, but let's it starts west of the newforest, we can avoid it,\",\n \"if we can prevent, put a block in before newforest gets hit, that'll save a lot of a lot of grief.\",\n 'yeah i agree and if we have to accept',\n \"and if we can't do that we have to accept newforest is burnt, then we'll just have to go hard down the alpha_india line.\",\n \"true, but if that, i mean what i'm saying is we can't let newforest hit because if it does that the fire will be uncontrollable in that forest and it will come out the other side all the way from 26 down to 36.\",\n 'which means oldtown and newtown will be buggered.',\n 'that’s accepting middle town.',\n 'yeah, that’s true.',\n 'yep.',\n 'yeah ok.  yeah, you’re right',\n 'so, are we in agreement to spend most of our… centre of gravity of our units to kind of the southern side of the map, so in bottom half, centred some of the west and some on the south east?',\n 'so on the bottom half.',\n 'yeah, i think so.',\n \"i'm looking at the wind direction, finding that doesn't change.\",\n 'it was coming from the west.',\n 'then anything to the west of newforest, its going to rip through in towards newtown.',\n 'newtown and oldtown fairly quickly.',\n 'so alex one, i think you’re absolutely right.',\n 'we need to try and prevent or stop anything going near the newforest if we can help it.',\n 'so we need to push this on a bit.',\n 'i need firetruck_one, firetruck_two and firetruck_three for about two or three minutes.',\n 'just conscious that fire might spin in towards swanton as well.',\n 'so castleton immediate priority and then switch fire to swanton.',\n \"i think what we've done it's made a massive change in the face of the enemy.\",\n 'winterfold is clear.',\n 'winterfold is clear.',\n 'two_pax at firetruck_ seven in castleton.',\n 'understood.',\n 'one_pax at current location of firetruck_seven.',\n 'i think we need to stop chasing.',\n 'firetruck_one and firetruck_two should push down towards swanton.',\n 'yeah.',\n 'copy that.',\n 'coming down now.',\n \"i'm just resupplying.\",\n \"i'll form a,  if you carry on fighting where you at castleton, i'm going to go down to the east of swanton and try and put a barrier up against it to protect swanton and hanley.\",\n \"i should be filling up with the water but it's not the moment.\",\n \"i think you're on it rather next to it.\",\n 'you need to be next to it.',\n \"yeah,  you're right.\",\n 'refilling now.',\n \"so firetruck_four, firetruck_five, and firetruck_six let's try and form a baseline to protect swanton.\",\n 'and then firetruck_one, firetruck_two, firetruck_three you just head directly east to stop the breckenhill.',\n 'ok.',\n 'so firetruck_one, firetruck_two, firetruck_three head immediately east.',\n \"in the vicinity of wyreforest and then firetruck_four, firetruck_five, firetruck_six let's form a baseline in swanton.\",\n \"we need to stop getting to underwood actually so we've got to stop it at whatever the village is that’s disappeared.\",\n 'on it.',\n 'yeah.',\n 'yes it is, yeah.',\n 'right.',\n 'charlie charlie one, we need to stop this getting into the woods around underwood otherwise it will spread more than we can contain it.',\n \"yeah, i'm putting up northwesterly  barrier.\",\n \"don't forget, it goes through the diagonals.\",\n 'it has to be an l_shaped block.',\n 'moving .',\n 'you’re nearly full.',\n 'won’t be in a second.',\n 'alpha is you move one to cover the westernmost, sorry easternmost fire.',\n 'on it.',\n 'i’d say standby for the fire lads because it seems to getting be a bit too quiet now.',\n 'fire’s out.',\n 'relocating assets to castlehill.',\n 'let’s just do quick search of beaconhill as well.',\n \"i don't think that's been cleared yet.\",\n 'so quick check guys, so malton is clear, right by the car park which is about a 120_pax,  winterfold is clear, trench wood is clear,  castlehill is clear and castleton is clear.',\n 'so what we need to check is underwood, beaconhill, hanley, and swanton.',\n 'over.',\n 'warning fire warning juliet_24, papa_delta_7.',\n 'that puts a hanley in there the firing line.',\n 'suggest forming block north of wildwood.',\n 'over.',\n 'yep.',\n 'bringing them down there now, firetruck_two is on its way.',\n 'charlie charlie one, see where firetruck_one, firetruck_four and firetruck_five are going.',\n 'if we’re able to block the fire,  in the same way that we dealt with the first one but properly then we should be able to stop in there and then.',\n 'so, if we have two on line 24 on either side that will stop going anywhere.',\n 'the one block north of firetruck_six and firetruck_five.']"
     },
     "execution_count": 7,
     "metadata": {},
     "output_type": "execute_result"
    }
   ],
   "source": [
    "sentences   "
   ],
   "metadata": {
    "collapsed": false,
    "ExecuteTime": {
     "end_time": "2024-02-06T17:21:30.809057Z",
     "start_time": "2024-02-06T17:21:30.751895Z"
    }
   },
   "id": "7b4adda006307703",
   "execution_count": 7
  },
  {
   "cell_type": "code",
   "outputs": [
    {
     "data": {
      "text/plain": "['Statement of Situation',\n 'Statement of Situation',\n 'Statement of Situation',\n 'Statement of Situation',\n 'Statement of Situation',\n 'Statement of Situation',\n 'Statement of Situation',\n 'Statement of Situation',\n 'Not Classified',\n 'Statement of Situation',\n 'Statement of Situation',\n 'Statement of Situation',\n 'Statement of Situation',\n 'Statement of Situation',\n 'Statement of Situation',\n 'Statement of Situation',\n 'Statement of Action',\n 'Statement of Action',\n 'Statement of Intent',\n 'Statement of Intent',\n 'Statement of Intent',\n 'Statement of Intent',\n 'Statement of Intent',\n 'Statement of Situation',\n 'Statement of Situation',\n 'Statement of Situation',\n 'Statement of Situation',\n 'Statement of Situation',\n 'Not Classified',\n 'Statement of Situation',\n 'Statement of Situation',\n 'Statement of Situation',\n 'Statement of Situation',\n 'Not Classified',\n 'Not Classified',\n 'Statement of Situation',\n 'Statement of Situation',\n 'Statement of Situation',\n 'Statement of Situation',\n 'Statement of Prediction',\n 'Statement of Prediction',\n 'Statement of Intent',\n 'Statement of Intent',\n 'Not Classified',\n 'Not Classified',\n 'Not Classified',\n 'Statement of Intent',\n 'Statement of Intent',\n 'Statement of Prediction',\n 'Not Classified',\n 'Statement of Intent',\n 'Statement of Prediction',\n 'Statement of Prediction',\n 'Statement of Prediction',\n 'Not Classified',\n 'Not Classified',\n 'Not Classified',\n 'Statement of Intent',\n 'Statement of Intent',\n 'Statement of Prediction',\n 'Statement of Prediction',\n 'Statement of Prediction',\n 'Statement of Prediction',\n 'Statement of Prediction',\n 'Statement of Prediction',\n 'Statement of Intent',\n 'Statement of Intent',\n 'Statement of Intent',\n 'Statement of Prediction',\n 'Statement of Prediction',\n 'Statement of Prediction',\n 'Statement of Situation',\n 'Statement of Situation',\n 'Statement of Situation',\n 'Not Classified',\n 'Statement of Situation',\n 'Statement of Intent',\n 'Statement of Intent',\n 'Statement of Intent',\n 'Statement of Intent',\n 'Statement of Intent',\n 'Statement of Intent',\n 'Statement of Intent',\n 'Statement of Situation',\n 'Statement of Situation',\n 'Statement of Situation',\n 'Statement of Action',\n 'Statement of Action',\n 'Statement of Intent',\n 'Statement of Intent',\n 'Not Classified',\n 'Statement of Intent',\n 'Statement of Intent',\n 'Statement of Intent',\n 'Statement of Action',\n 'Statement of Situation',\n 'Statement of Situation',\n 'Statement of Intent',\n 'Statement of Intent',\n 'Statement of Action',\n 'Statement of Situation',\n 'Statement of Situation',\n 'Statement of Action',\n 'Statement of Situation',\n 'Statement of Situation',\n 'Statement of Intent',\n 'Statement of Action',\n 'Statement of Prediction',\n 'Statement of Action',\n 'Statement of Action',\n 'Statement of Intent',\n 'Statement of Intent',\n 'Statement of Situation',\n 'Statement of Intent',\n 'Statement of Intent',\n 'Statement of Prediction',\n 'Statement of Situation',\n 'Statement of Intent',\n 'Statement of Intent',\n 'Statement of Action',\n 'Statement of Action',\n 'Statement of Intent',\n 'Statement of Intent',\n 'Statement of Intent',\n 'Statement of Intent']"
     },
     "execution_count": 8,
     "metadata": {},
     "output_type": "execute_result"
    }
   ],
   "source": [
    "labels"
   ],
   "metadata": {
    "collapsed": false,
    "ExecuteTime": {
     "end_time": "2024-02-06T17:21:30.811983Z",
     "start_time": "2024-02-06T17:21:30.760264Z"
    }
   },
   "id": "2cb02451fa8e2efc",
   "execution_count": 8
  },
  {
   "cell_type": "markdown",
   "source": [
    "# Preprocessing using NLTK\n",
    "Tokenisation"
   ],
   "metadata": {
    "collapsed": false
   },
   "id": "2c8eef911e4c6b9d"
  },
  {
   "cell_type": "code",
   "outputs": [
    {
     "name": "stdout",
     "output_type": "stream",
     "text": [
      "['alpha', 'you', \"'re\", 'loud_and_clear', '.', 'charlie', '.', 'good', 'to', 'me', 'yeah', '.', 'charlie', 'good', 'to', 'me', '.', 'over', 'you', \"'re\", 'loud_and_clear', '.', 'from', 'alpha', '.', 'splendid', '.', 'ok', ',', 'my', 'piece', 'of', 'news', 'is', 'all', 'about', 'the', 'lowtown', 'hospital', ',', 'that', \"'s\", 'in', 'grid', 'square', 'november_30', '.', 'how', 'they', 'have', 'been', 'able', 'to', 'save', 'the', 'hospital', '.', 'so', 'i', 'would', 'expect', 'it', 'to', 'be', 'lots', 'of', 'people', 'there', ',', 'potentially', '.', 'bravo', ',', 'i', '’', 've', 'some', 'irrelevant', 'drivel', 'about', 'squirrels', 'in', 'firwood', '.', 'yeah', ',', 'i', \"'ve\", 'something', 'about', 'steel', '.', 'probably', 'given', 'it', 'to', 'me', 'because', 'i', \"'m\", 'northern', '.', 'but', 'again', ',', 'its', 'useless', '.', '5', 'minutes', 'for', 'planning', '.', 'starting', 'now', '.', 'ok', ',', 'so', 'i', 'think', 'the', 'grid', 'idea', 'from', 'alex', 'mark', 'one', 'is', 'a', 'good', 'idea', '.', 'that', 'leaves', 'you', ',', 'alex', 'two', ',', 'with', 'your', 'firetruck_six', 'that', 'you', 'can', 'then', 'go', 'either', 'side', 'of', 'that', 'barrier', 'line', 'depending', 'on', 'where', 'you', 'feel', 'the', 'biggest', 'threat', 'is', 'or', 'where', 'the', 'people', 'are', '.', 'i', 'assume', 'alex', 'one', 'you', '’', 'll', 'take', 'firetruck', '_seven', 'and', 'firetruck', '_eight', 'for', 'replenishment', 'into', 'a', 'position', 'that', 'will', 'best', 'serve', 'serve', 'all', 'of', 'that', '.', 'i', \"'m\", 'starting', 'on', '40', ',', 'then', '.', 'just', 'confirm', 'firetruck_four', ',', 'firetruck_five', ',', 'and', 'firetruck_six', 'you', \"'ve\", 'got', '40', 'capacity', '?', 'that', 'leaves', 'you', ',', 'alex', 'two', ',', 'with', 'your', 'firetruck_six', 'that', 'you', 'can', 'then', 'go', 'either', 'side', 'of', 'that', 'barrier', 'line', 'depending', 'on', 'where', 'you', 'feel', 'the', 'biggest', 'threat', 'is', 'or', 'where', 'the', 'people', 'are', '.', 'i', 'assume', 'alex', 'one', 'you', '’', 'll', 'take', 'firetruck', '_seven', 'and', 'firetruck', '_eight', 'for', 'replenishment', 'into', 'a', 'position', 'that', 'will', 'best', 'serve', 'serve', 'all', 'of', 'that', '.', 'i', \"'m\", 'starting', 'on', '40', ',', 'then', '.', 'fully', 'loaded', '.', 'yeah', ',', 'i', \"'m\", 'on', '40', 'as', 'well', '.', 'ok', 'hello', '.', 'all', 'stations', 'this', 'is', 'additional', 'information', '.', 'in', 'this', 'context', ',', 'you', \"'ll\", 'be', 'seeing', 'the', 'map', 'in', 'unit', 'only', 'view', '.', 'as', 'in', 'the', 'last', 'practise', '.', 'yes', '.', 'roger', 'just', 'done', 'a', 'quick', 'ipb', '.', 'clearly', 'we', \"'ve\", 'westhill', 'and', 'easterly', 'interspersed', 'with', 'wood', 'blocks', '.', 'so', ',', 'any', 'kind', 'of', 'fire', 'there', 'is', 'likely', 'to', 'rapidly', 'spread', 'given', 'the', 'wind', 'direction', '.', 'i', \"'m\", 'also', 'noting', 'where', 'the', 'two', 'drop-off', 'points', 'are', ',', 'they', \"'re\", 'quite', 'dislocated', 'from', 'centre', 'of', 'gravities', '.', 'the', 'next', 'area', 'of', 'concern', 'would', 'be', 'towards', 'the', 'south', 'east', 'to', 'the', 'newforest', 'region', 'as', 'well', '.', 'given', 'that', 'that', 'is', 'three', 'times', 'more', 'likely', 'to', 'burn', '.', 'so', 'i', 'suspect', 'the', 'earlier', 'stage', 'of', 'this', 'operation', ',', 'i', \"'ll\", 'go', 'to', 'newforest', 'into', 'the', 'newtown', 'area', 'with', 'one', 'of', 'my', 'vehicles', 'and', 'easterly', 'with', 'another', 'one', 'of', 'my', 'vehicles', '.', 'check', '?', 'great', '.', 'ok.', 'roger', '.', 'yeah', ',', 'makes', 'sense', '.', 'roger', '.', 'in', 'addition', 'to', 'that', ',', 'i', 'think', 'if', 'we', 'can', 'avoid', ',', 'depending', 'on', 'where', 'the', 'fire', 'starts', ',', 'but', 'let', \"'s\", 'it', 'starts', 'west', 'of', 'the', 'newforest', ',', 'we', 'can', 'avoid', 'it', ',', 'if', 'we', 'can', 'prevent', ',', 'put', 'a', 'block', 'in', 'before', 'newforest', 'gets', 'hit', ',', 'that', \"'ll\", 'save', 'a', 'lot', 'of', 'a', 'lot', 'of', 'grief', '.', 'yeah', 'i', 'agree', 'and', 'if', 'we', 'have', 'to', 'accept', 'and', 'if', 'we', 'ca', \"n't\", 'do', 'that', 'we', 'have', 'to', 'accept', 'newforest', 'is', 'burnt', ',', 'then', 'we', \"'ll\", 'just', 'have', 'to', 'go', 'hard', 'down', 'the', 'alpha_india', 'line', '.', 'true', ',', 'but', 'if', 'that', ',', 'i', 'mean', 'what', 'i', \"'m\", 'saying', 'is', 'we', 'ca', \"n't\", 'let', 'newforest', 'hit', 'because', 'if', 'it', 'does', 'that', 'the', 'fire', 'will', 'be', 'uncontrollable', 'in', 'that', 'forest', 'and', 'it', 'will', 'come', 'out', 'the', 'other', 'side', 'all', 'the', 'way', 'from', '26', 'down', 'to', '36', '.', 'which', 'means', 'oldtown', 'and', 'newtown', 'will', 'be', 'buggered', '.', 'that', '’', 's', 'accepting', 'middle', 'town', '.', 'yeah', ',', 'that', '’', 's', 'true', '.', 'yep', '.', 'yeah', 'ok.', 'yeah', ',', 'you', '’', 're', 'right', 'so', ',', 'are', 'we', 'in', 'agreement', 'to', 'spend', 'most', 'of', 'our…', 'centre', 'of', 'gravity', 'of', 'our', 'units', 'to', 'kind', 'of', 'the', 'southern', 'side', 'of', 'the', 'map', ',', 'so', 'in', 'bottom', 'half', ',', 'centred', 'some', 'of', 'the', 'west', 'and', 'some', 'on', 'the', 'south', 'east', '?', 'so', 'on', 'the', 'bottom', 'half', '.', 'yeah', ',', 'i', 'think', 'so', '.', 'i', \"'m\", 'looking', 'at', 'the', 'wind', 'direction', ',', 'finding', 'that', 'does', \"n't\", 'change', '.', 'it', 'was', 'coming', 'from', 'the', 'west', '.', 'then', 'anything', 'to', 'the', 'west', 'of', 'newforest', ',', 'its', 'going', 'to', 'rip', 'through', 'in', 'towards', 'newtown', '.', 'newtown', 'and', 'oldtown', 'fairly', 'quickly', '.', 'so', 'alex', 'one', ',', 'i', 'think', 'you', '’', 're', 'absolutely', 'right', '.', 'we', 'need', 'to', 'try', 'and', 'prevent', 'or', 'stop', 'anything', 'going', 'near', 'the', 'newforest', 'if', 'we', 'can', 'help', 'it', '.', 'so', 'we', 'need', 'to', 'push', 'this', 'on', 'a', 'bit', '.', 'i', 'need', 'firetruck_one', ',', 'firetruck_two', 'and', 'firetruck_three', 'for', 'about', 'two', 'or', 'three', 'minutes', '.', 'just', 'conscious', 'that', 'fire', 'might', 'spin', 'in', 'towards', 'swanton', 'as', 'well', '.', 'so', 'castleton', 'immediate', 'priority', 'and', 'then', 'switch', 'fire', 'to', 'swanton', '.', 'i', 'think', 'what', 'we', \"'ve\", 'done', 'it', \"'s\", 'made', 'a', 'massive', 'change', 'in', 'the', 'face', 'of', 'the', 'enemy', '.', 'winterfold', 'is', 'clear', '.', 'winterfold', 'is', 'clear', '.', 'two_pax', 'at', 'firetruck_', 'seven', 'in', 'castleton', '.', 'understood', '.', 'one_pax', 'at', 'current', 'location', 'of', 'firetruck_seven', '.', 'i', 'think', 'we', 'need', 'to', 'stop', 'chasing', '.', 'firetruck_one', 'and', 'firetruck_two', 'should', 'push', 'down', 'towards', 'swanton', '.', 'yeah', '.', 'copy', 'that', '.', 'coming', 'down', 'now', '.', 'i', \"'m\", 'just', 'resupplying', '.', 'i', \"'ll\", 'form', 'a', ',', 'if', 'you', 'carry', 'on', 'fighting', 'where', 'you', 'at', 'castleton', ',', 'i', \"'m\", 'going', 'to', 'go', 'down', 'to', 'the', 'east', 'of', 'swanton', 'and', 'try', 'and', 'put', 'a', 'barrier', 'up', 'against', 'it', 'to', 'protect', 'swanton', 'and', 'hanley', '.', 'i', 'should', 'be', 'filling', 'up', 'with', 'the', 'water', 'but', 'it', \"'s\", 'not', 'the', 'moment', '.', 'i', 'think', 'you', \"'re\", 'on', 'it', 'rather', 'next', 'to', 'it', '.', 'you', 'need', 'to', 'be', 'next', 'to', 'it', '.', 'yeah', ',', 'you', \"'re\", 'right', '.', 'refilling', 'now', '.', 'so', 'firetruck_four', ',', 'firetruck_five', ',', 'and', 'firetruck_six', 'let', \"'s\", 'try', 'and', 'form', 'a', 'baseline', 'to', 'protect', 'swanton', '.', 'and', 'then', 'firetruck_one', ',', 'firetruck_two', ',', 'firetruck_three', 'you', 'just', 'head', 'directly', 'east', 'to', 'stop', 'the', 'breckenhill', '.', 'ok', '.', 'so', 'firetruck_one', ',', 'firetruck_two', ',', 'firetruck_three', 'head', 'immediately', 'east', '.', 'in', 'the', 'vicinity', 'of', 'wyreforest', 'and', 'then', 'firetruck_four', ',', 'firetruck_five', ',', 'firetruck_six', 'let', \"'s\", 'form', 'a', 'baseline', 'in', 'swanton', '.', 'we', 'need', 'to', 'stop', 'getting', 'to', 'underwood', 'actually', 'so', 'we', \"'ve\", 'got', 'to', 'stop', 'it', 'at', 'whatever', 'the', 'village', 'is', 'that', '’', 's', 'disappeared', '.', 'on', 'it', '.', 'yeah', '.', 'yes', 'it', 'is', ',', 'yeah', '.', 'right', '.', 'charlie', 'charlie', 'one', ',', 'we', 'need', 'to', 'stop', 'this', 'getting', 'into', 'the', 'woods', 'around', 'underwood', 'otherwise', 'it', 'will', 'spread', 'more', 'than', 'we', 'can', 'contain', 'it', '.', 'yeah', ',', 'i', \"'m\", 'putting', 'up', 'northwesterly', 'barrier', '.', 'do', \"n't\", 'forget', ',', 'it', 'goes', 'through', 'the', 'diagonals', '.', 'it', 'has', 'to', 'be', 'an', 'l_shaped', 'block', '.', 'moving', '.', 'you', '’', 're', 'nearly', 'full', '.', 'won', '’', 't', 'be', 'in', 'a', 'second', '.', 'alpha', 'is', 'you', 'move', 'one', 'to', 'cover', 'the', 'westernmost', ',', 'sorry', 'easternmost', 'fire', '.', 'on', 'it', '.', 'i', '’', 'd', 'say', 'standby', 'for', 'the', 'fire', 'lads', 'because', 'it', 'seems', 'to', 'getting', 'be', 'a', 'bit', 'too', 'quiet', 'now', '.', 'fire', '’', 's', 'out', '.', 'relocating', 'assets', 'to', 'castlehill', '.', 'let', '’', 's', 'just', 'do', 'quick', 'search', 'of', 'beaconhill', 'as', 'well', '.', 'i', 'do', \"n't\", 'think', 'that', \"'s\", 'been', 'cleared', 'yet', '.', 'so', 'quick', 'check', 'guys', ',', 'so', 'malton', 'is', 'clear', ',', 'right', 'by', 'the', 'car', 'park', 'which', 'is', 'about', 'a', '120_pax', ',', 'winterfold', 'is', 'clear', ',', 'trench', 'wood', 'is', 'clear', ',', 'castlehill', 'is', 'clear', 'and', 'castleton', 'is', 'clear', '.', 'so', 'what', 'we', 'need', 'to', 'check', 'is', 'underwood', ',', 'beaconhill', ',', 'hanley', ',', 'and', 'swanton', '.', 'over', '.', 'warning', 'fire', 'warning', 'juliet_24', ',', 'papa_delta_7', '.', 'that', 'puts', 'a', 'hanley', 'in', 'there', 'the', 'firing', 'line', '.', 'suggest', 'forming', 'block', 'north', 'of', 'wildwood', '.', 'over', '.', 'yep', '.', 'bringing', 'them', 'down', 'there', 'now', ',', 'firetruck_two', 'is', 'on', 'its', 'way', '.', 'charlie', 'charlie', 'one', ',', 'see', 'where', 'firetruck_one', ',', 'firetruck_four', 'and', 'firetruck_five', 'are', 'going', '.', 'if', 'we', '’', 're', 'able', 'to', 'block', 'the', 'fire', ',', 'in', 'the', 'same', 'way', 'that', 'we', 'dealt', 'with', 'the', 'first', 'one', 'but', 'properly', 'then', 'we', 'should', 'be', 'able', 'to', 'stop', 'in', 'there', 'and', 'then', '.', 'so', ',', 'if', 'we', 'have', 'two', 'on', 'line', '24', 'on', 'either', 'side', 'that', 'will', 'stop', 'going', 'anywhere', '.', 'the', 'one', 'block', 'north', 'of', 'firetruck_six', 'and', 'firetruck_five', '.']\n"
     ]
    }
   ],
   "source": [
    "from nltk.tokenize import word_tokenize\n",
    "# nltk.download('punkt')\n",
    "\n",
    "tokens = []\n",
    "\n",
    "for text in sentences:\n",
    "    tokens = tokens + word_tokenize(text)\n",
    "\n",
    "print(tokens)"
   ],
   "metadata": {
    "collapsed": false,
    "ExecuteTime": {
     "end_time": "2024-02-06T17:21:30.957470Z",
     "start_time": "2024-02-06T17:21:30.784522Z"
    }
   },
   "id": "62cf5b9499927f6a",
   "execution_count": 9
  },
  {
   "cell_type": "markdown",
   "source": [
    "Removing Stop Words"
   ],
   "metadata": {
    "collapsed": false
   },
   "id": "2f5172a7480a5815"
  },
  {
   "cell_type": "code",
   "outputs": [
    {
     "data": {
      "text/plain": "['alpha',\n \"'re\",\n 'loud_and_clear',\n '.',\n 'charlie',\n '.',\n 'good',\n 'yeah',\n '.',\n 'charlie',\n 'good',\n '.',\n \"'re\",\n 'loud_and_clear',\n '.',\n 'alpha',\n '.',\n 'splendid',\n '.',\n 'ok',\n ',',\n 'piece',\n 'news',\n 'lowtown',\n 'hospital',\n ',',\n \"'s\",\n 'grid',\n 'square',\n 'november_30',\n '.',\n 'able',\n 'save',\n 'hospital',\n '.',\n 'would',\n 'expect',\n 'lots',\n 'people',\n ',',\n 'potentially',\n '.',\n 'bravo',\n ',',\n '’',\n 'irrelevant',\n 'drivel',\n 'squirrels',\n 'firwood',\n '.',\n 'yeah',\n ',',\n \"'ve\",\n 'something',\n 'steel',\n '.',\n 'probably',\n 'given',\n \"'m\",\n 'northern',\n '.',\n ',',\n 'useless',\n '.',\n '5',\n 'minutes',\n 'planning',\n '.',\n 'starting',\n '.',\n 'ok',\n ',',\n 'think',\n 'grid',\n 'idea',\n 'alex',\n 'mark',\n 'one',\n 'good',\n 'idea',\n '.',\n 'leaves',\n ',',\n 'alex',\n 'two',\n ',',\n 'firetruck_six',\n 'go',\n 'either',\n 'side',\n 'barrier',\n 'line',\n 'depending',\n 'feel',\n 'biggest',\n 'threat',\n 'people',\n '.',\n 'assume',\n 'alex',\n 'one',\n '’',\n 'take',\n 'firetruck',\n '_seven',\n 'firetruck',\n '_eight',\n 'replenishment',\n 'position',\n 'best',\n 'serve',\n 'serve',\n '.',\n \"'m\",\n 'starting',\n '40',\n ',',\n '.',\n 'confirm',\n 'firetruck_four',\n ',',\n 'firetruck_five',\n ',',\n 'firetruck_six',\n \"'ve\",\n 'got',\n '40',\n 'capacity',\n '?',\n 'leaves',\n ',',\n 'alex',\n 'two',\n ',',\n 'firetruck_six',\n 'go',\n 'either',\n 'side',\n 'barrier',\n 'line',\n 'depending',\n 'feel',\n 'biggest',\n 'threat',\n 'people',\n '.',\n 'assume',\n 'alex',\n 'one',\n '’',\n 'take',\n 'firetruck',\n '_seven',\n 'firetruck',\n '_eight',\n 'replenishment',\n 'position',\n 'best',\n 'serve',\n 'serve',\n '.',\n \"'m\",\n 'starting',\n '40',\n ',',\n '.',\n 'fully',\n 'loaded',\n '.',\n 'yeah',\n ',',\n \"'m\",\n '40',\n 'well',\n '.',\n 'ok',\n 'hello',\n '.',\n 'stations',\n 'additional',\n 'information',\n '.',\n 'context',\n ',',\n \"'ll\",\n 'seeing',\n 'map',\n 'unit',\n 'view',\n '.',\n 'last',\n 'practise',\n '.',\n 'yes',\n '.',\n 'roger',\n 'done',\n 'quick',\n 'ipb',\n '.',\n 'clearly',\n \"'ve\",\n 'westhill',\n 'easterly',\n 'interspersed',\n 'wood',\n 'blocks',\n '.',\n ',',\n 'kind',\n 'fire',\n 'likely',\n 'rapidly',\n 'spread',\n 'given',\n 'wind',\n 'direction',\n '.',\n \"'m\",\n 'also',\n 'noting',\n 'two',\n 'drop-off',\n 'points',\n ',',\n \"'re\",\n 'quite',\n 'dislocated',\n 'centre',\n 'gravities',\n '.',\n 'next',\n 'area',\n 'concern',\n 'would',\n 'towards',\n 'south',\n 'east',\n 'newforest',\n 'region',\n 'well',\n '.',\n 'given',\n 'three',\n 'times',\n 'likely',\n 'burn',\n '.',\n 'suspect',\n 'earlier',\n 'stage',\n 'operation',\n ',',\n \"'ll\",\n 'go',\n 'newforest',\n 'newtown',\n 'area',\n 'one',\n 'vehicles',\n 'easterly',\n 'another',\n 'one',\n 'vehicles',\n '.',\n 'check',\n '?',\n 'great',\n '.',\n 'ok.',\n 'roger',\n '.',\n 'yeah',\n ',',\n 'makes',\n 'sense',\n '.',\n 'roger',\n '.',\n 'addition',\n ',',\n 'think',\n 'avoid',\n ',',\n 'depending',\n 'fire',\n 'starts',\n ',',\n 'let',\n \"'s\",\n 'starts',\n 'west',\n 'newforest',\n ',',\n 'avoid',\n ',',\n 'prevent',\n ',',\n 'put',\n 'block',\n 'newforest',\n 'gets',\n 'hit',\n ',',\n \"'ll\",\n 'save',\n 'lot',\n 'lot',\n 'grief',\n '.',\n 'yeah',\n 'agree',\n 'accept',\n 'ca',\n \"n't\",\n 'accept',\n 'newforest',\n 'burnt',\n ',',\n \"'ll\",\n 'go',\n 'hard',\n 'alpha_india',\n 'line',\n '.',\n 'true',\n ',',\n ',',\n 'mean',\n \"'m\",\n 'saying',\n 'ca',\n \"n't\",\n 'let',\n 'newforest',\n 'hit',\n 'fire',\n 'uncontrollable',\n 'forest',\n 'come',\n 'side',\n 'way',\n '26',\n '36',\n '.',\n 'means',\n 'oldtown',\n 'newtown',\n 'buggered',\n '.',\n '’',\n 'accepting',\n 'middle',\n 'town',\n '.',\n 'yeah',\n ',',\n '’',\n 'true',\n '.',\n 'yep',\n '.',\n 'yeah',\n 'ok.',\n 'yeah',\n ',',\n '’',\n 'right',\n ',',\n 'agreement',\n 'spend',\n 'our…',\n 'centre',\n 'gravity',\n 'units',\n 'kind',\n 'southern',\n 'side',\n 'map',\n ',',\n 'bottom',\n 'half',\n ',',\n 'centred',\n 'west',\n 'south',\n 'east',\n '?',\n 'bottom',\n 'half',\n '.',\n 'yeah',\n ',',\n 'think',\n '.',\n \"'m\",\n 'looking',\n 'wind',\n 'direction',\n ',',\n 'finding',\n \"n't\",\n 'change',\n '.',\n 'coming',\n 'west',\n '.',\n 'anything',\n 'west',\n 'newforest',\n ',',\n 'going',\n 'rip',\n 'towards',\n 'newtown',\n '.',\n 'newtown',\n 'oldtown',\n 'fairly',\n 'quickly',\n '.',\n 'alex',\n 'one',\n ',',\n 'think',\n '’',\n 'absolutely',\n 'right',\n '.',\n 'need',\n 'try',\n 'prevent',\n 'stop',\n 'anything',\n 'going',\n 'near',\n 'newforest',\n 'help',\n '.',\n 'need',\n 'push',\n 'bit',\n '.',\n 'need',\n 'firetruck_one',\n ',',\n 'firetruck_two',\n 'firetruck_three',\n 'two',\n 'three',\n 'minutes',\n '.',\n 'conscious',\n 'fire',\n 'might',\n 'spin',\n 'towards',\n 'swanton',\n 'well',\n '.',\n 'castleton',\n 'immediate',\n 'priority',\n 'switch',\n 'fire',\n 'swanton',\n '.',\n 'think',\n \"'ve\",\n 'done',\n \"'s\",\n 'made',\n 'massive',\n 'change',\n 'face',\n 'enemy',\n '.',\n 'winterfold',\n 'clear',\n '.',\n 'winterfold',\n 'clear',\n '.',\n 'two_pax',\n 'firetruck_',\n 'seven',\n 'castleton',\n '.',\n 'understood',\n '.',\n 'one_pax',\n 'current',\n 'location',\n 'firetruck_seven',\n '.',\n 'think',\n 'need',\n 'stop',\n 'chasing',\n '.',\n 'firetruck_one',\n 'firetruck_two',\n 'push',\n 'towards',\n 'swanton',\n '.',\n 'yeah',\n '.',\n 'copy',\n '.',\n 'coming',\n '.',\n \"'m\",\n 'resupplying',\n '.',\n \"'ll\",\n 'form',\n ',',\n 'carry',\n 'fighting',\n 'castleton',\n ',',\n \"'m\",\n 'going',\n 'go',\n 'east',\n 'swanton',\n 'try',\n 'put',\n 'barrier',\n 'protect',\n 'swanton',\n 'hanley',\n '.',\n 'filling',\n 'water',\n \"'s\",\n 'moment',\n '.',\n 'think',\n \"'re\",\n 'rather',\n 'next',\n '.',\n 'need',\n 'next',\n '.',\n 'yeah',\n ',',\n \"'re\",\n 'right',\n '.',\n 'refilling',\n '.',\n 'firetruck_four',\n ',',\n 'firetruck_five',\n ',',\n 'firetruck_six',\n 'let',\n \"'s\",\n 'try',\n 'form',\n 'baseline',\n 'protect',\n 'swanton',\n '.',\n 'firetruck_one',\n ',',\n 'firetruck_two',\n ',',\n 'firetruck_three',\n 'head',\n 'directly',\n 'east',\n 'stop',\n 'breckenhill',\n '.',\n 'ok',\n '.',\n 'firetruck_one',\n ',',\n 'firetruck_two',\n ',',\n 'firetruck_three',\n 'head',\n 'immediately',\n 'east',\n '.',\n 'vicinity',\n 'wyreforest',\n 'firetruck_four',\n ',',\n 'firetruck_five',\n ',',\n 'firetruck_six',\n 'let',\n \"'s\",\n 'form',\n 'baseline',\n 'swanton',\n '.',\n 'need',\n 'stop',\n 'getting',\n 'underwood',\n 'actually',\n \"'ve\",\n 'got',\n 'stop',\n 'whatever',\n 'village',\n '’',\n 'disappeared',\n '.',\n '.',\n 'yeah',\n '.',\n 'yes',\n ',',\n 'yeah',\n '.',\n 'right',\n '.',\n 'charlie',\n 'charlie',\n 'one',\n ',',\n 'need',\n 'stop',\n 'getting',\n 'woods',\n 'around',\n 'underwood',\n 'otherwise',\n 'spread',\n 'contain',\n '.',\n 'yeah',\n ',',\n \"'m\",\n 'putting',\n 'northwesterly',\n 'barrier',\n '.',\n \"n't\",\n 'forget',\n ',',\n 'goes',\n 'diagonals',\n '.',\n 'l_shaped',\n 'block',\n '.',\n 'moving',\n '.',\n '’',\n 'nearly',\n 'full',\n '.',\n '’',\n 'second',\n '.',\n 'alpha',\n 'move',\n 'one',\n 'cover',\n 'westernmost',\n ',',\n 'sorry',\n 'easternmost',\n 'fire',\n '.',\n '.',\n '’',\n 'say',\n 'standby',\n 'fire',\n 'lads',\n 'seems',\n 'getting',\n 'bit',\n 'quiet',\n '.',\n 'fire',\n '’',\n '.',\n 'relocating',\n 'assets',\n 'castlehill',\n '.',\n 'let',\n '’',\n 'quick',\n 'search',\n 'beaconhill',\n 'well',\n '.',\n \"n't\",\n 'think',\n \"'s\",\n 'cleared',\n 'yet',\n '.',\n 'quick',\n 'check',\n 'guys',\n ',',\n 'malton',\n 'clear',\n ',',\n 'right',\n 'car',\n 'park',\n '120_pax',\n ',',\n 'winterfold',\n 'clear',\n ',',\n 'trench',\n 'wood',\n 'clear',\n ',',\n 'castlehill',\n 'clear',\n 'castleton',\n 'clear',\n '.',\n 'need',\n 'check',\n 'underwood',\n ',',\n 'beaconhill',\n ',',\n 'hanley',\n ',',\n 'swanton',\n '.',\n '.',\n 'warning',\n 'fire',\n 'warning',\n 'juliet_24',\n ',',\n 'papa_delta_7',\n '.',\n 'puts',\n 'hanley',\n 'firing',\n 'line',\n '.',\n 'suggest',\n 'forming',\n 'block',\n 'north',\n 'wildwood',\n '.',\n '.',\n 'yep',\n '.',\n 'bringing',\n ',',\n 'firetruck_two',\n 'way',\n '.',\n 'charlie',\n 'charlie',\n 'one',\n ',',\n 'see',\n 'firetruck_one',\n ',',\n 'firetruck_four',\n 'firetruck_five',\n 'going',\n '.',\n '’',\n 'able',\n 'block',\n 'fire',\n ',',\n 'way',\n 'dealt',\n 'first',\n 'one',\n 'properly',\n 'able',\n 'stop',\n '.',\n ',',\n 'two',\n 'line',\n '24',\n 'either',\n 'side',\n 'stop',\n 'going',\n 'anywhere',\n '.',\n 'one',\n 'block',\n 'north',\n 'firetruck_six',\n 'firetruck_five',\n '.']"
     },
     "execution_count": 10,
     "metadata": {},
     "output_type": "execute_result"
    }
   ],
   "source": [
    "from nltk.corpus import stopwords\n",
    "\n",
    "# nltk.download('stopwords')\n",
    "\n",
    "stop_words = set(stopwords.words('english'))\n",
    "\n",
    "filtered_tokens = [word for word in tokens if word.lower() not in stop_words]\n",
    "\n",
    "filtered_tokens"
   ],
   "metadata": {
    "collapsed": false,
    "ExecuteTime": {
     "end_time": "2024-02-06T17:21:31.045156Z",
     "start_time": "2024-02-06T17:21:30.796175Z"
    }
   },
   "id": "11c4880c61f41c6b",
   "execution_count": 10
  },
  {
   "cell_type": "markdown",
   "source": [
    "Attempt at preprocessing:\n",
    "- Stemming\n",
    "- Lemmatisation"
   ],
   "metadata": {
    "collapsed": false
   },
   "id": "33c2c9bbe49aca48"
  },
  {
   "cell_type": "code",
   "outputs": [
    {
     "data": {
      "text/plain": "['alpha',\n 'you',\n \"'re\",\n 'loud_and_clear',\n '.',\n 'charli',\n '.',\n 'good',\n 'to',\n 'me',\n 'yeah',\n '.',\n 'charli',\n 'good',\n 'to',\n 'me',\n '.',\n 'over',\n 'you',\n \"'re\",\n 'loud_and_clear',\n '.',\n 'from',\n 'alpha',\n '.',\n 'splendid',\n '.',\n 'ok',\n ',',\n 'my',\n 'piec',\n 'of',\n 'news',\n 'is',\n 'all',\n 'about',\n 'the',\n 'lowtown',\n 'hospit',\n ',',\n 'that',\n \"'s\",\n 'in',\n 'grid',\n 'squar',\n 'november_30',\n '.',\n 'how',\n 'they',\n 'have',\n 'been',\n 'abl',\n 'to',\n 'save',\n 'the',\n 'hospit',\n '.',\n 'so',\n 'i',\n 'would',\n 'expect',\n 'it',\n 'to',\n 'be',\n 'lot',\n 'of',\n 'peopl',\n 'there',\n ',',\n 'potenti',\n '.',\n 'bravo',\n ',',\n 'i',\n '’',\n 've',\n 'some',\n 'irrelev',\n 'drivel',\n 'about',\n 'squirrel',\n 'in',\n 'firwood',\n '.',\n 'yeah',\n ',',\n 'i',\n \"'ve\",\n 'someth',\n 'about',\n 'steel',\n '.',\n 'probabl',\n 'given',\n 'it',\n 'to',\n 'me',\n 'becaus',\n 'i',\n \"'m\",\n 'northern',\n '.',\n 'but',\n 'again',\n ',',\n 'it',\n 'useless',\n '.',\n '5',\n 'minut',\n 'for',\n 'plan',\n '.',\n 'start',\n 'now',\n '.',\n 'ok',\n ',',\n 'so',\n 'i',\n 'think',\n 'the',\n 'grid',\n 'idea',\n 'from',\n 'alex',\n 'mark',\n 'one',\n 'is',\n 'a',\n 'good',\n 'idea',\n '.',\n 'that',\n 'leav',\n 'you',\n ',',\n 'alex',\n 'two',\n ',',\n 'with',\n 'your',\n 'firetruck_six',\n 'that',\n 'you',\n 'can',\n 'then',\n 'go',\n 'either',\n 'side',\n 'of',\n 'that',\n 'barrier',\n 'line',\n 'depend',\n 'on',\n 'where',\n 'you',\n 'feel',\n 'the',\n 'biggest',\n 'threat',\n 'is',\n 'or',\n 'where',\n 'the',\n 'peopl',\n 'are',\n '.',\n 'i',\n 'assum',\n 'alex',\n 'one',\n 'you',\n '’',\n 'll',\n 'take',\n 'firetruck',\n '_seven',\n 'and',\n 'firetruck',\n '_eight',\n 'for',\n 'replenish',\n 'into',\n 'a',\n 'posit',\n 'that',\n 'will',\n 'best',\n 'serv',\n 'serv',\n 'all',\n 'of',\n 'that',\n '.',\n 'i',\n \"'m\",\n 'start',\n 'on',\n '40',\n ',',\n 'then',\n '.',\n 'just',\n 'confirm',\n 'firetruck_four',\n ',',\n 'firetruck_f',\n ',',\n 'and',\n 'firetruck_six',\n 'you',\n \"'ve\",\n 'got',\n '40',\n 'capac',\n '?',\n 'that',\n 'leav',\n 'you',\n ',',\n 'alex',\n 'two',\n ',',\n 'with',\n 'your',\n 'firetruck_six',\n 'that',\n 'you',\n 'can',\n 'then',\n 'go',\n 'either',\n 'side',\n 'of',\n 'that',\n 'barrier',\n 'line',\n 'depend',\n 'on',\n 'where',\n 'you',\n 'feel',\n 'the',\n 'biggest',\n 'threat',\n 'is',\n 'or',\n 'where',\n 'the',\n 'peopl',\n 'are',\n '.',\n 'i',\n 'assum',\n 'alex',\n 'one',\n 'you',\n '’',\n 'll',\n 'take',\n 'firetruck',\n '_seven',\n 'and',\n 'firetruck',\n '_eight',\n 'for',\n 'replenish',\n 'into',\n 'a',\n 'posit',\n 'that',\n 'will',\n 'best',\n 'serv',\n 'serv',\n 'all',\n 'of',\n 'that',\n '.',\n 'i',\n \"'m\",\n 'start',\n 'on',\n '40',\n ',',\n 'then',\n '.',\n 'fulli',\n 'load',\n '.',\n 'yeah',\n ',',\n 'i',\n \"'m\",\n 'on',\n '40',\n 'as',\n 'well',\n '.',\n 'ok',\n 'hello',\n '.',\n 'all',\n 'station',\n 'thi',\n 'is',\n 'addit',\n 'inform',\n '.',\n 'in',\n 'thi',\n 'context',\n ',',\n 'you',\n \"'ll\",\n 'be',\n 'see',\n 'the',\n 'map',\n 'in',\n 'unit',\n 'onli',\n 'view',\n '.',\n 'as',\n 'in',\n 'the',\n 'last',\n 'practis',\n '.',\n 'ye',\n '.',\n 'roger',\n 'just',\n 'done',\n 'a',\n 'quick',\n 'ipb',\n '.',\n 'clearli',\n 'we',\n \"'ve\",\n 'westhil',\n 'and',\n 'easterli',\n 'interspers',\n 'with',\n 'wood',\n 'block',\n '.',\n 'so',\n ',',\n 'ani',\n 'kind',\n 'of',\n 'fire',\n 'there',\n 'is',\n 'like',\n 'to',\n 'rapidli',\n 'spread',\n 'given',\n 'the',\n 'wind',\n 'direct',\n '.',\n 'i',\n \"'m\",\n 'also',\n 'note',\n 'where',\n 'the',\n 'two',\n 'drop-off',\n 'point',\n 'are',\n ',',\n 'they',\n \"'re\",\n 'quit',\n 'disloc',\n 'from',\n 'centr',\n 'of',\n 'graviti',\n '.',\n 'the',\n 'next',\n 'area',\n 'of',\n 'concern',\n 'would',\n 'be',\n 'toward',\n 'the',\n 'south',\n 'east',\n 'to',\n 'the',\n 'newforest',\n 'region',\n 'as',\n 'well',\n '.',\n 'given',\n 'that',\n 'that',\n 'is',\n 'three',\n 'time',\n 'more',\n 'like',\n 'to',\n 'burn',\n '.',\n 'so',\n 'i',\n 'suspect',\n 'the',\n 'earlier',\n 'stage',\n 'of',\n 'thi',\n 'oper',\n ',',\n 'i',\n \"'ll\",\n 'go',\n 'to',\n 'newforest',\n 'into',\n 'the',\n 'newtown',\n 'area',\n 'with',\n 'one',\n 'of',\n 'my',\n 'vehicl',\n 'and',\n 'easterli',\n 'with',\n 'anoth',\n 'one',\n 'of',\n 'my',\n 'vehicl',\n '.',\n 'check',\n '?',\n 'great',\n '.',\n 'ok.',\n 'roger',\n '.',\n 'yeah',\n ',',\n 'make',\n 'sens',\n '.',\n 'roger',\n '.',\n 'in',\n 'addit',\n 'to',\n 'that',\n ',',\n 'i',\n 'think',\n 'if',\n 'we',\n 'can',\n 'avoid',\n ',',\n 'depend',\n 'on',\n 'where',\n 'the',\n 'fire',\n 'start',\n ',',\n 'but',\n 'let',\n \"'s\",\n 'it',\n 'start',\n 'west',\n 'of',\n 'the',\n 'newforest',\n ',',\n 'we',\n 'can',\n 'avoid',\n 'it',\n ',',\n 'if',\n 'we',\n 'can',\n 'prevent',\n ',',\n 'put',\n 'a',\n 'block',\n 'in',\n 'befor',\n 'newforest',\n 'get',\n 'hit',\n ',',\n 'that',\n \"'ll\",\n 'save',\n 'a',\n 'lot',\n 'of',\n 'a',\n 'lot',\n 'of',\n 'grief',\n '.',\n 'yeah',\n 'i',\n 'agre',\n 'and',\n 'if',\n 'we',\n 'have',\n 'to',\n 'accept',\n 'and',\n 'if',\n 'we',\n 'ca',\n \"n't\",\n 'do',\n 'that',\n 'we',\n 'have',\n 'to',\n 'accept',\n 'newforest',\n 'is',\n 'burnt',\n ',',\n 'then',\n 'we',\n \"'ll\",\n 'just',\n 'have',\n 'to',\n 'go',\n 'hard',\n 'down',\n 'the',\n 'alpha_india',\n 'line',\n '.',\n 'true',\n ',',\n 'but',\n 'if',\n 'that',\n ',',\n 'i',\n 'mean',\n 'what',\n 'i',\n \"'m\",\n 'say',\n 'is',\n 'we',\n 'ca',\n \"n't\",\n 'let',\n 'newforest',\n 'hit',\n 'becaus',\n 'if',\n 'it',\n 'doe',\n 'that',\n 'the',\n 'fire',\n 'will',\n 'be',\n 'uncontrol',\n 'in',\n 'that',\n 'forest',\n 'and',\n 'it',\n 'will',\n 'come',\n 'out',\n 'the',\n 'other',\n 'side',\n 'all',\n 'the',\n 'way',\n 'from',\n '26',\n 'down',\n 'to',\n '36',\n '.',\n 'which',\n 'mean',\n 'oldtown',\n 'and',\n 'newtown',\n 'will',\n 'be',\n 'bugger',\n '.',\n 'that',\n '’',\n 's',\n 'accept',\n 'middl',\n 'town',\n '.',\n 'yeah',\n ',',\n 'that',\n '’',\n 's',\n 'true',\n '.',\n 'yep',\n '.',\n 'yeah',\n 'ok.',\n 'yeah',\n ',',\n 'you',\n '’',\n 're',\n 'right',\n 'so',\n ',',\n 'are',\n 'we',\n 'in',\n 'agreement',\n 'to',\n 'spend',\n 'most',\n 'of',\n 'our…',\n 'centr',\n 'of',\n 'graviti',\n 'of',\n 'our',\n 'unit',\n 'to',\n 'kind',\n 'of',\n 'the',\n 'southern',\n 'side',\n 'of',\n 'the',\n 'map',\n ',',\n 'so',\n 'in',\n 'bottom',\n 'half',\n ',',\n 'centr',\n 'some',\n 'of',\n 'the',\n 'west',\n 'and',\n 'some',\n 'on',\n 'the',\n 'south',\n 'east',\n '?',\n 'so',\n 'on',\n 'the',\n 'bottom',\n 'half',\n '.',\n 'yeah',\n ',',\n 'i',\n 'think',\n 'so',\n '.',\n 'i',\n \"'m\",\n 'look',\n 'at',\n 'the',\n 'wind',\n 'direct',\n ',',\n 'find',\n 'that',\n 'doe',\n \"n't\",\n 'chang',\n '.',\n 'it',\n 'wa',\n 'come',\n 'from',\n 'the',\n 'west',\n '.',\n 'then',\n 'anyth',\n 'to',\n 'the',\n 'west',\n 'of',\n 'newforest',\n ',',\n 'it',\n 'go',\n 'to',\n 'rip',\n 'through',\n 'in',\n 'toward',\n 'newtown',\n '.',\n 'newtown',\n 'and',\n 'oldtown',\n 'fairli',\n 'quickli',\n '.',\n 'so',\n 'alex',\n 'one',\n ',',\n 'i',\n 'think',\n 'you',\n '’',\n 're',\n 'absolut',\n 'right',\n '.',\n 'we',\n 'need',\n 'to',\n 'tri',\n 'and',\n 'prevent',\n 'or',\n 'stop',\n 'anyth',\n 'go',\n 'near',\n 'the',\n 'newforest',\n 'if',\n 'we',\n 'can',\n 'help',\n 'it',\n '.',\n 'so',\n 'we',\n 'need',\n 'to',\n 'push',\n 'thi',\n 'on',\n 'a',\n 'bit',\n '.',\n 'i',\n 'need',\n 'firetruck_on',\n ',',\n 'firetruck_two',\n 'and',\n 'firetruck_thre',\n 'for',\n 'about',\n 'two',\n 'or',\n 'three',\n 'minut',\n '.',\n 'just',\n 'consciou',\n 'that',\n 'fire',\n 'might',\n 'spin',\n 'in',\n 'toward',\n 'swanton',\n 'as',\n 'well',\n '.',\n 'so',\n 'castleton',\n 'immedi',\n 'prioriti',\n 'and',\n 'then',\n 'switch',\n 'fire',\n 'to',\n 'swanton',\n '.',\n 'i',\n 'think',\n 'what',\n 'we',\n \"'ve\",\n 'done',\n 'it',\n \"'s\",\n 'made',\n 'a',\n 'massiv',\n 'chang',\n 'in',\n 'the',\n 'face',\n 'of',\n 'the',\n 'enemi',\n '.',\n 'winterfold',\n 'is',\n 'clear',\n '.',\n 'winterfold',\n 'is',\n 'clear',\n '.',\n 'two_pax',\n 'at',\n 'firetruck_',\n 'seven',\n 'in',\n 'castleton',\n '.',\n 'understood',\n '.',\n 'one_pax',\n 'at',\n 'current',\n 'locat',\n 'of',\n 'firetruck_seven',\n '.',\n 'i',\n 'think',\n 'we',\n 'need',\n 'to',\n 'stop',\n 'chase',\n '.',\n 'firetruck_on',\n 'and',\n 'firetruck_two',\n 'should',\n 'push',\n 'down',\n 'toward',\n 'swanton',\n '.',\n 'yeah',\n '.',\n 'copi',\n 'that',\n '.',\n 'come',\n 'down',\n 'now',\n '.',\n 'i',\n \"'m\",\n 'just',\n 'resuppli',\n '.',\n 'i',\n \"'ll\",\n 'form',\n 'a',\n ',',\n 'if',\n 'you',\n 'carri',\n 'on',\n 'fight',\n 'where',\n 'you',\n 'at',\n 'castleton',\n ',',\n 'i',\n \"'m\",\n 'go',\n 'to',\n 'go',\n 'down',\n 'to',\n 'the',\n 'east',\n 'of',\n 'swanton',\n 'and',\n 'tri',\n 'and',\n 'put',\n 'a',\n 'barrier',\n 'up',\n 'against',\n 'it',\n 'to',\n 'protect',\n 'swanton',\n 'and',\n 'hanley',\n '.',\n 'i',\n 'should',\n 'be',\n 'fill',\n 'up',\n 'with',\n 'the',\n 'water',\n 'but',\n 'it',\n \"'s\",\n 'not',\n 'the',\n 'moment',\n '.',\n 'i',\n 'think',\n 'you',\n \"'re\",\n 'on',\n 'it',\n 'rather',\n 'next',\n 'to',\n 'it',\n '.',\n 'you',\n 'need',\n 'to',\n 'be',\n 'next',\n 'to',\n 'it',\n '.',\n 'yeah',\n ',',\n 'you',\n \"'re\",\n 'right',\n '.',\n 'refil',\n 'now',\n '.',\n 'so',\n 'firetruck_four',\n ',',\n 'firetruck_f',\n ',',\n 'and',\n 'firetruck_six',\n 'let',\n \"'s\",\n 'tri',\n 'and',\n 'form',\n 'a',\n 'baselin',\n 'to',\n 'protect',\n 'swanton',\n '.',\n 'and',\n 'then',\n 'firetruck_on',\n ...]"
     },
     "execution_count": 11,
     "metadata": {},
     "output_type": "execute_result"
    }
   ],
   "source": [
    "# nltk.download('wordnet')\n",
    "\n",
    "# Stemming\n",
    "stemmer = PorterStemmer()\n",
    "stemmed_tokens = [stemmer.stem(word) for word in tokens]\n",
    "\n",
    "stemmed_tokens"
   ],
   "metadata": {
    "collapsed": false,
    "ExecuteTime": {
     "end_time": "2024-02-06T17:21:31.047646Z",
     "start_time": "2024-02-06T17:21:30.848067Z"
    }
   },
   "id": "3ab65559dfd68e37",
   "execution_count": 11
  },
  {
   "cell_type": "code",
   "outputs": [
    {
     "data": {
      "text/plain": "['alpha',\n 'you',\n \"'re\",\n 'loud_and_clear',\n '.',\n 'charlie',\n '.',\n 'good',\n 'to',\n 'me',\n 'yeah',\n '.',\n 'charlie',\n 'good',\n 'to',\n 'me',\n '.',\n 'over',\n 'you',\n \"'re\",\n 'loud_and_clear',\n '.',\n 'from',\n 'alpha',\n '.',\n 'splendid',\n '.',\n 'ok',\n ',',\n 'my',\n 'piece',\n 'of',\n 'news',\n 'is',\n 'all',\n 'about',\n 'the',\n 'lowtown',\n 'hospital',\n ',',\n 'that',\n \"'s\",\n 'in',\n 'grid',\n 'square',\n 'november_30',\n '.',\n 'how',\n 'they',\n 'have',\n 'been',\n 'able',\n 'to',\n 'save',\n 'the',\n 'hospital',\n '.',\n 'so',\n 'i',\n 'would',\n 'expect',\n 'it',\n 'to',\n 'be',\n 'lot',\n 'of',\n 'people',\n 'there',\n ',',\n 'potentially',\n '.',\n 'bravo',\n ',',\n 'i',\n '’',\n 've',\n 'some',\n 'irrelevant',\n 'drivel',\n 'about',\n 'squirrel',\n 'in',\n 'firwood',\n '.',\n 'yeah',\n ',',\n 'i',\n \"'ve\",\n 'something',\n 'about',\n 'steel',\n '.',\n 'probably',\n 'given',\n 'it',\n 'to',\n 'me',\n 'because',\n 'i',\n \"'m\",\n 'northern',\n '.',\n 'but',\n 'again',\n ',',\n 'it',\n 'useless',\n '.',\n '5',\n 'minute',\n 'for',\n 'planning',\n '.',\n 'starting',\n 'now',\n '.',\n 'ok',\n ',',\n 'so',\n 'i',\n 'think',\n 'the',\n 'grid',\n 'idea',\n 'from',\n 'alex',\n 'mark',\n 'one',\n 'is',\n 'a',\n 'good',\n 'idea',\n '.',\n 'that',\n 'leaf',\n 'you',\n ',',\n 'alex',\n 'two',\n ',',\n 'with',\n 'your',\n 'firetruck_six',\n 'that',\n 'you',\n 'can',\n 'then',\n 'go',\n 'either',\n 'side',\n 'of',\n 'that',\n 'barrier',\n 'line',\n 'depending',\n 'on',\n 'where',\n 'you',\n 'feel',\n 'the',\n 'biggest',\n 'threat',\n 'is',\n 'or',\n 'where',\n 'the',\n 'people',\n 'are',\n '.',\n 'i',\n 'assume',\n 'alex',\n 'one',\n 'you',\n '’',\n 'll',\n 'take',\n 'firetruck',\n '_seven',\n 'and',\n 'firetruck',\n '_eight',\n 'for',\n 'replenishment',\n 'into',\n 'a',\n 'position',\n 'that',\n 'will',\n 'best',\n 'serve',\n 'serve',\n 'all',\n 'of',\n 'that',\n '.',\n 'i',\n \"'m\",\n 'starting',\n 'on',\n '40',\n ',',\n 'then',\n '.',\n 'just',\n 'confirm',\n 'firetruck_four',\n ',',\n 'firetruck_five',\n ',',\n 'and',\n 'firetruck_six',\n 'you',\n \"'ve\",\n 'got',\n '40',\n 'capacity',\n '?',\n 'that',\n 'leaf',\n 'you',\n ',',\n 'alex',\n 'two',\n ',',\n 'with',\n 'your',\n 'firetruck_six',\n 'that',\n 'you',\n 'can',\n 'then',\n 'go',\n 'either',\n 'side',\n 'of',\n 'that',\n 'barrier',\n 'line',\n 'depending',\n 'on',\n 'where',\n 'you',\n 'feel',\n 'the',\n 'biggest',\n 'threat',\n 'is',\n 'or',\n 'where',\n 'the',\n 'people',\n 'are',\n '.',\n 'i',\n 'assume',\n 'alex',\n 'one',\n 'you',\n '’',\n 'll',\n 'take',\n 'firetruck',\n '_seven',\n 'and',\n 'firetruck',\n '_eight',\n 'for',\n 'replenishment',\n 'into',\n 'a',\n 'position',\n 'that',\n 'will',\n 'best',\n 'serve',\n 'serve',\n 'all',\n 'of',\n 'that',\n '.',\n 'i',\n \"'m\",\n 'starting',\n 'on',\n '40',\n ',',\n 'then',\n '.',\n 'fully',\n 'loaded',\n '.',\n 'yeah',\n ',',\n 'i',\n \"'m\",\n 'on',\n '40',\n 'a',\n 'well',\n '.',\n 'ok',\n 'hello',\n '.',\n 'all',\n 'station',\n 'this',\n 'is',\n 'additional',\n 'information',\n '.',\n 'in',\n 'this',\n 'context',\n ',',\n 'you',\n \"'ll\",\n 'be',\n 'seeing',\n 'the',\n 'map',\n 'in',\n 'unit',\n 'only',\n 'view',\n '.',\n 'a',\n 'in',\n 'the',\n 'last',\n 'practise',\n '.',\n 'yes',\n '.',\n 'roger',\n 'just',\n 'done',\n 'a',\n 'quick',\n 'ipb',\n '.',\n 'clearly',\n 'we',\n \"'ve\",\n 'westhill',\n 'and',\n 'easterly',\n 'interspersed',\n 'with',\n 'wood',\n 'block',\n '.',\n 'so',\n ',',\n 'any',\n 'kind',\n 'of',\n 'fire',\n 'there',\n 'is',\n 'likely',\n 'to',\n 'rapidly',\n 'spread',\n 'given',\n 'the',\n 'wind',\n 'direction',\n '.',\n 'i',\n \"'m\",\n 'also',\n 'noting',\n 'where',\n 'the',\n 'two',\n 'drop-off',\n 'point',\n 'are',\n ',',\n 'they',\n \"'re\",\n 'quite',\n 'dislocated',\n 'from',\n 'centre',\n 'of',\n 'gravity',\n '.',\n 'the',\n 'next',\n 'area',\n 'of',\n 'concern',\n 'would',\n 'be',\n 'towards',\n 'the',\n 'south',\n 'east',\n 'to',\n 'the',\n 'newforest',\n 'region',\n 'a',\n 'well',\n '.',\n 'given',\n 'that',\n 'that',\n 'is',\n 'three',\n 'time',\n 'more',\n 'likely',\n 'to',\n 'burn',\n '.',\n 'so',\n 'i',\n 'suspect',\n 'the',\n 'earlier',\n 'stage',\n 'of',\n 'this',\n 'operation',\n ',',\n 'i',\n \"'ll\",\n 'go',\n 'to',\n 'newforest',\n 'into',\n 'the',\n 'newtown',\n 'area',\n 'with',\n 'one',\n 'of',\n 'my',\n 'vehicle',\n 'and',\n 'easterly',\n 'with',\n 'another',\n 'one',\n 'of',\n 'my',\n 'vehicle',\n '.',\n 'check',\n '?',\n 'great',\n '.',\n 'ok.',\n 'roger',\n '.',\n 'yeah',\n ',',\n 'make',\n 'sense',\n '.',\n 'roger',\n '.',\n 'in',\n 'addition',\n 'to',\n 'that',\n ',',\n 'i',\n 'think',\n 'if',\n 'we',\n 'can',\n 'avoid',\n ',',\n 'depending',\n 'on',\n 'where',\n 'the',\n 'fire',\n 'start',\n ',',\n 'but',\n 'let',\n \"'s\",\n 'it',\n 'start',\n 'west',\n 'of',\n 'the',\n 'newforest',\n ',',\n 'we',\n 'can',\n 'avoid',\n 'it',\n ',',\n 'if',\n 'we',\n 'can',\n 'prevent',\n ',',\n 'put',\n 'a',\n 'block',\n 'in',\n 'before',\n 'newforest',\n 'get',\n 'hit',\n ',',\n 'that',\n \"'ll\",\n 'save',\n 'a',\n 'lot',\n 'of',\n 'a',\n 'lot',\n 'of',\n 'grief',\n '.',\n 'yeah',\n 'i',\n 'agree',\n 'and',\n 'if',\n 'we',\n 'have',\n 'to',\n 'accept',\n 'and',\n 'if',\n 'we',\n 'ca',\n \"n't\",\n 'do',\n 'that',\n 'we',\n 'have',\n 'to',\n 'accept',\n 'newforest',\n 'is',\n 'burnt',\n ',',\n 'then',\n 'we',\n \"'ll\",\n 'just',\n 'have',\n 'to',\n 'go',\n 'hard',\n 'down',\n 'the',\n 'alpha_india',\n 'line',\n '.',\n 'true',\n ',',\n 'but',\n 'if',\n 'that',\n ',',\n 'i',\n 'mean',\n 'what',\n 'i',\n \"'m\",\n 'saying',\n 'is',\n 'we',\n 'ca',\n \"n't\",\n 'let',\n 'newforest',\n 'hit',\n 'because',\n 'if',\n 'it',\n 'doe',\n 'that',\n 'the',\n 'fire',\n 'will',\n 'be',\n 'uncontrollable',\n 'in',\n 'that',\n 'forest',\n 'and',\n 'it',\n 'will',\n 'come',\n 'out',\n 'the',\n 'other',\n 'side',\n 'all',\n 'the',\n 'way',\n 'from',\n '26',\n 'down',\n 'to',\n '36',\n '.',\n 'which',\n 'mean',\n 'oldtown',\n 'and',\n 'newtown',\n 'will',\n 'be',\n 'buggered',\n '.',\n 'that',\n '’',\n 's',\n 'accepting',\n 'middle',\n 'town',\n '.',\n 'yeah',\n ',',\n 'that',\n '’',\n 's',\n 'true',\n '.',\n 'yep',\n '.',\n 'yeah',\n 'ok.',\n 'yeah',\n ',',\n 'you',\n '’',\n 're',\n 'right',\n 'so',\n ',',\n 'are',\n 'we',\n 'in',\n 'agreement',\n 'to',\n 'spend',\n 'most',\n 'of',\n 'our…',\n 'centre',\n 'of',\n 'gravity',\n 'of',\n 'our',\n 'unit',\n 'to',\n 'kind',\n 'of',\n 'the',\n 'southern',\n 'side',\n 'of',\n 'the',\n 'map',\n ',',\n 'so',\n 'in',\n 'bottom',\n 'half',\n ',',\n 'centred',\n 'some',\n 'of',\n 'the',\n 'west',\n 'and',\n 'some',\n 'on',\n 'the',\n 'south',\n 'east',\n '?',\n 'so',\n 'on',\n 'the',\n 'bottom',\n 'half',\n '.',\n 'yeah',\n ',',\n 'i',\n 'think',\n 'so',\n '.',\n 'i',\n \"'m\",\n 'looking',\n 'at',\n 'the',\n 'wind',\n 'direction',\n ',',\n 'finding',\n 'that',\n 'doe',\n \"n't\",\n 'change',\n '.',\n 'it',\n 'wa',\n 'coming',\n 'from',\n 'the',\n 'west',\n '.',\n 'then',\n 'anything',\n 'to',\n 'the',\n 'west',\n 'of',\n 'newforest',\n ',',\n 'it',\n 'going',\n 'to',\n 'rip',\n 'through',\n 'in',\n 'towards',\n 'newtown',\n '.',\n 'newtown',\n 'and',\n 'oldtown',\n 'fairly',\n 'quickly',\n '.',\n 'so',\n 'alex',\n 'one',\n ',',\n 'i',\n 'think',\n 'you',\n '’',\n 're',\n 'absolutely',\n 'right',\n '.',\n 'we',\n 'need',\n 'to',\n 'try',\n 'and',\n 'prevent',\n 'or',\n 'stop',\n 'anything',\n 'going',\n 'near',\n 'the',\n 'newforest',\n 'if',\n 'we',\n 'can',\n 'help',\n 'it',\n '.',\n 'so',\n 'we',\n 'need',\n 'to',\n 'push',\n 'this',\n 'on',\n 'a',\n 'bit',\n '.',\n 'i',\n 'need',\n 'firetruck_one',\n ',',\n 'firetruck_two',\n 'and',\n 'firetruck_three',\n 'for',\n 'about',\n 'two',\n 'or',\n 'three',\n 'minute',\n '.',\n 'just',\n 'conscious',\n 'that',\n 'fire',\n 'might',\n 'spin',\n 'in',\n 'towards',\n 'swanton',\n 'a',\n 'well',\n '.',\n 'so',\n 'castleton',\n 'immediate',\n 'priority',\n 'and',\n 'then',\n 'switch',\n 'fire',\n 'to',\n 'swanton',\n '.',\n 'i',\n 'think',\n 'what',\n 'we',\n \"'ve\",\n 'done',\n 'it',\n \"'s\",\n 'made',\n 'a',\n 'massive',\n 'change',\n 'in',\n 'the',\n 'face',\n 'of',\n 'the',\n 'enemy',\n '.',\n 'winterfold',\n 'is',\n 'clear',\n '.',\n 'winterfold',\n 'is',\n 'clear',\n '.',\n 'two_pax',\n 'at',\n 'firetruck_',\n 'seven',\n 'in',\n 'castleton',\n '.',\n 'understood',\n '.',\n 'one_pax',\n 'at',\n 'current',\n 'location',\n 'of',\n 'firetruck_seven',\n '.',\n 'i',\n 'think',\n 'we',\n 'need',\n 'to',\n 'stop',\n 'chasing',\n '.',\n 'firetruck_one',\n 'and',\n 'firetruck_two',\n 'should',\n 'push',\n 'down',\n 'towards',\n 'swanton',\n '.',\n 'yeah',\n '.',\n 'copy',\n 'that',\n '.',\n 'coming',\n 'down',\n 'now',\n '.',\n 'i',\n \"'m\",\n 'just',\n 'resupplying',\n '.',\n 'i',\n \"'ll\",\n 'form',\n 'a',\n ',',\n 'if',\n 'you',\n 'carry',\n 'on',\n 'fighting',\n 'where',\n 'you',\n 'at',\n 'castleton',\n ',',\n 'i',\n \"'m\",\n 'going',\n 'to',\n 'go',\n 'down',\n 'to',\n 'the',\n 'east',\n 'of',\n 'swanton',\n 'and',\n 'try',\n 'and',\n 'put',\n 'a',\n 'barrier',\n 'up',\n 'against',\n 'it',\n 'to',\n 'protect',\n 'swanton',\n 'and',\n 'hanley',\n '.',\n 'i',\n 'should',\n 'be',\n 'filling',\n 'up',\n 'with',\n 'the',\n 'water',\n 'but',\n 'it',\n \"'s\",\n 'not',\n 'the',\n 'moment',\n '.',\n 'i',\n 'think',\n 'you',\n \"'re\",\n 'on',\n 'it',\n 'rather',\n 'next',\n 'to',\n 'it',\n '.',\n 'you',\n 'need',\n 'to',\n 'be',\n 'next',\n 'to',\n 'it',\n '.',\n 'yeah',\n ',',\n 'you',\n \"'re\",\n 'right',\n '.',\n 'refilling',\n 'now',\n '.',\n 'so',\n 'firetruck_four',\n ',',\n 'firetruck_five',\n ',',\n 'and',\n 'firetruck_six',\n 'let',\n \"'s\",\n 'try',\n 'and',\n 'form',\n 'a',\n 'baseline',\n 'to',\n 'protect',\n 'swanton',\n '.',\n 'and',\n 'then',\n 'firetruck_one',\n ...]"
     },
     "execution_count": 12,
     "metadata": {},
     "output_type": "execute_result"
    }
   ],
   "source": [
    "# Lemmatization\n",
    "lemmatizer = WordNetLemmatizer()\n",
    "lemmatized_tokens = [lemmatizer.lemmatize(word) for word in tokens]\n",
    "\n",
    "lemmatized_tokens"
   ],
   "metadata": {
    "collapsed": false,
    "ExecuteTime": {
     "end_time": "2024-02-06T17:21:32.404453Z",
     "start_time": "2024-02-06T17:21:30.858159Z"
    }
   },
   "id": "1e05a47855f5a166",
   "execution_count": 12
  },
  {
   "cell_type": "code",
   "outputs": [
    {
     "data": {
      "text/plain": "['This is a sample sentence.', 'And here is another one.']"
     },
     "execution_count": 13,
     "metadata": {},
     "output_type": "execute_result"
    }
   ],
   "source": [
    "# Sample text\n",
    "text = \"This is a sample sentence. And here is another one.\"\n",
    "\n",
    "# Split into sentences\n",
    "test_sentences = sent_tokenize(text)\n",
    "\n",
    "test_sentences"
   ],
   "metadata": {
    "collapsed": false,
    "ExecuteTime": {
     "end_time": "2024-02-06T17:21:32.405970Z",
     "start_time": "2024-02-06T17:21:32.393660Z"
    }
   },
   "id": "b0834ae32a90d61a",
   "execution_count": 13
  },
  {
   "cell_type": "code",
   "outputs": [
    {
     "data": {
      "text/plain": "[['This', 'is', 'a', 'sample', 'sentence', '.'],\n ['And', 'here', 'is', 'another', 'one', '.']]"
     },
     "execution_count": 14,
     "metadata": {},
     "output_type": "execute_result"
    }
   ],
   "source": [
    "tokenized_sentences = [word_tokenize(sentence) for sentence in test_sentences]\n",
    "\n",
    "tokenized_sentences"
   ],
   "metadata": {
    "collapsed": false,
    "ExecuteTime": {
     "end_time": "2024-02-06T17:21:32.410423Z",
     "start_time": "2024-02-06T17:21:32.405782Z"
    }
   },
   "id": "c9dd20a114ff0eab",
   "execution_count": 14
  },
  {
   "cell_type": "code",
   "outputs": [],
   "source": [],
   "metadata": {
    "collapsed": false,
    "ExecuteTime": {
     "end_time": "2024-02-06T17:21:32.478965Z",
     "start_time": "2024-02-06T17:21:32.411204Z"
    }
   },
   "id": "5f0488ef7ca0b3b9",
   "execution_count": 14
  }
 ],
 "metadata": {
  "kernelspec": {
   "display_name": "Python 3",
   "language": "python",
   "name": "python3"
  },
  "language_info": {
   "codemirror_mode": {
    "name": "ipython",
    "version": 2
   },
   "file_extension": ".py",
   "mimetype": "text/x-python",
   "name": "python",
   "nbconvert_exporter": "python",
   "pygments_lexer": "ipython2",
   "version": "2.7.6"
  }
 },
 "nbformat": 4,
 "nbformat_minor": 5
}
