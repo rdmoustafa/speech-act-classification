{
 "cells": [
  {
   "cell_type": "markdown",
   "source": [
    "### Support Vector Machines\n",
    "Using a support vector machine to classify data based on the speech act"
   ],
   "metadata": {
    "collapsed": false
   },
   "id": "87f871e05af36c7d"
  },
  {
   "cell_type": "code",
   "outputs": [],
   "source": [
    "import torch\n",
    "import torch.nn as nn\n",
    "import torch.optim as optim\n",
    "from sklearn.feature_extraction.text import CountVectorizer"
   ],
   "metadata": {
    "collapsed": true,
    "ExecuteTime": {
     "end_time": "2024-02-10T17:37:40.215673Z",
     "start_time": "2024-02-10T17:37:40.140660Z"
    }
   },
   "id": "initial_id",
   "execution_count": 66
  },
  {
   "cell_type": "markdown",
   "source": [
    "Generating the sentences and labels from the Excel sheet"
   ],
   "metadata": {
    "collapsed": false
   },
   "id": "b4d37c3a49d99afb"
  },
  {
   "cell_type": "code",
   "outputs": [],
   "source": [
    "# from preprocessing import get_sentences_labels\n",
    "\n",
    "# file_path = \"data/divided_data.xlsx\"\n",
    "\n",
    "# sentences, labels = get_sentences_labels(file_path)"
   ],
   "metadata": {
    "collapsed": false,
    "ExecuteTime": {
     "end_time": "2024-02-10T17:37:40.241394Z",
     "start_time": "2024-02-10T17:37:40.220092Z"
    }
   },
   "id": "a45df1543cdc221a",
   "execution_count": 67
  },
  {
   "cell_type": "code",
   "outputs": [
    {
     "name": "stdout",
     "output_type": "stream",
     "text": [
      "Data has been written to data/labeled_sentences.csv\n"
     ]
    }
   ],
   "source": [
    "from label_regex import label_csv\n",
    "\n",
    "labeled_sentences = label_csv(\"data/MainExpTranscriptFullSMAQPER.csv\")\n",
    "\n",
    "sentences = []\n",
    "labels = []\n",
    "for sentence, label in labeled_sentences:\n",
    "    sentences.append(sentence)\n",
    "    labels.append(label)"
   ],
   "metadata": {
    "collapsed": false,
    "ExecuteTime": {
     "end_time": "2024-02-10T17:37:40.398857Z",
     "start_time": "2024-02-10T17:37:40.228137Z"
    }
   },
   "id": "14aeea19a16d066d",
   "execution_count": 68
  },
  {
   "cell_type": "markdown",
   "source": [
    "## Preprocessing\n",
    "Vectorising the data"
   ],
   "metadata": {
    "collapsed": false
   },
   "id": "769e7a6349ab9aee"
  },
  {
   "cell_type": "code",
   "outputs": [],
   "source": [
    "vectorizer = CountVectorizer()\n",
    "X = vectorizer.fit_transform(sentences)\n",
    "y = labels"
   ],
   "metadata": {
    "collapsed": false,
    "ExecuteTime": {
     "end_time": "2024-02-10T17:37:40.535266Z",
     "start_time": "2024-02-10T17:37:40.399434Z"
    }
   },
   "id": "46c9a5c6479f72d7",
   "execution_count": 69
  },
  {
   "cell_type": "markdown",
   "source": [
    "Encode the labels"
   ],
   "metadata": {
    "collapsed": false
   },
   "id": "305273d1672bc37e"
  },
  {
   "cell_type": "code",
   "outputs": [],
   "source": [
    "from sklearn.preprocessing import LabelEncoder\n",
    "\n",
    "label_encoder = LabelEncoder()\n",
    "y_encoded = label_encoder.fit_transform(labels)"
   ],
   "metadata": {
    "collapsed": false,
    "ExecuteTime": {
     "end_time": "2024-02-10T17:37:40.548958Z",
     "start_time": "2024-02-10T17:37:40.539605Z"
    }
   },
   "id": "3bb0c44bb09a0757",
   "execution_count": 70
  },
  {
   "cell_type": "markdown",
   "source": [
    "Convert to tensors"
   ],
   "metadata": {
    "collapsed": false
   },
   "id": "8efefb522af0ec20"
  },
  {
   "cell_type": "code",
   "outputs": [],
   "source": [
    "X = torch.tensor(X.toarray(), dtype=torch.float32)\n",
    "y = torch.tensor(y_encoded, dtype=torch.float32)"
   ],
   "metadata": {
    "collapsed": false,
    "ExecuteTime": {
     "end_time": "2024-02-10T17:37:40.642020Z",
     "start_time": "2024-02-10T17:37:40.547858Z"
    }
   },
   "id": "4bb66bc5b7ab6156",
   "execution_count": 71
  },
  {
   "cell_type": "markdown",
   "source": [
    "Defining the SVM model using TensorFlow"
   ],
   "metadata": {
    "collapsed": false
   },
   "id": "76724653bc8d0176"
  },
  {
   "cell_type": "code",
   "outputs": [],
   "source": [
    "class SVM(nn.Module):\n",
    "    def __init__(self):\n",
    "        super(SVM, self).__init__()\n",
    "        self.linear = nn.Linear(X.shape[1], 1)\n",
    "\n",
    "    def forward(self, x):\n",
    "        return self.linear(x)"
   ],
   "metadata": {
    "collapsed": false,
    "ExecuteTime": {
     "end_time": "2024-02-10T17:37:40.654092Z",
     "start_time": "2024-02-10T17:37:40.643949Z"
    }
   },
   "id": "70377c6f3fa22629",
   "execution_count": 72
  },
  {
   "cell_type": "markdown",
   "source": [
    "Define the SVM model"
   ],
   "metadata": {
    "collapsed": false
   },
   "id": "cb0eea45e09de7b7"
  },
  {
   "cell_type": "code",
   "outputs": [],
   "source": [
    "model = SVM()"
   ],
   "metadata": {
    "collapsed": false,
    "ExecuteTime": {
     "end_time": "2024-02-10T17:37:40.655612Z",
     "start_time": "2024-02-10T17:37:40.651362Z"
    }
   },
   "id": "805aa787fbf3fa45",
   "execution_count": 73
  },
  {
   "cell_type": "markdown",
   "source": [
    "Define loss function and optimiser"
   ],
   "metadata": {
    "collapsed": false
   },
   "id": "41437035351fa76f"
  },
  {
   "cell_type": "code",
   "outputs": [],
   "source": [
    "criterion = nn.HingeEmbeddingLoss()\n",
    "optimizer = optim.SGD(model.parameters(), lr=0.01)"
   ],
   "metadata": {
    "collapsed": false,
    "ExecuteTime": {
     "end_time": "2024-02-10T17:37:40.669695Z",
     "start_time": "2024-02-10T17:37:40.657027Z"
    }
   },
   "id": "1a2f27cd63692a7c",
   "execution_count": 74
  },
  {
   "cell_type": "markdown",
   "source": [
    "Train the model"
   ],
   "metadata": {
    "collapsed": false
   },
   "id": "4e26940cd867b74c"
  },
  {
   "cell_type": "code",
   "outputs": [
    {
     "name": "stdout",
     "output_type": "stream",
     "text": [
      "Epoch [10/300], Loss: 0.4341365694999695\n",
      "Epoch [20/300], Loss: 0.3295084536075592\n",
      "Epoch [30/300], Loss: 0.2248803824186325\n",
      "Epoch [40/300], Loss: 0.12025228142738342\n",
      "Epoch [50/300], Loss: 0.01562420278787613\n",
      "Epoch [60/300], Loss: -0.08900386095046997\n",
      "Epoch [70/300], Loss: -0.19363200664520264\n",
      "Epoch [80/300], Loss: -0.2982602119445801\n",
      "Epoch [90/300], Loss: -0.40288838744163513\n",
      "Epoch [100/300], Loss: -0.5075165629386902\n",
      "Epoch [110/300], Loss: -0.6121448278427124\n",
      "Epoch [120/300], Loss: -0.716773271560669\n",
      "Epoch [130/300], Loss: -0.8214015364646912\n",
      "Epoch [140/300], Loss: -0.9260299205780029\n",
      "Epoch [150/300], Loss: -1.03065824508667\n",
      "Epoch [160/300], Loss: -1.135286569595337\n",
      "Epoch [170/300], Loss: -1.239914894104004\n",
      "Epoch [180/300], Loss: -1.344543218612671\n",
      "Epoch [190/300], Loss: -1.449171543121338\n",
      "Epoch [200/300], Loss: -1.5537998676300049\n",
      "Epoch [210/300], Loss: -1.6584281921386719\n",
      "Epoch [220/300], Loss: -1.7630561590194702\n",
      "Epoch [230/300], Loss: -1.867684245109558\n",
      "Epoch [240/300], Loss: -1.972312331199646\n",
      "Epoch [250/300], Loss: -2.0769400596618652\n",
      "Epoch [260/300], Loss: -2.181567668914795\n",
      "Epoch [270/300], Loss: -2.2861955165863037\n",
      "Epoch [280/300], Loss: -2.3908228874206543\n",
      "Epoch [290/300], Loss: -2.495450735092163\n",
      "Epoch [300/300], Loss: -2.6000783443450928\n"
     ]
    }
   ],
   "source": [
    "epochs = 300\n",
    "for epoch in range(epochs):\n",
    "    optimizer.zero_grad()\n",
    "    outputs = model(X)\n",
    "    loss = criterion(outputs.squeeze(), y)\n",
    "    loss.backward()\n",
    "    optimizer.step()\n",
    "\n",
    "    if (epoch+1) % 10 == 0:\n",
    "        print(f'Epoch [{epoch+1}/{epochs}], Loss: {loss.item()}')"
   ],
   "metadata": {
    "collapsed": false,
    "ExecuteTime": {
     "end_time": "2024-02-10T17:37:43.680123Z",
     "start_time": "2024-02-10T17:37:40.663976Z"
    }
   },
   "id": "976bc3f0df295f84",
   "execution_count": 75
  },
  {
   "cell_type": "markdown",
   "source": [
    "## Evaluation"
   ],
   "metadata": {
    "collapsed": false
   },
   "id": "2af8d1c5b7fc5b"
  },
  {
   "cell_type": "code",
   "outputs": [
    {
     "name": "stdout",
     "output_type": "stream",
     "text": [
      "Accuracy: 0.06352992194275803\n",
      "Precision: 0.009075703134679718\n",
      "Recall: 0.14285714285714285\n",
      "F1-score: 0.01706713266346294\n"
     ]
    }
   ],
   "source": [
    "from sklearn.metrics import accuracy_score, precision_score, recall_score, f1_score\n",
    "\n",
    "# Convert model predictions to labels\n",
    "def predictions_to_labels(predictions):\n",
    "    return torch.round(torch.sigmoid(predictions)).detach().numpy()\n",
    "\n",
    "# Make predictions\n",
    "with torch.no_grad():\n",
    "    predicted_labels = predictions_to_labels(model(X))\n",
    "\n",
    "# Convert ground truth labels to numpy array\n",
    "true_labels = y.detach().numpy()\n",
    "\n",
    "# Calculate evaluation metrics\n",
    "accuracy = accuracy_score(true_labels, predicted_labels)\n",
    "precision = precision_score(true_labels, predicted_labels, average='macro', zero_division=0)\n",
    "recall = recall_score(true_labels, predicted_labels, average='macro')\n",
    "f1 = f1_score(true_labels, predicted_labels, average='macro')\n",
    "\n",
    "print(f'Accuracy: {accuracy}')\n",
    "print(f'Precision: {precision}')\n",
    "print(f'Recall: {recall}')\n",
    "print(f'F1-score: {f1}')"
   ],
   "metadata": {
    "collapsed": false,
    "ExecuteTime": {
     "end_time": "2024-02-10T17:37:43.713020Z",
     "start_time": "2024-02-10T17:37:43.679351Z"
    }
   },
   "id": "1d9aae0b8ac48cfd",
   "execution_count": 76
  },
  {
   "cell_type": "code",
   "outputs": [],
   "source": [
    "# from sklearn.metrics import classification_report\n",
    "\n",
    "# print(\"Classification Report:\\n\", classification_report(y_test, y_pred, zero_division=0))"
   ],
   "metadata": {
    "collapsed": false,
    "ExecuteTime": {
     "end_time": "2024-02-10T17:37:43.713707Z",
     "start_time": "2024-02-10T17:37:43.706681Z"
    }
   },
   "id": "d7d6876bbb90ad5",
   "execution_count": 77
  },
  {
   "cell_type": "markdown",
   "source": [
    "Decoding and evaluating with classification report"
   ],
   "metadata": {
    "collapsed": false
   },
   "id": "1802b38604ed2f1b"
  },
  {
   "cell_type": "code",
   "outputs": [],
   "source": [
    "def decode_labels(encoded_labels):\n",
    "    return label_encoder.inverse_transform(encoded_labels)"
   ],
   "metadata": {
    "collapsed": false,
    "ExecuteTime": {
     "end_time": "2024-02-10T17:37:43.715714Z",
     "start_time": "2024-02-10T17:37:43.710055Z"
    }
   },
   "id": "286d206081139d7b",
   "execution_count": 78
  }
 ],
 "metadata": {
  "kernelspec": {
   "display_name": "Python 3",
   "language": "python",
   "name": "python3"
  },
  "language_info": {
   "codemirror_mode": {
    "name": "ipython",
    "version": 2
   },
   "file_extension": ".py",
   "mimetype": "text/x-python",
   "name": "python",
   "nbconvert_exporter": "python",
   "pygments_lexer": "ipython2",
   "version": "2.7.6"
  }
 },
 "nbformat": 4,
 "nbformat_minor": 5
}
