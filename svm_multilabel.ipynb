{
 "cells": [
  {
   "cell_type": "markdown",
   "source": [
    "# Speech Act Classification using Support Vector Machines\n",
    "Using a support vector machine to classify data based on the speech act."
   ],
   "metadata": {
    "collapsed": false
   },
   "id": "87f871e05af36c7d"
  },
  {
   "cell_type": "markdown",
   "source": [
    "This takes the file and extracts the sentences and labels"
   ],
   "metadata": {
    "collapsed": false
   },
   "id": "b4d37c3a49d99afb"
  },
  {
   "cell_type": "code",
   "outputs": [],
   "source": [
    "import pandas as pd\n",
    "\n",
    "sentences = []\n",
    "labels = []\n",
    "\n",
    "data_file = \"data/labeled_multiclass.xlsx\"\n",
    "raw_data = pd.read_excel(data_file)\n",
    "\n",
    "raw_data.dropna(subset=['Sentence'], inplace=True)\n",
    "\n",
    "sentences = raw_data[\"Sentence\"]\n",
    "labels = raw_data.drop(columns=[\"Sentence\"])"
   ],
   "metadata": {
    "collapsed": false,
    "ExecuteTime": {
     "end_time": "2024-02-20T20:21:02.140446Z",
     "start_time": "2024-02-20T20:21:01.682364Z"
    }
   },
   "id": "a45df1543cdc221a",
   "execution_count": 179
  },
  {
   "cell_type": "markdown",
   "source": [
    "## Looking at the Data Distribution\n",
    "Here we will look at the output file that has the labelled data and sentences and analyse the distribution"
   ],
   "metadata": {
    "collapsed": false
   },
   "id": "d071fe08e24bed3"
  },
  {
   "cell_type": "code",
   "outputs": [
    {
     "data": {
      "text/plain": "                                            Sentence  Intel (from newspapers)  \\\n0                                    this is Charlie                        0   \n1                                         Roger over                        0   \n2  Bravo I didn't find anything relevant just abo...                        1   \n3  nothing really relevant just saying its open I...                        0   \n4  Charlie I've got advertisement feature for the...                        1   \n\n   Directions  Woods  Buildings  Hills and Forests  Named Locations  \\\n0           0      0          0                  0                0   \n1           0      0          0                  0                0   \n2           0      1          1                  0                1   \n3           0      0          0                  0                0   \n4           0      0          0                  0                0   \n\n   Fire words  Rescue words  Action words  Reasoning words  \n0           0             0             0                0  \n1           0             0             0                0  \n2           0             0             1                0  \n3           0             0             0                0  \n4           0             0             0                0  ",
      "text/html": "<div>\n<style scoped>\n    .dataframe tbody tr th:only-of-type {\n        vertical-align: middle;\n    }\n\n    .dataframe tbody tr th {\n        vertical-align: top;\n    }\n\n    .dataframe thead th {\n        text-align: right;\n    }\n</style>\n<table border=\"1\" class=\"dataframe\">\n  <thead>\n    <tr style=\"text-align: right;\">\n      <th></th>\n      <th>Sentence</th>\n      <th>Intel (from newspapers)</th>\n      <th>Directions</th>\n      <th>Woods</th>\n      <th>Buildings</th>\n      <th>Hills and Forests</th>\n      <th>Named Locations</th>\n      <th>Fire words</th>\n      <th>Rescue words</th>\n      <th>Action words</th>\n      <th>Reasoning words</th>\n    </tr>\n  </thead>\n  <tbody>\n    <tr>\n      <th>0</th>\n      <td>this is Charlie</td>\n      <td>0</td>\n      <td>0</td>\n      <td>0</td>\n      <td>0</td>\n      <td>0</td>\n      <td>0</td>\n      <td>0</td>\n      <td>0</td>\n      <td>0</td>\n      <td>0</td>\n    </tr>\n    <tr>\n      <th>1</th>\n      <td>Roger over</td>\n      <td>0</td>\n      <td>0</td>\n      <td>0</td>\n      <td>0</td>\n      <td>0</td>\n      <td>0</td>\n      <td>0</td>\n      <td>0</td>\n      <td>0</td>\n      <td>0</td>\n    </tr>\n    <tr>\n      <th>2</th>\n      <td>Bravo I didn't find anything relevant just abo...</td>\n      <td>1</td>\n      <td>0</td>\n      <td>1</td>\n      <td>1</td>\n      <td>0</td>\n      <td>1</td>\n      <td>0</td>\n      <td>0</td>\n      <td>1</td>\n      <td>0</td>\n    </tr>\n    <tr>\n      <th>3</th>\n      <td>nothing really relevant just saying its open I...</td>\n      <td>0</td>\n      <td>0</td>\n      <td>0</td>\n      <td>0</td>\n      <td>0</td>\n      <td>0</td>\n      <td>0</td>\n      <td>0</td>\n      <td>0</td>\n      <td>0</td>\n    </tr>\n    <tr>\n      <th>4</th>\n      <td>Charlie I've got advertisement feature for the...</td>\n      <td>1</td>\n      <td>0</td>\n      <td>0</td>\n      <td>0</td>\n      <td>0</td>\n      <td>0</td>\n      <td>0</td>\n      <td>0</td>\n      <td>0</td>\n      <td>0</td>\n    </tr>\n  </tbody>\n</table>\n</div>"
     },
     "execution_count": 180,
     "metadata": {},
     "output_type": "execute_result"
    }
   ],
   "source": [
    "raw_data.head()"
   ],
   "metadata": {
    "collapsed": false,
    "ExecuteTime": {
     "end_time": "2024-02-20T20:21:02.157069Z",
     "start_time": "2024-02-20T20:21:02.149244Z"
    }
   },
   "id": "97d01105efaab89b",
   "execution_count": 180
  },
  {
   "cell_type": "markdown",
   "source": [
    "Determine the data size and dimensions"
   ],
   "metadata": {
    "collapsed": false
   },
   "id": "79722888ef8c403"
  },
  {
   "cell_type": "code",
   "outputs": [
    {
     "data": {
      "text/plain": "(2692, 11)"
     },
     "execution_count": 181,
     "metadata": {},
     "output_type": "execute_result"
    }
   ],
   "source": [
    "raw_data.shape"
   ],
   "metadata": {
    "collapsed": false,
    "ExecuteTime": {
     "end_time": "2024-02-20T20:21:02.166013Z",
     "start_time": "2024-02-20T20:21:02.156372Z"
    }
   },
   "id": "1b5ea23da6478995",
   "execution_count": 181
  },
  {
   "cell_type": "code",
   "outputs": [
    {
     "data": {
      "text/plain": "Sentence                   2359\nIntel (from newspapers)       2\nDirections                    2\nWoods                         2\nBuildings                     2\nHills and Forests             2\nNamed Locations               2\nFire words                    2\nRescue words                  2\nAction words                  2\nReasoning words               2\ndtype: int64"
     },
     "execution_count": 182,
     "metadata": {},
     "output_type": "execute_result"
    }
   ],
   "source": [
    "raw_data.nunique()"
   ],
   "metadata": {
    "collapsed": false,
    "ExecuteTime": {
     "end_time": "2024-02-20T20:21:02.190072Z",
     "start_time": "2024-02-20T20:21:02.165170Z"
    }
   },
   "id": "1491c200ad87d7a1",
   "execution_count": 182
  },
  {
   "cell_type": "code",
   "outputs": [
    {
     "name": "stdout",
     "output_type": "stream",
     "text": [
      "333\n"
     ]
    }
   ],
   "source": [
    "print(raw_data.duplicated().sum())"
   ],
   "metadata": {
    "collapsed": false,
    "ExecuteTime": {
     "end_time": "2024-02-20T20:21:02.210087Z",
     "start_time": "2024-02-20T20:21:02.175308Z"
    }
   },
   "id": "1e6a1cb027be90b2",
   "execution_count": 183
  },
  {
   "cell_type": "code",
   "outputs": [
    {
     "data": {
      "text/plain": "Sentence                   0\nIntel (from newspapers)    0\nDirections                 0\nWoods                      0\nBuildings                  0\nHills and Forests          0\nNamed Locations            0\nFire words                 0\nRescue words               0\nAction words               0\nReasoning words            0\ndtype: int64"
     },
     "execution_count": 184,
     "metadata": {},
     "output_type": "execute_result"
    }
   ],
   "source": [
    "raw_data.isna().sum()"
   ],
   "metadata": {
    "collapsed": false,
    "ExecuteTime": {
     "end_time": "2024-02-20T20:21:02.211394Z",
     "start_time": "2024-02-20T20:21:02.186719Z"
    }
   },
   "id": "91bd1e1e1c79cbf2",
   "execution_count": 184
  },
  {
   "cell_type": "code",
   "outputs": [
    {
     "data": {
      "text/plain": "<Figure size 1000x600 with 1 Axes>",
      "image/png": "[encoded data removed]"
     },
     "metadata": {},
     "output_type": "display_data"
    }
   ],
   "source": [
    "import matplotlib.pyplot as plt\n",
    "\n",
    "label_counts = raw_data.drop(columns=[\"Sentence\"]).sum()\n",
    "\n",
    "# Plot distribution of label frequencies\n",
    "plt.figure(figsize=(10, 6))\n",
    "label_counts.plot(kind=\"bar\")\n",
    "plt.title(\"Distribution of Label Frequencies\")\n",
    "plt.xlabel(\"Labels\")\n",
    "plt.ylabel(\"Frequency\")\n",
    "plt.xticks(rotation=45)\n",
    "plt.tight_layout()\n",
    "plt.show()"
   ],
   "metadata": {
    "collapsed": false,
    "ExecuteTime": {
     "end_time": "2024-02-20T20:21:02.522255Z",
     "start_time": "2024-02-20T20:21:02.194860Z"
    }
   },
   "id": "61bed22b569eddd1",
   "execution_count": 185
  },
  {
   "cell_type": "markdown",
   "source": [
    "## Preprocessing of the Data\n",
    "This involves removing stop words, making sure everything is lower case, removing punctuation\n",
    "Vectorising based on the Tf-idf values in the data set?"
   ],
   "metadata": {
    "collapsed": false
   },
   "id": "513a0c75fe9937d3"
  },
  {
   "cell_type": "markdown",
   "source": [
    "## Training the Model"
   ],
   "metadata": {
    "collapsed": false
   },
   "id": "455a9e6772399854"
  },
  {
   "cell_type": "code",
   "outputs": [
    {
     "data": {
      "text/plain": "MultiOutputClassifier(estimator=SVC(probability=True), n_jobs=-1)",
      "text/html": "<style>#sk-container-id-16 {color: black;}#sk-container-id-16 pre{padding: 0;}#sk-container-id-16 div.sk-toggleable {background-color: white;}#sk-container-id-16 label.sk-toggleable__label {cursor: pointer;display: block;width: 100%;margin-bottom: 0;padding: 0.3em;box-sizing: border-box;text-align: center;}#sk-container-id-16 label.sk-toggleable__label-arrow:before {content: \"▸\";float: left;margin-right: 0.25em;color: #696969;}#sk-container-id-16 label.sk-toggleable__label-arrow:hover:before {color: black;}#sk-container-id-16 div.sk-estimator:hover label.sk-toggleable__label-arrow:before {color: black;}#sk-container-id-16 div.sk-toggleable__content {max-height: 0;max-width: 0;overflow: hidden;text-align: left;background-color: #f0f8ff;}#sk-container-id-16 div.sk-toggleable__content pre {margin: 0.2em;color: black;border-radius: 0.25em;background-color: #f0f8ff;}#sk-container-id-16 input.sk-toggleable__control:checked~div.sk-toggleable__content {max-height: 200px;max-width: 100%;overflow: auto;}#sk-container-id-16 input.sk-toggleable__control:checked~label.sk-toggleable__label-arrow:before {content: \"▾\";}#sk-container-id-16 div.sk-estimator input.sk-toggleable__control:checked~label.sk-toggleable__label {background-color: #d4ebff;}#sk-container-id-16 div.sk-label input.sk-toggleable__control:checked~label.sk-toggleable__label {background-color: #d4ebff;}#sk-container-id-16 input.sk-hidden--visually {border: 0;clip: rect(1px 1px 1px 1px);clip: rect(1px, 1px, 1px, 1px);height: 1px;margin: -1px;overflow: hidden;padding: 0;position: absolute;width: 1px;}#sk-container-id-16 div.sk-estimator {font-family: monospace;background-color: #f0f8ff;border: 1px dotted black;border-radius: 0.25em;box-sizing: border-box;margin-bottom: 0.5em;}#sk-container-id-16 div.sk-estimator:hover {background-color: #d4ebff;}#sk-container-id-16 div.sk-parallel-item::after {content: \"\";width: 100%;border-bottom: 1px solid gray;flex-grow: 1;}#sk-container-id-16 div.sk-label:hover label.sk-toggleable__label {background-color: #d4ebff;}#sk-container-id-16 div.sk-serial::before {content: \"\";position: absolute;border-left: 1px solid gray;box-sizing: border-box;top: 0;bottom: 0;left: 50%;z-index: 0;}#sk-container-id-16 div.sk-serial {display: flex;flex-direction: column;align-items: center;background-color: white;padding-right: 0.2em;padding-left: 0.2em;position: relative;}#sk-container-id-16 div.sk-item {position: relative;z-index: 1;}#sk-container-id-16 div.sk-parallel {display: flex;align-items: stretch;justify-content: center;background-color: white;position: relative;}#sk-container-id-16 div.sk-item::before, #sk-container-id-16 div.sk-parallel-item::before {content: \"\";position: absolute;border-left: 1px solid gray;box-sizing: border-box;top: 0;bottom: 0;left: 50%;z-index: -1;}#sk-container-id-16 div.sk-parallel-item {display: flex;flex-direction: column;z-index: 1;position: relative;background-color: white;}#sk-container-id-16 div.sk-parallel-item:first-child::after {align-self: flex-end;width: 50%;}#sk-container-id-16 div.sk-parallel-item:last-child::after {align-self: flex-start;width: 50%;}#sk-container-id-16 div.sk-parallel-item:only-child::after {width: 0;}#sk-container-id-16 div.sk-dashed-wrapped {border: 1px dashed gray;margin: 0 0.4em 0.5em 0.4em;box-sizing: border-box;padding-bottom: 0.4em;background-color: white;}#sk-container-id-16 div.sk-label label {font-family: monospace;font-weight: bold;display: inline-block;line-height: 1.2em;}#sk-container-id-16 div.sk-label-container {text-align: center;}#sk-container-id-16 div.sk-container {/* jupyter's `normalize.less` sets `[hidden] { display: none; }` but bootstrap.min.css set `[hidden] { display: none !important; }` so we also need the `!important` here to be able to override the default hidden behavior on the sphinx rendered scikit-learn.org. See: https://github.com/scikit-learn/scikit-learn/issues/21755 */display: inline-block !important;position: relative;}#sk-container-id-16 div.sk-text-repr-fallback {display: none;}</style><div id=\"sk-container-id-16\" class=\"sk-top-container\"><div class=\"sk-text-repr-fallback\"><pre>MultiOutputClassifier(estimator=SVC(probability=True), n_jobs=-1)</pre><b>In a Jupyter environment, please rerun this cell to show the HTML representation or trust the notebook. <br />On GitHub, the HTML representation is unable to render, please try loading this page with nbviewer.org.</b></div><div class=\"sk-container\" hidden><div class=\"sk-item sk-dashed-wrapped\"><div class=\"sk-label-container\"><div class=\"sk-label sk-toggleable\"><input class=\"sk-toggleable__control sk-hidden--visually\" id=\"sk-estimator-id-46\" type=\"checkbox\" ><label for=\"sk-estimator-id-46\" class=\"sk-toggleable__label sk-toggleable__label-arrow\">MultiOutputClassifier</label><div class=\"sk-toggleable__content\"><pre>MultiOutputClassifier(estimator=SVC(probability=True), n_jobs=-1)</pre></div></div></div><div class=\"sk-parallel\"><div class=\"sk-parallel-item\"><div class=\"sk-item\"><div class=\"sk-label-container\"><div class=\"sk-label sk-toggleable\"><input class=\"sk-toggleable__control sk-hidden--visually\" id=\"sk-estimator-id-47\" type=\"checkbox\" ><label for=\"sk-estimator-id-47\" class=\"sk-toggleable__label sk-toggleable__label-arrow\">estimator: SVC</label><div class=\"sk-toggleable__content\"><pre>SVC(probability=True)</pre></div></div></div><div class=\"sk-serial\"><div class=\"sk-item\"><div class=\"sk-estimator sk-toggleable\"><input class=\"sk-toggleable__control sk-hidden--visually\" id=\"sk-estimator-id-48\" type=\"checkbox\" ><label for=\"sk-estimator-id-48\" class=\"sk-toggleable__label sk-toggleable__label-arrow\">SVC</label><div class=\"sk-toggleable__content\"><pre>SVC(probability=True)</pre></div></div></div></div></div></div></div></div></div></div>"
     },
     "execution_count": 186,
     "metadata": {},
     "output_type": "execute_result"
    }
   ],
   "source": [
    "from sklearn.feature_extraction.text import TfidfVectorizer\n",
    "from sklearn.multioutput import MultiOutputClassifier\n",
    "from sklearn.svm import SVC\n",
    "from sklearn.model_selection import train_test_split\n",
    "\n",
    "X_train, X_test, y_train, y_test = train_test_split(sentences, labels, test_size=0.2)\n",
    "\n",
    "# TODO: try running without tfidf\n",
    "vectorizer = TfidfVectorizer()\n",
    "X_train_tfidf = vectorizer.fit_transform(X_train)\n",
    "X_test_tfidf = vectorizer.transform(X_test)\n",
    "\n",
    "svm_model = SVC(probability=True)  # Adjust class weights\n",
    "multi_target_svm = MultiOutputClassifier(svm_model, n_jobs=-1)  # n_jobs=-1 for parallel processing\n",
    "multi_target_svm.fit(X_train_tfidf, y_train)"
   ],
   "metadata": {
    "collapsed": false,
    "ExecuteTime": {
     "end_time": "2024-02-20T20:21:07.661961Z",
     "start_time": "2024-02-20T20:21:02.522093Z"
    }
   },
   "id": "b377f48f7a0ccde2",
   "execution_count": 186
  },
  {
   "cell_type": "markdown",
   "source": [
    "### These are the values for the report that does multilabel classification with these labels:\n",
    "'Intel (from newspapers)', 'Directions', 'Woods', 'Buildings', 'Hills and Forests', 'Named Locations', 'Fire words', 'Rescue words', 'Action words', 'Reasoning words'"
   ],
   "metadata": {
    "collapsed": false
   },
   "id": "76724653bc8d0176"
  },
  {
   "cell_type": "code",
   "outputs": [
    {
     "name": "stdout",
     "output_type": "stream",
     "text": [
      "Classification Report:\n",
      "Accuracy: 0.70\n",
      "              precision    recall  f1-score   support\n",
      "\n",
      "           0       1.00      0.19      0.31        27\n",
      "           1       1.00      0.16      0.28        31\n",
      "           2       1.00      0.42      0.60        73\n",
      "           3       1.00      0.65      0.79        72\n",
      "           4       1.00      0.39      0.56        36\n",
      "           5       0.99      0.78      0.88       153\n",
      "           6       1.00      0.65      0.79        34\n",
      "           7       1.00      0.76      0.86        74\n",
      "           8       1.00      0.27      0.42        52\n",
      "           9       1.00      0.54      0.70        54\n",
      "\n",
      "   micro avg       1.00      0.57      0.72       606\n",
      "   macro avg       1.00      0.48      0.62       606\n",
      "weighted avg       1.00      0.57      0.70       606\n",
      " samples avg       0.45      0.36      0.39       606\n"
     ]
    }
   ],
   "source": [
    "from sklearn.metrics import classification_report\n",
    "from sklearn.metrics import accuracy_score\n",
    "\n",
    "# Perform classification with SVM, kernel=linear\n",
    "y_pred = multi_target_svm.predict(X_test_tfidf)\n",
    "print(\"Classification Report:\")\n",
    "report = classification_report(y_test, y_pred, zero_division=0)\n",
    "print(f\"Accuracy: {accuracy_score(y_test, y_pred):.2f}\")\n",
    "print(report)"
   ],
   "metadata": {
    "collapsed": false,
    "ExecuteTime": {
     "end_time": "2024-02-20T20:21:07.947272Z",
     "start_time": "2024-02-20T20:21:07.657303Z"
    }
   },
   "id": "70377c6f3fa22629",
   "execution_count": 187
  },
  {
   "cell_type": "markdown",
   "source": [
    "TODO: Have something that shows how often sentences overlap with different speech acts\n",
    "- Break down situation awareness, DONE\n",
    "- Try to stop over-fitting (limited data set), Attempting K-Fold below\n",
    "- multilabel seems to be working best\n",
    "- Bert -> delve into it's language model further to tailor it to this dataset\n",
    "- Why SVM?\n",
    "- Report + Presentation structure"
   ],
   "metadata": {
    "collapsed": false
   },
   "id": "1422a27e1c6ad86d"
  },
  {
   "cell_type": "markdown",
   "source": [
    "## K-Fold Training"
   ],
   "metadata": {
    "collapsed": false
   },
   "id": "fe44f4dc60972a27"
  },
  {
   "cell_type": "code",
   "outputs": [],
   "source": [],
   "metadata": {
    "collapsed": false,
    "ExecuteTime": {
     "end_time": "2024-02-20T20:21:07.954464Z",
     "start_time": "2024-02-20T20:21:07.948219Z"
    }
   },
   "id": "4035aa8e75bbb656",
   "execution_count": 187
  }
 ],
 "metadata": {
  "kernelspec": {
   "display_name": "Python 3",
   "language": "python",
   "name": "python3"
  },
  "language_info": {
   "codemirror_mode": {
    "name": "ipython",
    "version": 2
   },
   "file_extension": ".py",
   "mimetype": "text/x-python",
   "name": "python",
   "nbconvert_exporter": "python",
   "pygments_lexer": "ipython2",
   "version": "2.7.6"
  }
 },
 "nbformat": 4,
 "nbformat_minor": 5
}
