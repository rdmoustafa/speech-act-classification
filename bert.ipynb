{
 "cells": [
  {
   "cell_type": "markdown",
   "source": [
    "### Text Data Preprocessing"
   ],
   "metadata": {
    "collapsed": false
   },
   "id": "249af714d1a806fc"
  },
  {
   "cell_type": "code",
   "outputs": [],
   "source": [
    "# TODO sentence preprocessing, turn big paragraphs into single sentences\n",
    "\n",
    "import pandas as pd\n",
    "import nltk\n",
    "\n",
    "from nltk.stem import PorterStemmer, WordNetLemmatizer"
   ],
   "metadata": {
    "collapsed": false,
    "ExecuteTime": {
     "end_time": "2024-02-06T15:44:32.650624Z",
     "start_time": "2024-02-06T15:44:30.700265Z"
    }
   },
   "id": "9b48a1657e89d8eb",
   "execution_count": 1
  },
  {
   "cell_type": "markdown",
   "source": [
    "Reading the Excel File into a pandas DataFrame"
   ],
   "metadata": {
    "collapsed": false
   },
   "id": "3b7b9441bec441d3"
  },
  {
   "cell_type": "code",
   "outputs": [],
   "source": [
    "file_path = \"interrater_data.xlsx\"\n",
    "# Read the Excel file into a pandas DataFrame\n",
    "excel_file = pd.read_excel(file_path)"
   ],
   "metadata": {
    "collapsed": true,
    "ExecuteTime": {
     "end_time": "2024-02-06T15:44:32.864244Z",
     "start_time": "2024-02-06T15:44:32.653814Z"
    }
   },
   "id": "initial_id",
   "execution_count": 2
  },
  {
   "cell_type": "markdown",
   "source": [
    "Extracting the text and associated label for each excel row and storing them in _sentences_ and _labels_ respectively"
   ],
   "metadata": {
    "collapsed": false
   },
   "id": "a4f187f8b725cfeb"
  },
  {
   "cell_type": "code",
   "outputs": [],
   "source": [
    "actual_labels = []\n",
    "for col in excel_file.columns[3:]:\n",
    "    actual_labels.append(col)\n",
    "\n",
    "sentences = []\n",
    "labels = []\n",
    "\n",
    "for row in excel_file.iterrows():\n",
    "    for index, speech_act in enumerate(row[1].iloc[3:10]):\n",
    "        if speech_act == \"x\":\n",
    "            # TODO break down the rows further\n",
    "            row_content = row[1].iloc[2].lower().strip()\n",
    "            \n",
    "            sentences.append(row_content)\n",
    "            labels.append(actual_labels[index])\n",
    "            break\n",
    "\n",
    "# print(\"Sentences: \", sentences[:5])\n",
    "# print(\"I have sentences: \", len(sentences))\n",
    "# print(\"Correct Labels: \", labels[:5])\n",
    "# print(\"I have labels: \", len(labels))"
   ],
   "metadata": {
    "collapsed": false,
    "ExecuteTime": {
     "end_time": "2024-02-06T15:44:32.889739Z",
     "start_time": "2024-02-06T15:44:32.880127Z"
    }
   },
   "id": "3865ff9150a68a07",
   "execution_count": 3
  },
  {
   "cell_type": "code",
   "outputs": [
    {
     "data": {
      "text/plain": "         Time  Speaker                                          Utterance  \\\n0    00:00:00    Bravo                       Alpha, Charlie. Bravo check.   \n1    00:00:05  Charlie                       Alpha you're loud_and_clear.   \n2    00:00:06    Alpha                                Charlie. Good to me   \n3    00:00:10    Bravo          Charlie, Charlie one, Bravo radio check.    \n4    00:00:13    Alpha                     Yeah. Charlie good to me. Over   \n..        ...      ...                                                ...   \n111  00:15:52  Charlie                                                Yep   \n112  00:15:54    Alpha  Don't forget we still got a fire in the kind o...   \n113  00:16:00    Bravo                                         Yeah. Now.   \n114  00:16:05  Charlie                                                OK.   \n115  00:16:08  Control  Hello. All Stations. The scenario has now fins...   \n\n    Not Classified Statement of Intent Statement of Prediction  \\\n0              NaN                 NaN                     NaN   \n1              NaN                 NaN                     NaN   \n2              NaN                 NaN                     NaN   \n3              NaN                 NaN                     NaN   \n4              NaN                 NaN                     NaN   \n..             ...                 ...                     ...   \n111              X                 NaN                     NaN   \n112            NaN                 NaN                     NaN   \n113            NaN                 NaN                     NaN   \n114            NaN                 NaN                     NaN   \n115            NaN                 NaN                     NaN   \n\n    Statement of Situation Statement of Action  Request for Intent  \\\n0                      NaN                 NaN                 NaN   \n1                        x                 NaN                 NaN   \n2                        x                 NaN                 NaN   \n3                      NaN                 NaN                 NaN   \n4                        x                 NaN                 NaN   \n..                     ...                 ...                 ...   \n111                    NaN                 NaN                 NaN   \n112                      X                 NaN                 NaN   \n113                    NaN                   X                 NaN   \n114                    NaN                 NaN                 NaN   \n115                      X                 NaN                 NaN   \n\n     Request for Prediction Request for Situation Request for Action  \n0                       NaN                     x                NaN  \n1                       NaN                   NaN                NaN  \n2                       NaN                   NaN                NaN  \n3                       NaN                     x                NaN  \n4                       NaN                   NaN                NaN  \n..                      ...                   ...                ...  \n111                     NaN                   NaN                NaN  \n112                     NaN                   NaN                NaN  \n113                     NaN                   NaN                NaN  \n114                     NaN                   NaN                NaN  \n115                     NaN                   NaN                NaN  \n\n[116 rows x 12 columns]",
      "text/html": "<div>\n<style scoped>\n    .dataframe tbody tr th:only-of-type {\n        vertical-align: middle;\n    }\n\n    .dataframe tbody tr th {\n        vertical-align: top;\n    }\n\n    .dataframe thead th {\n        text-align: right;\n    }\n</style>\n<table border=\"1\" class=\"dataframe\">\n  <thead>\n    <tr style=\"text-align: right;\">\n      <th></th>\n      <th>Time</th>\n      <th>Speaker</th>\n      <th>Utterance</th>\n      <th>Not Classified</th>\n      <th>Statement of Intent</th>\n      <th>Statement of Prediction</th>\n      <th>Statement of Situation</th>\n      <th>Statement of Action</th>\n      <th>Request for Intent</th>\n      <th>Request for Prediction</th>\n      <th>Request for Situation</th>\n      <th>Request for Action</th>\n    </tr>\n  </thead>\n  <tbody>\n    <tr>\n      <th>0</th>\n      <td>00:00:00</td>\n      <td>Bravo</td>\n      <td>Alpha, Charlie. Bravo check.</td>\n      <td>NaN</td>\n      <td>NaN</td>\n      <td>NaN</td>\n      <td>NaN</td>\n      <td>NaN</td>\n      <td>NaN</td>\n      <td>NaN</td>\n      <td>x</td>\n      <td>NaN</td>\n    </tr>\n    <tr>\n      <th>1</th>\n      <td>00:00:05</td>\n      <td>Charlie</td>\n      <td>Alpha you're loud_and_clear.</td>\n      <td>NaN</td>\n      <td>NaN</td>\n      <td>NaN</td>\n      <td>x</td>\n      <td>NaN</td>\n      <td>NaN</td>\n      <td>NaN</td>\n      <td>NaN</td>\n      <td>NaN</td>\n    </tr>\n    <tr>\n      <th>2</th>\n      <td>00:00:06</td>\n      <td>Alpha</td>\n      <td>Charlie. Good to me</td>\n      <td>NaN</td>\n      <td>NaN</td>\n      <td>NaN</td>\n      <td>x</td>\n      <td>NaN</td>\n      <td>NaN</td>\n      <td>NaN</td>\n      <td>NaN</td>\n      <td>NaN</td>\n    </tr>\n    <tr>\n      <th>3</th>\n      <td>00:00:10</td>\n      <td>Bravo</td>\n      <td>Charlie, Charlie one, Bravo radio check.</td>\n      <td>NaN</td>\n      <td>NaN</td>\n      <td>NaN</td>\n      <td>NaN</td>\n      <td>NaN</td>\n      <td>NaN</td>\n      <td>NaN</td>\n      <td>x</td>\n      <td>NaN</td>\n    </tr>\n    <tr>\n      <th>4</th>\n      <td>00:00:13</td>\n      <td>Alpha</td>\n      <td>Yeah. Charlie good to me. Over</td>\n      <td>NaN</td>\n      <td>NaN</td>\n      <td>NaN</td>\n      <td>x</td>\n      <td>NaN</td>\n      <td>NaN</td>\n      <td>NaN</td>\n      <td>NaN</td>\n      <td>NaN</td>\n    </tr>\n    <tr>\n      <th>...</th>\n      <td>...</td>\n      <td>...</td>\n      <td>...</td>\n      <td>...</td>\n      <td>...</td>\n      <td>...</td>\n      <td>...</td>\n      <td>...</td>\n      <td>...</td>\n      <td>...</td>\n      <td>...</td>\n      <td>...</td>\n    </tr>\n    <tr>\n      <th>111</th>\n      <td>00:15:52</td>\n      <td>Charlie</td>\n      <td>Yep</td>\n      <td>X</td>\n      <td>NaN</td>\n      <td>NaN</td>\n      <td>NaN</td>\n      <td>NaN</td>\n      <td>NaN</td>\n      <td>NaN</td>\n      <td>NaN</td>\n      <td>NaN</td>\n    </tr>\n    <tr>\n      <th>112</th>\n      <td>00:15:54</td>\n      <td>Alpha</td>\n      <td>Don't forget we still got a fire in the kind o...</td>\n      <td>NaN</td>\n      <td>NaN</td>\n      <td>NaN</td>\n      <td>X</td>\n      <td>NaN</td>\n      <td>NaN</td>\n      <td>NaN</td>\n      <td>NaN</td>\n      <td>NaN</td>\n    </tr>\n    <tr>\n      <th>113</th>\n      <td>00:16:00</td>\n      <td>Bravo</td>\n      <td>Yeah. Now.</td>\n      <td>NaN</td>\n      <td>NaN</td>\n      <td>NaN</td>\n      <td>NaN</td>\n      <td>X</td>\n      <td>NaN</td>\n      <td>NaN</td>\n      <td>NaN</td>\n      <td>NaN</td>\n    </tr>\n    <tr>\n      <th>114</th>\n      <td>00:16:05</td>\n      <td>Charlie</td>\n      <td>OK.</td>\n      <td>NaN</td>\n      <td>NaN</td>\n      <td>NaN</td>\n      <td>NaN</td>\n      <td>NaN</td>\n      <td>NaN</td>\n      <td>NaN</td>\n      <td>NaN</td>\n      <td>NaN</td>\n    </tr>\n    <tr>\n      <th>115</th>\n      <td>00:16:08</td>\n      <td>Control</td>\n      <td>Hello. All Stations. The scenario has now fins...</td>\n      <td>NaN</td>\n      <td>NaN</td>\n      <td>NaN</td>\n      <td>X</td>\n      <td>NaN</td>\n      <td>NaN</td>\n      <td>NaN</td>\n      <td>NaN</td>\n      <td>NaN</td>\n    </tr>\n  </tbody>\n</table>\n<p>116 rows × 12 columns</p>\n</div>"
     },
     "execution_count": 4,
     "metadata": {},
     "output_type": "execute_result"
    }
   ],
   "source": [
    "excel_file"
   ],
   "metadata": {
    "collapsed": false,
    "ExecuteTime": {
     "end_time": "2024-02-06T15:44:32.918226Z",
     "start_time": "2024-02-06T15:44:32.885685Z"
    }
   },
   "id": "9696e7f7cf69eae5",
   "execution_count": 4
  },
  {
   "cell_type": "code",
   "outputs": [
    {
     "data": {
      "text/plain": "(116, 12)"
     },
     "execution_count": 5,
     "metadata": {},
     "output_type": "execute_result"
    }
   ],
   "source": [
    "excel_file.shape\n",
    "# The first number is the number of rows/entries there are, the second is the number of columns of the .shape function"
   ],
   "metadata": {
    "collapsed": false,
    "ExecuteTime": {
     "end_time": "2024-02-06T15:44:32.921422Z",
     "start_time": "2024-02-06T15:44:32.913623Z"
    }
   },
   "id": "29bca8e5c6cebf64",
   "execution_count": 5
  },
  {
   "cell_type": "code",
   "outputs": [
    {
     "data": {
      "text/plain": "Time                       115\nSpeaker                      4\nUtterance                  114\nNot Classified               2\nStatement of Intent          2\nStatement of Prediction      2\nStatement of Situation       2\nStatement of Action          2\nRequest for Intent           0\nRequest for Prediction       0\nRequest for Situation        2\nRequest for Action           2\ndtype: int64"
     },
     "execution_count": 6,
     "metadata": {},
     "output_type": "execute_result"
    }
   ],
   "source": [
    "excel_file.nunique()"
   ],
   "metadata": {
    "collapsed": false,
    "ExecuteTime": {
     "end_time": "2024-02-06T15:44:32.936424Z",
     "start_time": "2024-02-06T15:44:32.925140Z"
    }
   },
   "id": "dc8eee74cf0ac795",
   "execution_count": 6
  },
  {
   "cell_type": "code",
   "outputs": [
    {
     "name": "stdout",
     "output_type": "stream",
     "text": [
      "[\"alpha you're loud_and_clear.\", 'charlie. good to me', 'yeah. charlie good to me. over', \"you're loud_and_clear. from alpha.\", 'splendid.', \"ok, my piece of news is all about the lowtown hospital, that's in grid square november_30.  how they have been able to save the hospital. so i would expect it to be lots of people there, potentially.\", 'bravo, i’ve some irrelevant drivel about squirrels in firwood.', \"yeah, i've something about steel. probably given it to me because i'm northern. but again, its useless.\", '5 minutes for planning. starting now.', \"ok, so i think the grid idea from alex mark one is a good idea. so if we do get intelligence of a fire position then i will immediately take firetruck _two in the optimal position which would be two squares away from the origin of the fire in the direction of the wind and then i'll place  firetruck _one and  firetruck _three at a gap either side of that and then  firetruck _four and  firetruck _five can slot in.  that leaves you, alex two, with your  firetruck_six that you can then go either side of that barrier line depending on where you feel the biggest threat is or where the people are. i assume alex one you’ll take  firetruck _seven and  firetruck _eight for replenishment into a position that will best serve serve all of that.  i'm starting on 40, then. just confirm firetruck_four, firetruck_five, and firetruck_six you've got 40 capacity?\", 'fully loaded.', \"yeah, i'm on 40 as well.\", 'ok', \"hello. all stations this is additional information. in this context, you'll be seeing the map in unit only view.\", 'as in the last practise.', 'yes.', 'roger', \"just done a quick ipb. clearly we've westhill and easterly interspersed with wood blocks. so, any kind of fire there is likely to rapidly spread given the wind direction. i'm also noting where the two drop-off points are, they're quite dislocated from centre of gravities. the next area of concern would be towards the south east to the newforest region as well. given that that is three times more likely to burn. so i suspect the earlier stage of this operation, i'll go to newforest into the newtown area with one of my vehicles and easterly with another one of my vehicles. check?\", 'great. ok. roger. yeah, makes sense.', \"roger. in addition to that, i think if we can avoid, depending on where the fire starts,  but let's it starts west of the newforest, we can avoid it,  if we can prevent , put a block in before newforest gets hit, that'll save a lot of a lot of grief.\", 'yeah i agree and if we have to accept', \"and if we can't do that we have to accept newforest is burnt, then we'll just have to go hard down the alpha_india line.\", \"true, but if that, i mean what i'm saying is we can't let newforest hit because if it does that the fire will be uncontrollable in that forest and it will come out the other side all the way from 26 down to 36.\", 'which means oldtown and newtown will be buggered.  that’s accepting middle town.', 'yeah, that’s true.', 'yep. yeah ok.  yeah, you’re right', 'so, are we in agreement to spend most of our… centre of gravity of our units to kind of the southern side of the map, so in bottom half, centred some of the west and some on the south east? so on the bottom half.', \"yeah, i think so.  i'm looking at the wind direction, finding that doesn't change. it was coming from the west.  then anything to the west of newforest, its going to rip through in towards newtown.  newtown and oldtown fairly quickly. so alex one, i think you’re absolutely right.  we need to try and prevent or stop anything going near the newforest if we can help it.\", \"so we need to push this on a bit. i need firetruck_one, firetruck_two and firetruck_three for about two or three minutes. firetruck_four, firetruck_five, and firetruck_six go down to castleton and i'll come and join you as soon as i can. fire, fire, fire. fire instantly over in oscar_20 and oscar_29.\", 'just conscious that fire might spin in towards swanton as well. so castleton immediate priority and then switch fire to swanton.', \"i think what we've done it's made a massive change in the face of the enemy.\", 'winterfold is clear. winterfold is clear.', 'two_pax at firetruck_ seven in castleton.', 'understood.', 'one_pax at current location of firetruck_seven.', 'i think we need to stop chasing. firetruck_one and firetruck_two should push down towards swanton.', \"yeah. copy that. coming down now.  i'm just resupplying. i'll form a,  if you carry on fighting where you at castleton, i'm going to go down to the east of swanton and try and put a barrier up against it to protect swanton and hanley.\", \"i should be filling up with the water but it's not the moment.\", \"i think you're on it rather next to it. you need to be next to it.\", \"yeah,  you're right. refilling now.\", \"so firetruck_four, firetruck_five, and firetruck_six let's try and form a baseline to protect swanton. and then firetruck_one, firetruck_two, firetruck_three you just head directly east to stop the breckenhill.\", 'ok.', \"so firetruck_one, firetruck_two, firetruck_three head immediately east. in the vicinity of wyreforest and then firetruck_four, firetruck_five, firetruck_six let's form a baseline in swanton.\", \"we need to stop getting to underwood actually so we've got to stop it at whatever the village is that’s disappeared.\", 'on it.', 'yeah.', 'yes it is, yeah.', 'right. charlie charlie one, we need to stop this getting into the woods around underwood otherwise it will spread more than we can contain it.', \"yeah, i'm putting up northwesterly  barrier. you see where firetruck_one, firetruck_two and firetruck_three are?\", \"don't forget, it goes through the diagonals. it has to be an l_shaped block.\", 'moving . you’re nearly full.', 'won’t be in a second.', 'alpha is you move one to cover the westernmost, sorry easternmost fire.', 'on it.', 'i’d say standby for the fire lads because it seems to getting be a bit too quiet now.', 'fire’s out. relocating assets to castlehill.', \"let’s just do quick search of beaconhill as well. i don't think that's been cleared yet.\", 'so quick check guys, so malton is clear, right by the car park which is about a 120_pax,  winterfold is clear, trench wood is clear,  castlehill is clear and castleton is clear. so what we need to check is underwood, beaconhill, hanley, and swanton. over.', 'warning fire warning juliet_24, papa_delta_7.', 'that puts a hanley in there the firing line. suggest forming block north of wildwood. over.', 'yep. bringing them down there now, firetruck_two is on its way.', 'charlie charlie one, see where firetruck_one, firetruck_four and firetruck_five are going. if we’re able to block the fire,  in the same way that we dealt with the first one but properly then we should be able to stop in there and then. so, if we have two on line 24 on either side that will stop going anywhere. the one block north of firetruck_six and firetruck_five.']\n"
     ]
    }
   ],
   "source": [
    "print(sentences)   "
   ],
   "metadata": {
    "collapsed": false,
    "ExecuteTime": {
     "end_time": "2024-02-06T15:44:32.988601Z",
     "start_time": "2024-02-06T15:44:32.931524Z"
    }
   },
   "id": "7b4adda006307703",
   "execution_count": 7
  },
  {
   "cell_type": "code",
   "outputs": [
    {
     "name": "stdout",
     "output_type": "stream",
     "text": [
      "Statement of Situation\n",
      "Statement of Situation\n",
      "Statement of Situation\n",
      "Statement of Situation\n",
      "Not Classified\n",
      "Statement of Situation\n",
      "Statement of Situation\n",
      "Statement of Situation\n",
      "Statement of Action\n",
      "Statement of Intent\n",
      "Statement of Situation\n",
      "Statement of Situation\n",
      "Not Classified\n",
      "Statement of Situation\n",
      "Statement of Situation\n",
      "Not Classified\n",
      "Not Classified\n",
      "Statement of Intent\n",
      "Not Classified\n",
      "Statement of Intent\n",
      "Not Classified\n",
      "Statement of Intent\n",
      "Statement of Intent\n",
      "Statement of Prediction\n",
      "Not Classified\n",
      "Not Classified\n",
      "Statement of Intent\n",
      "Statement of Intent\n",
      "Statement of Intent\n",
      "Statement of Intent\n",
      "Statement of Prediction\n",
      "Statement of Situation\n",
      "Statement of Situation\n",
      "Not Classified\n",
      "Statement of Situation\n",
      "Statement of Intent\n",
      "Statement of Intent\n",
      "Statement of Situation\n",
      "Statement of Situation\n",
      "Statement of Action\n",
      "Statement of Intent\n",
      "Not Classified\n",
      "Statement of Intent\n",
      "Statement of Intent\n",
      "Statement of Action\n",
      "Statement of Situation\n",
      "Statement of Situation\n",
      "Statement of Intent\n",
      "Statement of Action\n",
      "Statement of Situation\n",
      "Statement of Situation\n",
      "Statement of Situation\n",
      "Statement of Intent\n",
      "Statement of Action\n",
      "Statement of Prediction\n",
      "Statement of Action\n",
      "Statement of Intent\n",
      "Statement of Intent\n",
      "Statement of Prediction\n",
      "Statement of Intent\n",
      "Statement of Action\n",
      "Statement of Intent\n"
     ]
    }
   ],
   "source": [
    "for l in labels: print(l)"
   ],
   "metadata": {
    "collapsed": false,
    "ExecuteTime": {
     "end_time": "2024-02-06T15:44:32.989586Z",
     "start_time": "2024-02-06T15:44:32.938979Z"
    }
   },
   "id": "2cb02451fa8e2efc",
   "execution_count": 8
  },
  {
   "cell_type": "markdown",
   "source": [
    "# Bert Embeddings"
   ],
   "metadata": {
    "collapsed": false
   },
   "id": "a87841b0f76ee765"
  },
  {
   "cell_type": "code",
   "outputs": [
    {
     "name": "stderr",
     "output_type": "stream",
     "text": [
      "Some weights of BertForSequenceClassification were not initialized from the model checkpoint at bert-base-uncased and are newly initialized: ['classifier.weight', 'classifier.bias']\n",
      "You should probably TRAIN this model on a down-stream task to be able to use it for predictions and inference.\n"
     ]
    }
   ],
   "source": [
    "from sklearn.model_selection import train_test_split\n",
    "from sklearn.metrics import accuracy_score, classification_report\n",
    "from transformers import BertTokenizer, BertForSequenceClassification\n",
    "from torch.utils.data import DataLoader, TensorDataset\n",
    "import torch\n",
    "from tqdm.notebook import tqdm\n",
    "\n",
    "# Split the dataset into training and testing sets\n",
    "X_train, X_test, y_train, y_test = train_test_split(sentences, labels, test_size=0.2, random_state=42)\n",
    "\n",
    "# Load pre-trained BERT model and tokenizer\n",
    "tokenizer = BertTokenizer.from_pretrained('bert-base-uncased')\n",
    "model = BertForSequenceClassification.from_pretrained('bert-base-uncased', num_labels=len(actual_labels))\n",
    "\n",
    "# Tokenize and convert the text data to input features\n",
    "def tokenize_text(text1):\n",
    "    return tokenizer.encode_plus(\n",
    "        text1,\n",
    "        add_special_tokens=True,\n",
    "        max_length=512,\n",
    "        padding='max_length',\n",
    "        truncation=True,\n",
    "        return_attention_mask=True,\n",
    "        return_tensors='pt'\n",
    "    )\n",
    "\n",
    "X_train_tokens = [tokenize_text(text) for text in X_train]\n",
    "X_test_tokens = [tokenize_text(text) for text in X_test]"
   ],
   "metadata": {
    "collapsed": false,
    "ExecuteTime": {
     "end_time": "2024-02-06T15:44:51.586659Z",
     "start_time": "2024-02-06T15:44:32.950925Z"
    }
   },
   "id": "2e8d840e73b184ec",
   "execution_count": 9
  },
  {
   "cell_type": "code",
   "outputs": [],
   "source": [
    "from sklearn.preprocessing import LabelEncoder\n",
    "\n",
    "# Encode labels using LabelEncoder\n",
    "label_encoder = LabelEncoder()\n",
    "y_train_encoded = label_encoder.fit_transform(y_train)\n",
    "y_test_encoded = label_encoder.transform(y_test)\n",
    "\n",
    "# Create DataLoader for training and testing data\n",
    "train_dataset = TensorDataset(torch.cat([item['input_ids'] for item in X_train_tokens]),\n",
    "                              torch.cat([item['attention_mask'] for item in X_train_tokens]),\n",
    "                              torch.tensor(y_train_encoded))  # Use the encoded labels\n",
    "test_dataset = TensorDataset(torch.cat([item['input_ids'] for item in X_test_tokens]),\n",
    "                             torch.cat([item['attention_mask'] for item in X_test_tokens]),\n",
    "                             torch.tensor(y_test_encoded))  # Use the encoded labels\n",
    "batch_size = 8\n",
    "train_loader = DataLoader(train_dataset, batch_size=batch_size, shuffle=True)\n",
    "test_loader = DataLoader(test_dataset, batch_size=batch_size, shuffle=False)\n",
    "\n",
    "# Set up GPU if available\n",
    "# device = torch.device(\"cuda\" if torch.cuda.is_available() else \"cpu\")\n",
    "device = torch.device(\"cpu\")\n",
    "model.to(device)\n",
    "\n",
    "# Set up optimizer and training parameters\n",
    "optimizer = torch.optim.AdamW(model.parameters(), lr=2e-5)\n",
    "num_epochs = 3"
   ],
   "metadata": {
    "collapsed": false,
    "ExecuteTime": {
     "end_time": "2024-02-06T15:44:52.063675Z",
     "start_time": "2024-02-06T15:44:51.587358Z"
    }
   },
   "id": "50578e838929e3b5",
   "execution_count": 10
  },
  {
   "cell_type": "code",
   "outputs": [
    {
     "data": {
      "text/plain": "Epoch 1/3:   0%|          | 0/7 [00:00<?, ?it/s]",
      "application/vnd.jupyter.widget-view+json": {
       "version_major": 2,
       "version_minor": 0,
       "model_id": "0b638cbb03a34d85872f7975c17f5dc4"
      }
     },
     "metadata": {},
     "output_type": "display_data"
    },
    {
     "data": {
      "text/plain": "Epoch 2/3:   0%|          | 0/7 [00:00<?, ?it/s]",
      "application/vnd.jupyter.widget-view+json": {
       "version_major": 2,
       "version_minor": 0,
       "model_id": "448ee76a18f6461abf4b36062110dffe"
      }
     },
     "metadata": {},
     "output_type": "display_data"
    },
    {
     "data": {
      "text/plain": "Epoch 3/3:   0%|          | 0/7 [00:00<?, ?it/s]",
      "application/vnd.jupyter.widget-view+json": {
       "version_major": 2,
       "version_minor": 0,
       "model_id": "8e65013876b04081a3ea3d5c3d37ddf9"
      }
     },
     "metadata": {},
     "output_type": "display_data"
    }
   ],
   "source": [
    "# Training loop\n",
    "for epoch in range(num_epochs):\n",
    "    model.train()\n",
    "    train_loss = 0.0\n",
    "    for batch in tqdm(train_loader, desc=f'Epoch {epoch + 1}/{num_epochs}'):\n",
    "        input_ids, attention_mask, labels = batch\n",
    "        input_ids, attention_mask, labels = input_ids.to(device), attention_mask.to(device), labels.to(device)\n",
    "\n",
    "        optimizer.zero_grad()\n",
    "\n",
    "        outputs = model(input_ids, attention_mask=attention_mask, labels=labels)\n",
    "        loss = outputs.loss\n",
    "        train_loss += loss.item()\n",
    "\n",
    "        loss.backward()\n",
    "        optimizer.step()\n",
    "\n",
    "    avg_train_loss = train_loss / len(train_loader)"
   ],
   "metadata": {
    "collapsed": false,
    "ExecuteTime": {
     "end_time": "2024-02-06T15:57:40.724426Z",
     "start_time": "2024-02-06T15:44:52.062618Z"
    }
   },
   "id": "f7b5cc36eb50cdb4",
   "execution_count": 11
  },
  {
   "cell_type": "code",
   "outputs": [
    {
     "data": {
      "text/plain": "Validation:   0%|          | 0/2 [00:00<?, ?it/s]",
      "application/vnd.jupyter.widget-view+json": {
       "version_major": 2,
       "version_minor": 0,
       "model_id": "fc37143bfc3b4dbeb2ba40670838110c"
      }
     },
     "metadata": {},
     "output_type": "display_data"
    },
    {
     "name": "stdout",
     "output_type": "stream",
     "text": [
      "Epoch 3/3 - Avg. Train Loss: 1.5778 - Avg. Validation Loss: 1.6484\n",
      "Accuracy: 0.5384615384615384\n",
      "Classification Report:\n",
      "               precision    recall  f1-score   support\n",
      "\n",
      "           0       1.00      0.33      0.50         3\n",
      "           1       0.00      0.00      0.00         1\n",
      "           2       0.67      0.80      0.73         5\n",
      "           3       0.00      0.00      0.00         1\n",
      "           4       0.33      0.67      0.44         3\n",
      "\n",
      "    accuracy                           0.54        13\n",
      "   macro avg       0.40      0.36      0.33        13\n",
      "weighted avg       0.56      0.54      0.50        13\n"
     ]
    },
    {
     "name": "stderr",
     "output_type": "stream",
     "text": [
      "/Users/reem/Desktop/University/Year4/Final_Year_Project/Speech_Acts_Classification/venv/lib/python3.11/site-packages/sklearn/metrics/_classification.py:1471: UndefinedMetricWarning: Precision and F-score are ill-defined and being set to 0.0 in labels with no predicted samples. Use `zero_division` parameter to control this behavior.\n",
      "  _warn_prf(average, modifier, msg_start, len(result))\n",
      "/Users/reem/Desktop/University/Year4/Final_Year_Project/Speech_Acts_Classification/venv/lib/python3.11/site-packages/sklearn/metrics/_classification.py:1471: UndefinedMetricWarning: Precision and F-score are ill-defined and being set to 0.0 in labels with no predicted samples. Use `zero_division` parameter to control this behavior.\n",
      "  _warn_prf(average, modifier, msg_start, len(result))\n",
      "/Users/reem/Desktop/University/Year4/Final_Year_Project/Speech_Acts_Classification/venv/lib/python3.11/site-packages/sklearn/metrics/_classification.py:1471: UndefinedMetricWarning: Precision and F-score are ill-defined and being set to 0.0 in labels with no predicted samples. Use `zero_division` parameter to control this behavior.\n",
      "  _warn_prf(average, modifier, msg_start, len(result))\n"
     ]
    }
   ],
   "source": [
    "# Validation loop\n",
    "model.eval()\n",
    "val_loss = 0.0\n",
    "predictions, true_labels = [], []\n",
    "\n",
    "with torch.no_grad():\n",
    "    for batch in tqdm(test_loader, desc=f'Validation'):\n",
    "        input_ids, attention_mask, labels = batch\n",
    "        input_ids, attention_mask, labels = input_ids.to(device), attention_mask.to(device), labels.to(device)\n",
    "\n",
    "        outputs = model(input_ids, attention_mask=attention_mask, labels=labels)\n",
    "        loss = outputs.loss\n",
    "        val_loss += loss.item()\n",
    "\n",
    "        logits = outputs.logits\n",
    "        predictions.extend(torch.argmax(logits, dim=1).tolist())\n",
    "        true_labels.extend(labels.tolist())\n",
    "\n",
    "avg_val_loss = val_loss / len(test_loader)\n",
    "\n",
    "accuracy = accuracy_score(true_labels, predictions)\n",
    "report = classification_report(true_labels, predictions)\n",
    "\n",
    "print(f\"Epoch {epoch + 1}/{num_epochs} - Avg. Train Loss: {avg_train_loss:.4f} - Avg. Validation Loss: {avg_val_loss:.4f}\")\n",
    "print(f\"Accuracy: {accuracy}\")\n",
    "print(\"Classification Report:\\n\", report)"
   ],
   "metadata": {
    "collapsed": false,
    "ExecuteTime": {
     "end_time": "2024-02-06T15:58:00.634308Z",
     "start_time": "2024-02-06T15:57:40.739404Z"
    }
   },
   "id": "446bb37bf00e85fe",
   "execution_count": 12
  },
  {
   "cell_type": "code",
   "outputs": [],
   "source": [],
   "metadata": {
    "collapsed": false,
    "ExecuteTime": {
     "end_time": "2024-02-06T15:58:00.653037Z",
     "start_time": "2024-02-06T15:58:00.636134Z"
    }
   },
   "id": "4aa1ff4451fbc67",
   "execution_count": 12
  }
 ],
 "metadata": {
  "kernelspec": {
   "display_name": "Python 3",
   "language": "python",
   "name": "python3"
  },
  "language_info": {
   "codemirror_mode": {
    "name": "ipython",
    "version": 2
   },
   "file_extension": ".py",
   "mimetype": "text/x-python",
   "name": "python",
   "nbconvert_exporter": "python",
   "pygments_lexer": "ipython2",
   "version": "2.7.6"
  }
 },
 "nbformat": 4,
 "nbformat_minor": 5
}
